{
  "nbformat": 4,
  "nbformat_minor": 0,
  "metadata": {
    "colab": {
      "name": "Complete Text Processing1.ipynb",
      "provenance": [],
      "collapsed_sections": []
    },
    "kernelspec": {
      "name": "python3",
      "display_name": "Python 3"
    }
  },
  "cells": [
    {
      "cell_type": "code",
      "metadata": {
        "id": "6v8IaR1umVzC"
      },
      "source": [
        "General Feature Extraction\r\n",
        "1.File Loading\r\n",
        "2.Word Counts\r\n",
        "3.Characters Count\r\n",
        "4.Average Characters Per Word\r\n",
        "5.Stop Words Count\r\n",
        "6.Count # Hash Tags,and @Mentions\r\n",
        "7.If numeric digits are present in the tweets\r\n",
        "8.Upper Case word counts"
      ],
      "execution_count": null,
      "outputs": []
    },
    {
      "cell_type": "markdown",
      "metadata": {
        "id": "RH5a7EeMK3pR"
      },
      "source": [
        "**File Loading**"
      ]
    },
    {
      "cell_type": "code",
      "metadata": {
        "id": "tUGp2UO52UXR"
      },
      "source": [
        "import pandas as pd\r\n",
        "import numpy as np\r\n",
        "import spacy"
      ],
      "execution_count": null,
      "outputs": []
    },
    {
      "cell_type": "code",
      "metadata": {
        "id": "Aa_E-Ozs26gJ"
      },
      "source": [
        "from spacy.lang.en.stop_words import STOP_WORDS as stopwords"
      ],
      "execution_count": null,
      "outputs": []
    },
    {
      "cell_type": "code",
      "metadata": {
        "id": "ZuZURer7JLLL"
      },
      "source": [
        "df=pd.read_csv('https://raw.githubusercontent.com/laxmimerit/twitter-data/master/twitt30k.csv',encoding='latin-1')"
      ],
      "execution_count": null,
      "outputs": []
    },
    {
      "cell_type": "code",
      "metadata": {
        "colab": {
          "base_uri": "https://localhost:8080/",
          "height": 204
        },
        "id": "wFYNUN5NJk48",
        "outputId": "e345b651-f09c-4247-9e10-2411742c07aa"
      },
      "source": [
        "df.head()"
      ],
      "execution_count": null,
      "outputs": [
        {
          "output_type": "execute_result",
          "data": {
            "text/html": [
              "<div>\n",
              "<style scoped>\n",
              "    .dataframe tbody tr th:only-of-type {\n",
              "        vertical-align: middle;\n",
              "    }\n",
              "\n",
              "    .dataframe tbody tr th {\n",
              "        vertical-align: top;\n",
              "    }\n",
              "\n",
              "    .dataframe thead th {\n",
              "        text-align: right;\n",
              "    }\n",
              "</style>\n",
              "<table border=\"1\" class=\"dataframe\">\n",
              "  <thead>\n",
              "    <tr style=\"text-align: right;\">\n",
              "      <th></th>\n",
              "      <th>twitts</th>\n",
              "      <th>sentiment</th>\n",
              "    </tr>\n",
              "  </thead>\n",
              "  <tbody>\n",
              "    <tr>\n",
              "      <th>0</th>\n",
              "      <td>@robbiebronniman Sounds like a great night.</td>\n",
              "      <td>1</td>\n",
              "    </tr>\n",
              "    <tr>\n",
              "      <th>1</th>\n",
              "      <td>Damn the person who stolde my wallet !!!!!  Ma...</td>\n",
              "      <td>1</td>\n",
              "    </tr>\n",
              "    <tr>\n",
              "      <th>2</th>\n",
              "      <td>Greetings from the piano bench  (photo) http:/...</td>\n",
              "      <td>1</td>\n",
              "    </tr>\n",
              "    <tr>\n",
              "      <th>3</th>\n",
              "      <td>@drewryanscott i love it!! i love you!! haha f...</td>\n",
              "      <td>1</td>\n",
              "    </tr>\n",
              "    <tr>\n",
              "      <th>4</th>\n",
              "      <td>@kissthestars Pretty pretty pretty please, pak...</td>\n",
              "      <td>0</td>\n",
              "    </tr>\n",
              "  </tbody>\n",
              "</table>\n",
              "</div>"
            ],
            "text/plain": [
              "                                              twitts  sentiment\n",
              "0       @robbiebronniman Sounds like a great night.           1\n",
              "1  Damn the person who stolde my wallet !!!!!  Ma...          1\n",
              "2  Greetings from the piano bench  (photo) http:/...          1\n",
              "3  @drewryanscott i love it!! i love you!! haha f...          1\n",
              "4  @kissthestars Pretty pretty pretty please, pak...          0"
            ]
          },
          "metadata": {
            "tags": []
          },
          "execution_count": 15
        }
      ]
    },
    {
      "cell_type": "code",
      "metadata": {
        "colab": {
          "base_uri": "https://localhost:8080/"
        },
        "id": "eb0UrFpjKTid",
        "outputId": "7a208fb7-6465-4897-e783-cafe17764e59"
      },
      "source": [
        "df['sentiment'].value_counts()"
      ],
      "execution_count": null,
      "outputs": [
        {
          "output_type": "execute_result",
          "data": {
            "text/plain": [
              "1    15000\n",
              "0    15000\n",
              "Name: sentiment, dtype: int64"
            ]
          },
          "metadata": {
            "tags": []
          },
          "execution_count": 16
        }
      ]
    },
    {
      "cell_type": "markdown",
      "metadata": {
        "id": "6Rp2C0u8K6gT"
      },
      "source": [
        "**Word Counts**"
      ]
    },
    {
      "cell_type": "code",
      "metadata": {
        "colab": {
          "base_uri": "https://localhost:8080/"
        },
        "id": "3WQI3SwHK7mO",
        "outputId": "60b6bd46-0627-4da5-8f67-df83b166597e"
      },
      "source": [
        "#How many words are in each of the sentences\r\n",
        "len('this is text'.split())"
      ],
      "execution_count": null,
      "outputs": [
        {
          "output_type": "execute_result",
          "data": {
            "text/plain": [
              "3"
            ]
          },
          "metadata": {
            "tags": []
          },
          "execution_count": 17
        }
      ]
    },
    {
      "cell_type": "code",
      "metadata": {
        "id": "tpXsuKz5fmJ7"
      },
      "source": [
        "df['word_counts']=df['twitts'].apply(lambda x:len(str(x).split()))"
      ],
      "execution_count": null,
      "outputs": []
    },
    {
      "cell_type": "code",
      "metadata": {
        "colab": {
          "base_uri": "https://localhost:8080/",
          "height": 204
        },
        "id": "XwnvsGo0f4As",
        "outputId": "0ea87928-e8fb-4563-ddbc-8bdffb398d61"
      },
      "source": [
        "df.sample(5)"
      ],
      "execution_count": null,
      "outputs": [
        {
          "output_type": "execute_result",
          "data": {
            "text/html": [
              "<div>\n",
              "<style scoped>\n",
              "    .dataframe tbody tr th:only-of-type {\n",
              "        vertical-align: middle;\n",
              "    }\n",
              "\n",
              "    .dataframe tbody tr th {\n",
              "        vertical-align: top;\n",
              "    }\n",
              "\n",
              "    .dataframe thead th {\n",
              "        text-align: right;\n",
              "    }\n",
              "</style>\n",
              "<table border=\"1\" class=\"dataframe\">\n",
              "  <thead>\n",
              "    <tr style=\"text-align: right;\">\n",
              "      <th></th>\n",
              "      <th>twitts</th>\n",
              "      <th>sentiment</th>\n",
              "      <th>word_counts</th>\n",
              "    </tr>\n",
              "  </thead>\n",
              "  <tbody>\n",
              "    <tr>\n",
              "      <th>22993</th>\n",
              "      <td>Is in the class! But he's very sleepy! I'm afr...</td>\n",
              "      <td>1</td>\n",
              "      <td>17</td>\n",
              "    </tr>\n",
              "    <tr>\n",
              "      <th>21754</th>\n",
              "      <td>@Nicxo god, thats bad  btw could you go on msn...</td>\n",
              "      <td>0</td>\n",
              "      <td>13</td>\n",
              "    </tr>\n",
              "    <tr>\n",
              "      <th>3548</th>\n",
              "      <td>Off for a picnic in the park  all i have to do...</td>\n",
              "      <td>1</td>\n",
              "      <td>16</td>\n",
              "    </tr>\n",
              "    <tr>\n",
              "      <th>4380</th>\n",
              "      <td>Omg. I hate when I'm trying to go to sleep and...</td>\n",
              "      <td>0</td>\n",
              "      <td>28</td>\n",
              "    </tr>\n",
              "    <tr>\n",
              "      <th>1326</th>\n",
              "      <td>@chrismatth Wow! It must have been really inte...</td>\n",
              "      <td>1</td>\n",
              "      <td>23</td>\n",
              "    </tr>\n",
              "  </tbody>\n",
              "</table>\n",
              "</div>"
            ],
            "text/plain": [
              "                                                  twitts  ...  word_counts\n",
              "22993  Is in the class! But he's very sleepy! I'm afr...  ...           17\n",
              "21754  @Nicxo god, thats bad  btw could you go on msn...  ...           13\n",
              "3548   Off for a picnic in the park  all i have to do...  ...           16\n",
              "4380   Omg. I hate when I'm trying to go to sleep and...  ...           28\n",
              "1326   @chrismatth Wow! It must have been really inte...  ...           23\n",
              "\n",
              "[5 rows x 3 columns]"
            ]
          },
          "metadata": {
            "tags": []
          },
          "execution_count": 19
        }
      ]
    },
    {
      "cell_type": "code",
      "metadata": {
        "colab": {
          "base_uri": "https://localhost:8080/"
        },
        "id": "ZK4f9lMTgE7G",
        "outputId": "fe169280-afcf-4b4c-f9d9-b1f5e8076e1e"
      },
      "source": [
        "df['word_counts'].max()"
      ],
      "execution_count": null,
      "outputs": [
        {
          "output_type": "execute_result",
          "data": {
            "text/plain": [
              "34"
            ]
          },
          "metadata": {
            "tags": []
          },
          "execution_count": 20
        }
      ]
    },
    {
      "cell_type": "code",
      "metadata": {
        "colab": {
          "base_uri": "https://localhost:8080/"
        },
        "id": "mo3tMTGAgFOM",
        "outputId": "18a5d515-241d-4b4c-bacf-48e7e95568b8"
      },
      "source": [
        "df['word_counts'].min() #tweet 1 word"
      ],
      "execution_count": null,
      "outputs": [
        {
          "output_type": "execute_result",
          "data": {
            "text/plain": [
              "1"
            ]
          },
          "metadata": {
            "tags": []
          },
          "execution_count": 21
        }
      ]
    },
    {
      "cell_type": "code",
      "metadata": {
        "colab": {
          "base_uri": "https://localhost:8080/",
          "height": 419
        },
        "id": "zY1bjHEAgRAx",
        "outputId": "1dd32d23-abb6-4fb9-f7d9-ec29d1ce9ab0"
      },
      "source": [
        "df[df['word_counts']==1]"
      ],
      "execution_count": null,
      "outputs": [
        {
          "output_type": "execute_result",
          "data": {
            "text/html": [
              "<div>\n",
              "<style scoped>\n",
              "    .dataframe tbody tr th:only-of-type {\n",
              "        vertical-align: middle;\n",
              "    }\n",
              "\n",
              "    .dataframe tbody tr th {\n",
              "        vertical-align: top;\n",
              "    }\n",
              "\n",
              "    .dataframe thead th {\n",
              "        text-align: right;\n",
              "    }\n",
              "</style>\n",
              "<table border=\"1\" class=\"dataframe\">\n",
              "  <thead>\n",
              "    <tr style=\"text-align: right;\">\n",
              "      <th></th>\n",
              "      <th>twitts</th>\n",
              "      <th>sentiment</th>\n",
              "      <th>word_counts</th>\n",
              "    </tr>\n",
              "  </thead>\n",
              "  <tbody>\n",
              "    <tr>\n",
              "      <th>10</th>\n",
              "      <td>must.go.to.bed.early!</td>\n",
              "      <td>0</td>\n",
              "      <td>1</td>\n",
              "    </tr>\n",
              "    <tr>\n",
              "      <th>925</th>\n",
              "      <td>Headache</td>\n",
              "      <td>0</td>\n",
              "      <td>1</td>\n",
              "    </tr>\n",
              "    <tr>\n",
              "      <th>1035</th>\n",
              "      <td>Toothache</td>\n",
              "      <td>0</td>\n",
              "      <td>1</td>\n",
              "    </tr>\n",
              "    <tr>\n",
              "      <th>1189</th>\n",
              "      <td>Toothache!!!</td>\n",
              "      <td>0</td>\n",
              "      <td>1</td>\n",
              "    </tr>\n",
              "    <tr>\n",
              "      <th>1205</th>\n",
              "      <td>headache</td>\n",
              "      <td>0</td>\n",
              "      <td>1</td>\n",
              "    </tr>\n",
              "    <tr>\n",
              "      <th>...</th>\n",
              "      <td>...</td>\n",
              "      <td>...</td>\n",
              "      <td>...</td>\n",
              "    </tr>\n",
              "    <tr>\n",
              "      <th>28588</th>\n",
              "      <td>hangover</td>\n",
              "      <td>0</td>\n",
              "      <td>1</td>\n",
              "    </tr>\n",
              "    <tr>\n",
              "      <th>28733</th>\n",
              "      <td>Headacheeeee</td>\n",
              "      <td>0</td>\n",
              "      <td>1</td>\n",
              "    </tr>\n",
              "    <tr>\n",
              "      <th>28852</th>\n",
              "      <td>@mr_mustash</td>\n",
              "      <td>0</td>\n",
              "      <td>1</td>\n",
              "    </tr>\n",
              "    <tr>\n",
              "      <th>29042</th>\n",
              "      <td>Goodmorning</td>\n",
              "      <td>1</td>\n",
              "      <td>1</td>\n",
              "    </tr>\n",
              "    <tr>\n",
              "      <th>29171</th>\n",
              "      <td>whatever</td>\n",
              "      <td>0</td>\n",
              "      <td>1</td>\n",
              "    </tr>\n",
              "  </tbody>\n",
              "</table>\n",
              "<p>127 rows × 3 columns</p>\n",
              "</div>"
            ],
            "text/plain": [
              "                       twitts  sentiment  word_counts\n",
              "10     must.go.to.bed.early!           0            1\n",
              "925                 Headache           0            1\n",
              "1035               Toothache           0            1\n",
              "1189            Toothache!!!           0            1\n",
              "1205                headache           0            1\n",
              "...                       ...        ...          ...\n",
              "28588                hangover          0            1\n",
              "28733           Headacheeeee           0            1\n",
              "28852            @mr_mustash           0            1\n",
              "29042            Goodmorning           1            1\n",
              "29171                whatever          0            1\n",
              "\n",
              "[127 rows x 3 columns]"
            ]
          },
          "metadata": {
            "tags": []
          },
          "execution_count": 22
        }
      ]
    },
    {
      "cell_type": "markdown",
      "metadata": {
        "id": "c8HCjmbJK-CB"
      },
      "source": [
        "**Characters Count**"
      ]
    },
    {
      "cell_type": "code",
      "metadata": {
        "colab": {
          "base_uri": "https://localhost:8080/"
        },
        "id": "FceT8yVqK_XM",
        "outputId": "906bc0d4-26f1-4a0c-8c9d-bf57a706ad89"
      },
      "source": [
        "df['char_counts']=df['twitts'].apply(lambda x:len(x))\r\n",
        "df['char_counts'].head()"
      ],
      "execution_count": null,
      "outputs": [
        {
          "output_type": "execute_result",
          "data": {
            "text/plain": [
              "0     44\n",
              "1     92\n",
              "2     64\n",
              "3    135\n",
              "4    131\n",
              "Name: char_counts, dtype: int64"
            ]
          },
          "metadata": {
            "tags": []
          },
          "execution_count": 23
        }
      ]
    },
    {
      "cell_type": "code",
      "metadata": {
        "colab": {
          "base_uri": "https://localhost:8080/"
        },
        "id": "arGTY7l4p9CU",
        "outputId": "91ab7b35-11e6-4763-982c-3249bdb94647"
      },
      "source": [
        "len('this is') # if count word count including space"
      ],
      "execution_count": null,
      "outputs": [
        {
          "output_type": "execute_result",
          "data": {
            "text/plain": [
              "7"
            ]
          },
          "metadata": {
            "tags": []
          },
          "execution_count": 24
        }
      ]
    },
    {
      "cell_type": "code",
      "metadata": {
        "id": "F8zu_26NqM4s"
      },
      "source": [
        "def char_counts(x):\r\n",
        "  s=x.split()\r\n",
        "  x=''.join(s)\r\n",
        "  return len(x)"
      ],
      "execution_count": null,
      "outputs": []
    },
    {
      "cell_type": "code",
      "metadata": {
        "colab": {
          "base_uri": "https://localhost:8080/"
        },
        "id": "BNgvWF8yrQYh",
        "outputId": "179dedfc-faff-46f4-acee-c927cbc1fc9e"
      },
      "source": [
        "char_counts('this is')"
      ],
      "execution_count": null,
      "outputs": [
        {
          "output_type": "execute_result",
          "data": {
            "text/plain": [
              "6"
            ]
          },
          "metadata": {
            "tags": []
          },
          "execution_count": 26
        }
      ]
    },
    {
      "cell_type": "code",
      "metadata": {
        "id": "gkMoCm59sDE_"
      },
      "source": [
        "df['char_counts']=df['twitts'].apply(lambda x:char_counts(str(x)))"
      ],
      "execution_count": null,
      "outputs": []
    },
    {
      "cell_type": "code",
      "metadata": {
        "colab": {
          "base_uri": "https://localhost:8080/",
          "height": 204
        },
        "id": "92bXPaiRsMdP",
        "outputId": "9e679173-da94-4c16-ec9f-9cb712e9e195"
      },
      "source": [
        "df.sample(5)"
      ],
      "execution_count": null,
      "outputs": [
        {
          "output_type": "execute_result",
          "data": {
            "text/html": [
              "<div>\n",
              "<style scoped>\n",
              "    .dataframe tbody tr th:only-of-type {\n",
              "        vertical-align: middle;\n",
              "    }\n",
              "\n",
              "    .dataframe tbody tr th {\n",
              "        vertical-align: top;\n",
              "    }\n",
              "\n",
              "    .dataframe thead th {\n",
              "        text-align: right;\n",
              "    }\n",
              "</style>\n",
              "<table border=\"1\" class=\"dataframe\">\n",
              "  <thead>\n",
              "    <tr style=\"text-align: right;\">\n",
              "      <th></th>\n",
              "      <th>twitts</th>\n",
              "      <th>sentiment</th>\n",
              "      <th>word_counts</th>\n",
              "      <th>char_counts</th>\n",
              "    </tr>\n",
              "  </thead>\n",
              "  <tbody>\n",
              "    <tr>\n",
              "      <th>27838</th>\n",
              "      <td>Govt's Not Getting The Web: #digitalbritain sigh</td>\n",
              "      <td>0</td>\n",
              "      <td>7</td>\n",
              "      <td>42</td>\n",
              "    </tr>\n",
              "    <tr>\n",
              "      <th>1559</th>\n",
              "      <td>I want to go to Jamaica. Kim makes it sound so...</td>\n",
              "      <td>1</td>\n",
              "      <td>18</td>\n",
              "      <td>65</td>\n",
              "    </tr>\n",
              "    <tr>\n",
              "      <th>28890</th>\n",
              "      <td>@deighe_d It's worth a try</td>\n",
              "      <td>1</td>\n",
              "      <td>5</td>\n",
              "      <td>22</td>\n",
              "    </tr>\n",
              "    <tr>\n",
              "      <th>12817</th>\n",
              "      <td>Getting ready to go see my Grandad ... I hate ...</td>\n",
              "      <td>0</td>\n",
              "      <td>19</td>\n",
              "      <td>77</td>\n",
              "    </tr>\n",
              "    <tr>\n",
              "      <th>17897</th>\n",
              "      <td>@kellysue Sleep well, hopefully your bedroom i...</td>\n",
              "      <td>1</td>\n",
              "      <td>18</td>\n",
              "      <td>80</td>\n",
              "    </tr>\n",
              "  </tbody>\n",
              "</table>\n",
              "</div>"
            ],
            "text/plain": [
              "                                                  twitts  ...  char_counts\n",
              "27838  Govt's Not Getting The Web: #digitalbritain sigh   ...           42\n",
              "1559   I want to go to Jamaica. Kim makes it sound so...  ...           65\n",
              "28890                        @deighe_d It's worth a try   ...           22\n",
              "12817  Getting ready to go see my Grandad ... I hate ...  ...           77\n",
              "17897  @kellysue Sleep well, hopefully your bedroom i...  ...           80\n",
              "\n",
              "[5 rows x 4 columns]"
            ]
          },
          "metadata": {
            "tags": []
          },
          "execution_count": 28
        }
      ]
    },
    {
      "cell_type": "markdown",
      "metadata": {
        "id": "pcoveZF7vZdT"
      },
      "source": [
        "**Average Word Length**"
      ]
    },
    {
      "cell_type": "code",
      "metadata": {
        "id": "LkvEA8iPvjWZ"
      },
      "source": [
        "x='this is' #6/2=3,totalchar/totalword"
      ],
      "execution_count": null,
      "outputs": []
    },
    {
      "cell_type": "code",
      "metadata": {
        "id": "4obRQh-ox_4L"
      },
      "source": [
        "df['avg_word_len']= df['char_counts']/df['word_counts']"
      ],
      "execution_count": null,
      "outputs": []
    },
    {
      "cell_type": "code",
      "metadata": {
        "colab": {
          "base_uri": "https://localhost:8080/",
          "height": 173
        },
        "id": "KXOPGkOFyN6N",
        "outputId": "6cda2c40-42ee-4732-f084-ebaf9e9a70d9"
      },
      "source": [
        "df.sample(4)"
      ],
      "execution_count": null,
      "outputs": [
        {
          "output_type": "execute_result",
          "data": {
            "text/html": [
              "<div>\n",
              "<style scoped>\n",
              "    .dataframe tbody tr th:only-of-type {\n",
              "        vertical-align: middle;\n",
              "    }\n",
              "\n",
              "    .dataframe tbody tr th {\n",
              "        vertical-align: top;\n",
              "    }\n",
              "\n",
              "    .dataframe thead th {\n",
              "        text-align: right;\n",
              "    }\n",
              "</style>\n",
              "<table border=\"1\" class=\"dataframe\">\n",
              "  <thead>\n",
              "    <tr style=\"text-align: right;\">\n",
              "      <th></th>\n",
              "      <th>twitts</th>\n",
              "      <th>sentiment</th>\n",
              "      <th>word_counts</th>\n",
              "      <th>char_counts</th>\n",
              "      <th>avg_word_len</th>\n",
              "    </tr>\n",
              "  </thead>\n",
              "  <tbody>\n",
              "    <tr>\n",
              "      <th>4484</th>\n",
              "      <td>I love my niece, I really do but I want her to...</td>\n",
              "      <td>0</td>\n",
              "      <td>25</td>\n",
              "      <td>81</td>\n",
              "      <td>3.240000</td>\n",
              "    </tr>\n",
              "    <tr>\n",
              "      <th>26270</th>\n",
              "      <td>Ha! Wireless from main house reaches all the w...</td>\n",
              "      <td>1</td>\n",
              "      <td>25</td>\n",
              "      <td>111</td>\n",
              "      <td>4.440000</td>\n",
              "    </tr>\n",
              "    <tr>\n",
              "      <th>29283</th>\n",
              "      <td>@BonnieWooo hi bonnie! big fan here! it's good...</td>\n",
              "      <td>1</td>\n",
              "      <td>22</td>\n",
              "      <td>93</td>\n",
              "      <td>4.227273</td>\n",
              "    </tr>\n",
              "    <tr>\n",
              "      <th>29363</th>\n",
              "      <td>Dailybooth was getting lonely. Talk about a hu...</td>\n",
              "      <td>1</td>\n",
              "      <td>13</td>\n",
              "      <td>85</td>\n",
              "      <td>6.538462</td>\n",
              "    </tr>\n",
              "  </tbody>\n",
              "</table>\n",
              "</div>"
            ],
            "text/plain": [
              "                                                  twitts  ...  avg_word_len\n",
              "4484   I love my niece, I really do but I want her to...  ...      3.240000\n",
              "26270  Ha! Wireless from main house reaches all the w...  ...      4.440000\n",
              "29283  @BonnieWooo hi bonnie! big fan here! it's good...  ...      4.227273\n",
              "29363  Dailybooth was getting lonely. Talk about a hu...  ...      6.538462\n",
              "\n",
              "[4 rows x 5 columns]"
            ]
          },
          "metadata": {
            "tags": []
          },
          "execution_count": 31
        }
      ]
    },
    {
      "cell_type": "markdown",
      "metadata": {
        "id": "YLODfD4Xylhn"
      },
      "source": [
        "**StopWords Count**"
      ]
    },
    {
      "cell_type": "code",
      "metadata": {
        "colab": {
          "base_uri": "https://localhost:8080/"
        },
        "id": "hDF4ePtHyrBE",
        "outputId": "dd858e7d-818a-4ef2-8df6-59509f17e419"
      },
      "source": [
        "print(stopwords)"
      ],
      "execution_count": null,
      "outputs": [
        {
          "output_type": "stream",
          "text": [
            "{'beyond', 'being', 'every', 'few', 'fifty', 'how', \"'m\", 'might', 'something', 'any', 'did', 'hereupon', 'elsewhere', 'against', 'latterly', 'sometimes', 'ever', 'not', 'the', 'call', 'one', 'is', 'such', 'although', 'they', 'us', 'used', 'whom', 'n’t', 'sixty', 'onto', 'ours', 'everything', 'rather', 'who', 'that', \"'ve\", 'him', 'he', 'part', 'as', 'others', 'put', 'herself', 'anyhow', 'sometime', 'because', 'all', 'its', 'amongst', 'per', 'thence', '‘m', 'nevertheless', 'very', 'where', 'several', 'beside', 'three', 'two', 'may', 'down', 'hence', 'are', 'mostly', 'must', 'indeed', 'should', 'your', '’re', 'also', 'somewhere', 'yourselves', '’ve', 'within', 'which', 'until', 'a', 'seemed', 'do', 'therefore', 'next', 'whatever', 'last', 'or', 'during', 'up', 'now', 'much', '‘s', 'between', 'about', 'cannot', 'himself', 'there', 'upon', 'each', 'anywhere', 'below', 'further', 'latter', 'out', 'eight', 'itself', 'side', 'hers', 'become', 'here', 'my', 'six', 'via', 'therein', 'just', 'be', 'take', 'without', 'while', 'back', 'serious', 'twenty', 'meanwhile', 'other', 'once', 'except', 'since', 'thereafter', 'many', 'forty', 'however', 'those', \"'d\", 'themselves', 'across', 'unless', '‘ve', 'least', \"'re\", 'former', '’m', 'front', 'full', 'anyone', 'amount', 'made', 'move', 'done', 'still', 'twelve', 'whereby', 'give', '‘d', 'whither', 'n‘t', '’s', 'ca', 'empty', 'show', 'almost', 'hereby', 'nor', 'ten', 'whence', 'yours', 'otherwise', 'nothing', 'make', 'through', 'together', 'at', 'around', 'becoming', 'formerly', 'enough', 'seem', 'besides', 'by', 'nobody', 'toward', 'always', 'in', 'their', 'above', 'and', 'whereafter', 'whether', 'can', 'would', 'had', 'again', 'everywhere', 'neither', 'off', 'seems', 'eleven', 'noone', 'thereupon', 'before', 'this', 'so', 'i', 'an', 'you', 'over', 'never', \"n't\", 'moreover', 'towards', 'them', 'well', 'whose', 'various', 'our', 'too', 'could', 'throughout', 'thru', 'her', 'already', 'less', 'has', 'whenever', 'nine', 'it', 'along', 'more', 'both', 'me', 'anything', 'same', 'to', 'everyone', 'keep', 'often', 'than', 'third', 'whereas', 'four', '’d', '‘re', 'whole', 'either', 'bottom', 'these', '‘ll', 'most', 'get', 'though', 'does', 'was', 'why', \"'s\", 'were', 'myself', 'have', 'namely', 'became', 'what', 'go', 'alone', 'no', 'really', 'none', 're', 'after', 'another', 'even', 'ourselves', 'but', 'seeming', 'name', 'hereafter', 'own', 'please', 'of', 'into', 'only', 'top', 'been', 'will', 'some', 'am', 'five', 'his', 'she', 'wherever', 'whoever', 'yet', 'behind', 'see', 'using', 'perhaps', 'first', 'when', 'due', 'say', 'mine', 'then', 'else', \"'ll\", 'from', 'thereby', 'beforehand', '’ll', 'hundred', 'nowhere', 'on', 'somehow', 'thus', 'wherein', 'under', 'someone', 'whereupon', 'anyway', 'if', 'becomes', 'herein', 'yourself', 'fifteen', 'regarding', 'we', 'doing', 'among', 'for', 'with', 'afterwards', 'quite'}\n"
          ],
          "name": "stdout"
        }
      ]
    },
    {
      "cell_type": "code",
      "metadata": {
        "colab": {
          "base_uri": "https://localhost:8080/"
        },
        "id": "kvYxqXUayxef",
        "outputId": "2aa36f5a-17f7-439b-ad15-c7e7b3fee50d"
      },
      "source": [
        "len(stopwords)"
      ],
      "execution_count": null,
      "outputs": [
        {
          "output_type": "execute_result",
          "data": {
            "text/plain": [
              "326"
            ]
          },
          "metadata": {
            "tags": []
          },
          "execution_count": 33
        }
      ]
    },
    {
      "cell_type": "code",
      "metadata": {
        "id": "g74Qq-9FzICI",
        "colab": {
          "base_uri": "https://localhost:8080/"
        },
        "outputId": "399d147a-f857-4065-dc14-d861da094243"
      },
      "source": [
        "x='this is the text data'\r\n",
        "x.split()"
      ],
      "execution_count": null,
      "outputs": [
        {
          "output_type": "execute_result",
          "data": {
            "text/plain": [
              "['this', 'is', 'the', 'text', 'data']"
            ]
          },
          "metadata": {
            "tags": []
          },
          "execution_count": 34
        }
      ]
    },
    {
      "cell_type": "code",
      "metadata": {
        "colab": {
          "base_uri": "https://localhost:8080/"
        },
        "id": "vypqkVECW1u0",
        "outputId": "e2ea2db6-1a85-4dd5-e241-a17aab1f830f"
      },
      "source": [
        "[t for t in x.split() if t in stopwords]"
      ],
      "execution_count": null,
      "outputs": [
        {
          "output_type": "execute_result",
          "data": {
            "text/plain": [
              "['this', 'is', 'the']"
            ]
          },
          "metadata": {
            "tags": []
          },
          "execution_count": 35
        }
      ]
    },
    {
      "cell_type": "code",
      "metadata": {
        "colab": {
          "base_uri": "https://localhost:8080/"
        },
        "id": "cZ1kJLUlXvAo",
        "outputId": "9520def1-6382-44dd-bc7d-7c423a1c7bee"
      },
      "source": [
        "#Total Number of Stopwords\r\n",
        "len([t for t in x.split() if t in stopwords])"
      ],
      "execution_count": null,
      "outputs": [
        {
          "output_type": "execute_result",
          "data": {
            "text/plain": [
              "3"
            ]
          },
          "metadata": {
            "tags": []
          },
          "execution_count": 36
        }
      ]
    },
    {
      "cell_type": "code",
      "metadata": {
        "id": "T5GxJ_NLX6Ct"
      },
      "source": [
        "df['stop_words_len']=df['twitts'].apply(lambda x:len([t for t in x.split() if t in stopwords]))"
      ],
      "execution_count": null,
      "outputs": []
    },
    {
      "cell_type": "code",
      "metadata": {
        "colab": {
          "base_uri": "https://localhost:8080/",
          "height": 204
        },
        "id": "ZzU8UaSGYfbl",
        "outputId": "f8d250d4-22df-4a08-efeb-7930ef787ffa"
      },
      "source": [
        "df.sample(5)"
      ],
      "execution_count": null,
      "outputs": [
        {
          "output_type": "execute_result",
          "data": {
            "text/html": [
              "<div>\n",
              "<style scoped>\n",
              "    .dataframe tbody tr th:only-of-type {\n",
              "        vertical-align: middle;\n",
              "    }\n",
              "\n",
              "    .dataframe tbody tr th {\n",
              "        vertical-align: top;\n",
              "    }\n",
              "\n",
              "    .dataframe thead th {\n",
              "        text-align: right;\n",
              "    }\n",
              "</style>\n",
              "<table border=\"1\" class=\"dataframe\">\n",
              "  <thead>\n",
              "    <tr style=\"text-align: right;\">\n",
              "      <th></th>\n",
              "      <th>twitts</th>\n",
              "      <th>sentiment</th>\n",
              "      <th>word_counts</th>\n",
              "      <th>char_counts</th>\n",
              "      <th>avg_word_len</th>\n",
              "      <th>stop_words_len</th>\n",
              "    </tr>\n",
              "  </thead>\n",
              "  <tbody>\n",
              "    <tr>\n",
              "      <th>11601</th>\n",
              "      <td>@officialmgnfox I'm so sorry to hear about you...</td>\n",
              "      <td>0</td>\n",
              "      <td>15</td>\n",
              "      <td>68</td>\n",
              "      <td>4.533333</td>\n",
              "      <td>7</td>\n",
              "    </tr>\n",
              "    <tr>\n",
              "      <th>5591</th>\n",
              "      <td>Working on Friends In Need page   Adoptables c...</td>\n",
              "      <td>1</td>\n",
              "      <td>9</td>\n",
              "      <td>47</td>\n",
              "      <td>5.222222</td>\n",
              "      <td>1</td>\n",
              "    </tr>\n",
              "    <tr>\n",
              "      <th>20836</th>\n",
              "      <td>http://twitpic.com/6bwxg - my international fr...</td>\n",
              "      <td>1</td>\n",
              "      <td>13</td>\n",
              "      <td>90</td>\n",
              "      <td>6.923077</td>\n",
              "      <td>4</td>\n",
              "    </tr>\n",
              "    <tr>\n",
              "      <th>3724</th>\n",
              "      <td>haha My mom and sister are going to mexico tom...</td>\n",
              "      <td>0</td>\n",
              "      <td>15</td>\n",
              "      <td>72</td>\n",
              "      <td>4.800000</td>\n",
              "      <td>5</td>\n",
              "    </tr>\n",
              "    <tr>\n",
              "      <th>29502</th>\n",
              "      <td>@McFloor http://twitpic.com/7wt4w - wow o.O i ...</td>\n",
              "      <td>0</td>\n",
              "      <td>15</td>\n",
              "      <td>80</td>\n",
              "      <td>5.333333</td>\n",
              "      <td>4</td>\n",
              "    </tr>\n",
              "  </tbody>\n",
              "</table>\n",
              "</div>"
            ],
            "text/plain": [
              "                                                  twitts  ...  stop_words_len\n",
              "11601  @officialmgnfox I'm so sorry to hear about you...  ...               7\n",
              "5591   Working on Friends In Need page   Adoptables c...  ...               1\n",
              "20836  http://twitpic.com/6bwxg - my international fr...  ...               4\n",
              "3724   haha My mom and sister are going to mexico tom...  ...               5\n",
              "29502  @McFloor http://twitpic.com/7wt4w - wow o.O i ...  ...               4\n",
              "\n",
              "[5 rows x 6 columns]"
            ]
          },
          "metadata": {
            "tags": []
          },
          "execution_count": 38
        }
      ]
    },
    {
      "cell_type": "markdown",
      "metadata": {
        "id": "roByqUcFZAg0"
      },
      "source": [
        "**Count #Hash Tags & @Mentions**"
      ]
    },
    {
      "cell_type": "code",
      "metadata": {
        "id": "MHlcgjjhYlA0"
      },
      "source": [
        "x='this is #hashtag and this is @mention'"
      ],
      "execution_count": null,
      "outputs": []
    },
    {
      "cell_type": "code",
      "metadata": {
        "colab": {
          "base_uri": "https://localhost:8080/"
        },
        "id": "DH9v4wZpYlOs",
        "outputId": "3c2ffdfb-15fb-4101-fee5-a11bf5468109"
      },
      "source": [
        "x.split()"
      ],
      "execution_count": null,
      "outputs": [
        {
          "output_type": "execute_result",
          "data": {
            "text/plain": [
              "['this', 'is', '#hashtag', 'and', 'this', 'is', '@mention']"
            ]
          },
          "metadata": {
            "tags": []
          },
          "execution_count": 40
        }
      ]
    },
    {
      "cell_type": "code",
      "metadata": {
        "colab": {
          "base_uri": "https://localhost:8080/"
        },
        "id": "Rj2dZKk1Ylo_",
        "outputId": "95bb4c4e-303a-44f5-bb5f-26534fcfaf9e"
      },
      "source": [
        "[t for t in x.split() if t.startswith('@')]"
      ],
      "execution_count": null,
      "outputs": [
        {
          "output_type": "execute_result",
          "data": {
            "text/plain": [
              "['@mention']"
            ]
          },
          "metadata": {
            "tags": []
          },
          "execution_count": 41
        }
      ]
    },
    {
      "cell_type": "code",
      "metadata": {
        "colab": {
          "base_uri": "https://localhost:8080/"
        },
        "id": "aT7FbtaBafJ8",
        "outputId": "9bb04bc3-a0c4-4d5e-bca9-cc352e35256f"
      },
      "source": [
        "len([t for t in x.split() if t.startswith('@')])"
      ],
      "execution_count": null,
      "outputs": [
        {
          "output_type": "execute_result",
          "data": {
            "text/plain": [
              "1"
            ]
          },
          "metadata": {
            "tags": []
          },
          "execution_count": 42
        }
      ]
    },
    {
      "cell_type": "code",
      "metadata": {
        "colab": {
          "base_uri": "https://localhost:8080/"
        },
        "id": "O68JqmKGaMTK",
        "outputId": "b9028b8f-9ad8-4b87-d5bb-ec344c1a090d"
      },
      "source": [
        "[t for t in x.split() if t.startswith('#')]"
      ],
      "execution_count": null,
      "outputs": [
        {
          "output_type": "execute_result",
          "data": {
            "text/plain": [
              "['#hashtag']"
            ]
          },
          "metadata": {
            "tags": []
          },
          "execution_count": 43
        }
      ]
    },
    {
      "cell_type": "code",
      "metadata": {
        "id": "vDpWMq45bEEB"
      },
      "source": [
        "df['hashtags_count']=df['twitts'].apply(lambda x:len([t for t in x.split() if t.startswith('#')]))"
      ],
      "execution_count": null,
      "outputs": []
    },
    {
      "cell_type": "code",
      "metadata": {
        "id": "bF-R64TIasct"
      },
      "source": [
        "df['mentions_count']=df['twitts'].apply(lambda x:len([t for t in x.split() if t.startswith('@')]))"
      ],
      "execution_count": null,
      "outputs": []
    },
    {
      "cell_type": "code",
      "metadata": {
        "colab": {
          "base_uri": "https://localhost:8080/",
          "height": 204
        },
        "id": "NKdnE-QFbaNm",
        "outputId": "72aaf17b-4edc-48f5-b547-36ebfa79481f"
      },
      "source": [
        "df.sample(5)"
      ],
      "execution_count": null,
      "outputs": [
        {
          "output_type": "execute_result",
          "data": {
            "text/html": [
              "<div>\n",
              "<style scoped>\n",
              "    .dataframe tbody tr th:only-of-type {\n",
              "        vertical-align: middle;\n",
              "    }\n",
              "\n",
              "    .dataframe tbody tr th {\n",
              "        vertical-align: top;\n",
              "    }\n",
              "\n",
              "    .dataframe thead th {\n",
              "        text-align: right;\n",
              "    }\n",
              "</style>\n",
              "<table border=\"1\" class=\"dataframe\">\n",
              "  <thead>\n",
              "    <tr style=\"text-align: right;\">\n",
              "      <th></th>\n",
              "      <th>twitts</th>\n",
              "      <th>sentiment</th>\n",
              "      <th>word_counts</th>\n",
              "      <th>char_counts</th>\n",
              "      <th>avg_word_len</th>\n",
              "      <th>stop_words_len</th>\n",
              "      <th>hashtags_count</th>\n",
              "      <th>mentions_count</th>\n",
              "    </tr>\n",
              "  </thead>\n",
              "  <tbody>\n",
              "    <tr>\n",
              "      <th>3728</th>\n",
              "      <td>watching the NHL Finals game 2 wish the Wild w...</td>\n",
              "      <td>1</td>\n",
              "      <td>17</td>\n",
              "      <td>60</td>\n",
              "      <td>3.529412</td>\n",
              "      <td>7</td>\n",
              "      <td>0</td>\n",
              "      <td>0</td>\n",
              "    </tr>\n",
              "    <tr>\n",
              "      <th>16735</th>\n",
              "      <td>@spiffgoodall Ummm, OK...to each her own, I s'...</td>\n",
              "      <td>1</td>\n",
              "      <td>8</td>\n",
              "      <td>46</td>\n",
              "      <td>5.750000</td>\n",
              "      <td>2</td>\n",
              "      <td>0</td>\n",
              "      <td>1</td>\n",
              "    </tr>\n",
              "    <tr>\n",
              "      <th>22891</th>\n",
              "      <td>@Adamcarruthers yeah...</td>\n",
              "      <td>0</td>\n",
              "      <td>2</td>\n",
              "      <td>22</td>\n",
              "      <td>11.000000</td>\n",
              "      <td>0</td>\n",
              "      <td>0</td>\n",
              "      <td>1</td>\n",
              "    </tr>\n",
              "    <tr>\n",
              "      <th>4266</th>\n",
              "      <td>@csbseal LOL and look! speak of the devil hims...</td>\n",
              "      <td>1</td>\n",
              "      <td>9</td>\n",
              "      <td>41</td>\n",
              "      <td>4.555556</td>\n",
              "      <td>4</td>\n",
              "      <td>0</td>\n",
              "      <td>1</td>\n",
              "    </tr>\n",
              "    <tr>\n",
              "      <th>7829</th>\n",
              "      <td>@vickypazz. Morning Vicky. You're never too ea...</td>\n",
              "      <td>1</td>\n",
              "      <td>9</td>\n",
              "      <td>49</td>\n",
              "      <td>5.444444</td>\n",
              "      <td>3</td>\n",
              "      <td>0</td>\n",
              "      <td>1</td>\n",
              "    </tr>\n",
              "  </tbody>\n",
              "</table>\n",
              "</div>"
            ],
            "text/plain": [
              "                                                  twitts  ...  mentions_count\n",
              "3728   watching the NHL Finals game 2 wish the Wild w...  ...               0\n",
              "16735  @spiffgoodall Ummm, OK...to each her own, I s'...  ...               1\n",
              "22891                           @Adamcarruthers yeah...   ...               1\n",
              "4266   @csbseal LOL and look! speak of the devil hims...  ...               1\n",
              "7829   @vickypazz. Morning Vicky. You're never too ea...  ...               1\n",
              "\n",
              "[5 rows x 8 columns]"
            ]
          },
          "metadata": {
            "tags": []
          },
          "execution_count": 46
        }
      ]
    },
    {
      "cell_type": "markdown",
      "metadata": {
        "id": "NCJzwMaUnuag"
      },
      "source": [
        "**Numeric Digits**"
      ]
    },
    {
      "cell_type": "code",
      "metadata": {
        "colab": {
          "base_uri": "https://localhost:8080/"
        },
        "id": "YboxMS7AnzvE",
        "outputId": "8986cc9b-d195-4318-a9f5-adb2a81a803c"
      },
      "source": [
        "x='this is 1 and 2'\r\n",
        "x.split()"
      ],
      "execution_count": null,
      "outputs": [
        {
          "output_type": "execute_result",
          "data": {
            "text/plain": [
              "['this', 'is', '1', 'and', '2']"
            ]
          },
          "metadata": {
            "tags": []
          },
          "execution_count": 47
        }
      ]
    },
    {
      "cell_type": "code",
      "metadata": {
        "colab": {
          "base_uri": "https://localhost:8080/"
        },
        "id": "gHlk6pwHozgm",
        "outputId": "a62537b7-def9-4b41-a093-01507353caa1"
      },
      "source": [
        "x.split()[3].isdigit()"
      ],
      "execution_count": null,
      "outputs": [
        {
          "output_type": "execute_result",
          "data": {
            "text/plain": [
              "False"
            ]
          },
          "metadata": {
            "tags": []
          },
          "execution_count": 48
        }
      ]
    },
    {
      "cell_type": "code",
      "metadata": {
        "colab": {
          "base_uri": "https://localhost:8080/"
        },
        "id": "ewYYxGF_-t2n",
        "outputId": "dfe89aef-c03d-46ab-f35f-78a1bc433ed4"
      },
      "source": [
        "x='this is 1 and 2'\r\n",
        "len([t for t in x.split() if t.isdigit()])"
      ],
      "execution_count": null,
      "outputs": [
        {
          "output_type": "execute_result",
          "data": {
            "text/plain": [
              "2"
            ]
          },
          "metadata": {
            "tags": []
          },
          "execution_count": 49
        }
      ]
    },
    {
      "cell_type": "code",
      "metadata": {
        "id": "YcmYZzDUo6J0"
      },
      "source": [
        "df['numeric_counts']=df['twitts'].apply(lambda x:len([t for t in x.split() if t.isdigit()]))"
      ],
      "execution_count": null,
      "outputs": []
    },
    {
      "cell_type": "code",
      "metadata": {
        "colab": {
          "base_uri": "https://localhost:8080/",
          "height": 224
        },
        "id": "vkdFC5qJ-aYh",
        "outputId": "ac77c54b-45b1-404c-dafb-0a350a2c388a"
      },
      "source": [
        "df.sample(4)"
      ],
      "execution_count": null,
      "outputs": [
        {
          "output_type": "execute_result",
          "data": {
            "text/html": [
              "<div>\n",
              "<style scoped>\n",
              "    .dataframe tbody tr th:only-of-type {\n",
              "        vertical-align: middle;\n",
              "    }\n",
              "\n",
              "    .dataframe tbody tr th {\n",
              "        vertical-align: top;\n",
              "    }\n",
              "\n",
              "    .dataframe thead th {\n",
              "        text-align: right;\n",
              "    }\n",
              "</style>\n",
              "<table border=\"1\" class=\"dataframe\">\n",
              "  <thead>\n",
              "    <tr style=\"text-align: right;\">\n",
              "      <th></th>\n",
              "      <th>twitts</th>\n",
              "      <th>sentiment</th>\n",
              "      <th>word_counts</th>\n",
              "      <th>char_counts</th>\n",
              "      <th>avg_word_len</th>\n",
              "      <th>stop_words_len</th>\n",
              "      <th>hashtags_count</th>\n",
              "      <th>mentions_count</th>\n",
              "      <th>numeric_counts</th>\n",
              "    </tr>\n",
              "  </thead>\n",
              "  <tbody>\n",
              "    <tr>\n",
              "      <th>26572</th>\n",
              "      <td>@macmuso England's lovely - it's insanely gree...</td>\n",
              "      <td>1</td>\n",
              "      <td>21</td>\n",
              "      <td>114</td>\n",
              "      <td>5.428571</td>\n",
              "      <td>6</td>\n",
              "      <td>0</td>\n",
              "      <td>1</td>\n",
              "      <td>0</td>\n",
              "    </tr>\n",
              "    <tr>\n",
              "      <th>22550</th>\n",
              "      <td>Everyone follow my boys Matt @MATTHARDYBRAND a...</td>\n",
              "      <td>1</td>\n",
              "      <td>15</td>\n",
              "      <td>86</td>\n",
              "      <td>5.733333</td>\n",
              "      <td>2</td>\n",
              "      <td>0</td>\n",
              "      <td>2</td>\n",
              "      <td>0</td>\n",
              "    </tr>\n",
              "    <tr>\n",
              "      <th>738</th>\n",
              "      <td>haven't been around much..thanks to Kevin Rudd...</td>\n",
              "      <td>0</td>\n",
              "      <td>21</td>\n",
              "      <td>107</td>\n",
              "      <td>5.095238</td>\n",
              "      <td>8</td>\n",
              "      <td>0</td>\n",
              "      <td>0</td>\n",
              "      <td>0</td>\n",
              "    </tr>\n",
              "    <tr>\n",
              "      <th>11518</th>\n",
              "      <td>...i'm bored... waiting for my friend to come....</td>\n",
              "      <td>0</td>\n",
              "      <td>12</td>\n",
              "      <td>66</td>\n",
              "      <td>5.500000</td>\n",
              "      <td>3</td>\n",
              "      <td>0</td>\n",
              "      <td>0</td>\n",
              "      <td>0</td>\n",
              "    </tr>\n",
              "  </tbody>\n",
              "</table>\n",
              "</div>"
            ],
            "text/plain": [
              "                                                  twitts  ...  numeric_counts\n",
              "26572  @macmuso England's lovely - it's insanely gree...  ...               0\n",
              "22550  Everyone follow my boys Matt @MATTHARDYBRAND a...  ...               0\n",
              "738    haven't been around much..thanks to Kevin Rudd...  ...               0\n",
              "11518  ...i'm bored... waiting for my friend to come....  ...               0\n",
              "\n",
              "[4 rows x 9 columns]"
            ]
          },
          "metadata": {
            "tags": []
          },
          "execution_count": 51
        }
      ]
    },
    {
      "cell_type": "markdown",
      "metadata": {
        "id": "EH-Eva_I_A4q"
      },
      "source": [
        "**Upper Case Word Count**"
      ]
    },
    {
      "cell_type": "code",
      "metadata": {
        "id": "Rj_c2BTy_EeM"
      },
      "source": [
        "x='I AM HAPPY'\r\n",
        "y='i am happy'"
      ],
      "execution_count": null,
      "outputs": []
    },
    {
      "cell_type": "code",
      "metadata": {
        "colab": {
          "base_uri": "https://localhost:8080/"
        },
        "id": "4H9ZdNA2M9VH",
        "outputId": "99066b21-4f8b-429a-adac-eecd16e5974f"
      },
      "source": [
        "[ t for t in x.split() if t.isupper()]"
      ],
      "execution_count": null,
      "outputs": [
        {
          "output_type": "execute_result",
          "data": {
            "text/plain": [
              "['I', 'AM', 'HAPPY']"
            ]
          },
          "metadata": {
            "tags": []
          },
          "execution_count": 53
        }
      ]
    },
    {
      "cell_type": "code",
      "metadata": {
        "colab": {
          "base_uri": "https://localhost:8080/"
        },
        "id": "3MAA1MPwNT5G",
        "outputId": "ab5f61d0-6fc3-40dd-cf19-fd3ff245694e"
      },
      "source": [
        "[ t for t in y.split() if t.isupper()]"
      ],
      "execution_count": null,
      "outputs": [
        {
          "output_type": "execute_result",
          "data": {
            "text/plain": [
              "[]"
            ]
          },
          "metadata": {
            "tags": []
          },
          "execution_count": 54
        }
      ]
    },
    {
      "cell_type": "code",
      "metadata": {
        "id": "b2oWp9lnNky5"
      },
      "source": [
        "df['upper_counts']=df['twitts'].apply(lambda x:len([t for t in x.split() if t.isupper()]))"
      ],
      "execution_count": null,
      "outputs": []
    },
    {
      "cell_type": "code",
      "metadata": {
        "colab": {
          "base_uri": "https://localhost:8080/",
          "height": 275
        },
        "id": "vnG9qVMFNy33",
        "outputId": "0040b3a2-fe6f-47f0-e374-5427a28a95f1"
      },
      "source": [
        "df.sample(5)"
      ],
      "execution_count": null,
      "outputs": [
        {
          "output_type": "execute_result",
          "data": {
            "text/html": [
              "<div>\n",
              "<style scoped>\n",
              "    .dataframe tbody tr th:only-of-type {\n",
              "        vertical-align: middle;\n",
              "    }\n",
              "\n",
              "    .dataframe tbody tr th {\n",
              "        vertical-align: top;\n",
              "    }\n",
              "\n",
              "    .dataframe thead th {\n",
              "        text-align: right;\n",
              "    }\n",
              "</style>\n",
              "<table border=\"1\" class=\"dataframe\">\n",
              "  <thead>\n",
              "    <tr style=\"text-align: right;\">\n",
              "      <th></th>\n",
              "      <th>twitts</th>\n",
              "      <th>sentiment</th>\n",
              "      <th>word_counts</th>\n",
              "      <th>char_counts</th>\n",
              "      <th>avg_word_len</th>\n",
              "      <th>stop_words_len</th>\n",
              "      <th>hashtags_count</th>\n",
              "      <th>mentions_count</th>\n",
              "      <th>numeric_counts</th>\n",
              "      <th>upper_counts</th>\n",
              "    </tr>\n",
              "  </thead>\n",
              "  <tbody>\n",
              "    <tr>\n",
              "      <th>25525</th>\n",
              "      <td>@maj1210 AH, i wish i could come over. you kno...</td>\n",
              "      <td>1</td>\n",
              "      <td>26</td>\n",
              "      <td>111</td>\n",
              "      <td>4.269231</td>\n",
              "      <td>8</td>\n",
              "      <td>0</td>\n",
              "      <td>1</td>\n",
              "      <td>0</td>\n",
              "      <td>1</td>\n",
              "    </tr>\n",
              "    <tr>\n",
              "      <th>328</th>\n",
              "      <td>@bfox11b do your worst</td>\n",
              "      <td>1</td>\n",
              "      <td>4</td>\n",
              "      <td>19</td>\n",
              "      <td>4.750000</td>\n",
              "      <td>2</td>\n",
              "      <td>0</td>\n",
              "      <td>1</td>\n",
              "      <td>0</td>\n",
              "      <td>0</td>\n",
              "    </tr>\n",
              "    <tr>\n",
              "      <th>17223</th>\n",
              "      <td>I started reading Sophie's World</td>\n",
              "      <td>1</td>\n",
              "      <td>5</td>\n",
              "      <td>28</td>\n",
              "      <td>5.600000</td>\n",
              "      <td>0</td>\n",
              "      <td>0</td>\n",
              "      <td>0</td>\n",
              "      <td>0</td>\n",
              "      <td>1</td>\n",
              "    </tr>\n",
              "    <tr>\n",
              "      <th>15269</th>\n",
              "      <td>http://FunnyOrDie.com/videos/3b203bf255 my bro...</td>\n",
              "      <td>1</td>\n",
              "      <td>13</td>\n",
              "      <td>82</td>\n",
              "      <td>6.307692</td>\n",
              "      <td>7</td>\n",
              "      <td>0</td>\n",
              "      <td>0</td>\n",
              "      <td>0</td>\n",
              "      <td>0</td>\n",
              "    </tr>\n",
              "    <tr>\n",
              "      <th>20585</th>\n",
              "      <td>@SedityxBreeze atleast you can add stuff w/o e...</td>\n",
              "      <td>0</td>\n",
              "      <td>16</td>\n",
              "      <td>79</td>\n",
              "      <td>4.937500</td>\n",
              "      <td>7</td>\n",
              "      <td>0</td>\n",
              "      <td>1</td>\n",
              "      <td>0</td>\n",
              "      <td>0</td>\n",
              "    </tr>\n",
              "  </tbody>\n",
              "</table>\n",
              "</div>"
            ],
            "text/plain": [
              "                                                  twitts  ...  upper_counts\n",
              "25525  @maj1210 AH, i wish i could come over. you kno...  ...             1\n",
              "328                              @bfox11b do your worst   ...             0\n",
              "17223                  I started reading Sophie's World   ...             1\n",
              "15269  http://FunnyOrDie.com/videos/3b203bf255 my bro...  ...             0\n",
              "20585  @SedityxBreeze atleast you can add stuff w/o e...  ...             0\n",
              "\n",
              "[5 rows x 10 columns]"
            ]
          },
          "metadata": {
            "tags": []
          },
          "execution_count": 56
        }
      ]
    },
    {
      "cell_type": "code",
      "metadata": {
        "colab": {
          "base_uri": "https://localhost:8080/",
          "height": 35
        },
        "id": "2-uWIm7SOB9A",
        "outputId": "d250f9c4-8609-4c2f-b3ac-4023a2e80e7f"
      },
      "source": [
        "df.iloc[3962]['twitts']"
      ],
      "execution_count": null,
      "outputs": [
        {
          "output_type": "execute_result",
          "data": {
            "application/vnd.google.colaboratory.intrinsic+json": {
              "type": "string"
            },
            "text/plain": [
              "\"I don't want to leave san antonio \""
            ]
          },
          "metadata": {
            "tags": []
          },
          "execution_count": 57
        }
      ]
    },
    {
      "cell_type": "markdown",
      "metadata": {
        "id": "9nmoADXfOuja"
      },
      "source": [
        "**Lower Case Conversion** "
      ]
    },
    {
      "cell_type": "code",
      "metadata": {
        "colab": {
          "base_uri": "https://localhost:8080/",
          "height": 35
        },
        "id": "-RNQdLXVOlCS",
        "outputId": "1520ca64-c30e-4017-a041-378784391e3d"
      },
      "source": [
        "x='this is Text'\r\n",
        "x.lower()"
      ],
      "execution_count": null,
      "outputs": [
        {
          "output_type": "execute_result",
          "data": {
            "application/vnd.google.colaboratory.intrinsic+json": {
              "type": "string"
            },
            "text/plain": [
              "'this is text'"
            ]
          },
          "metadata": {
            "tags": []
          },
          "execution_count": 58
        }
      ]
    },
    {
      "cell_type": "code",
      "metadata": {
        "colab": {
          "base_uri": "https://localhost:8080/",
          "height": 35
        },
        "id": "aCkhZTwJOlRN",
        "outputId": "21df76df-c8f2-4f61-b4ec-3b75bb7593cb"
      },
      "source": [
        "x=45.0  # integer format means first convert to string format & then apply lower fun.\r\n",
        "str(x).lower()"
      ],
      "execution_count": null,
      "outputs": [
        {
          "output_type": "execute_result",
          "data": {
            "application/vnd.google.colaboratory.intrinsic+json": {
              "type": "string"
            },
            "text/plain": [
              "'45.0'"
            ]
          },
          "metadata": {
            "tags": []
          },
          "execution_count": 59
        }
      ]
    },
    {
      "cell_type": "code",
      "metadata": {
        "id": "Ptkb2nHROleS"
      },
      "source": [
        "df['twitts']=df['twitts'].apply(lambda x:str(x).lower())"
      ],
      "execution_count": null,
      "outputs": []
    },
    {
      "cell_type": "code",
      "metadata": {
        "colab": {
          "base_uri": "https://localhost:8080/",
          "height": 289
        },
        "id": "NChZgp0JOltW",
        "outputId": "7e4fc265-65bd-47d0-cf15-43c15f966f15"
      },
      "source": [
        "df.sample(5)"
      ],
      "execution_count": null,
      "outputs": [
        {
          "output_type": "execute_result",
          "data": {
            "text/html": [
              "<div>\n",
              "<style scoped>\n",
              "    .dataframe tbody tr th:only-of-type {\n",
              "        vertical-align: middle;\n",
              "    }\n",
              "\n",
              "    .dataframe tbody tr th {\n",
              "        vertical-align: top;\n",
              "    }\n",
              "\n",
              "    .dataframe thead th {\n",
              "        text-align: right;\n",
              "    }\n",
              "</style>\n",
              "<table border=\"1\" class=\"dataframe\">\n",
              "  <thead>\n",
              "    <tr style=\"text-align: right;\">\n",
              "      <th></th>\n",
              "      <th>twitts</th>\n",
              "      <th>sentiment</th>\n",
              "      <th>word_counts</th>\n",
              "      <th>char_counts</th>\n",
              "      <th>avg_word_len</th>\n",
              "      <th>stop_words_len</th>\n",
              "      <th>hashtags_count</th>\n",
              "      <th>mentions_count</th>\n",
              "      <th>numeric_counts</th>\n",
              "      <th>upper_counts</th>\n",
              "    </tr>\n",
              "  </thead>\n",
              "  <tbody>\n",
              "    <tr>\n",
              "      <th>9967</th>\n",
              "      <td>it does not want to let me in today    #creati...</td>\n",
              "      <td>0</td>\n",
              "      <td>10</td>\n",
              "      <td>41</td>\n",
              "      <td>4.100000</td>\n",
              "      <td>5</td>\n",
              "      <td>1</td>\n",
              "      <td>0</td>\n",
              "      <td>0</td>\n",
              "      <td>0</td>\n",
              "    </tr>\n",
              "    <tr>\n",
              "      <th>6325</th>\n",
              "      <td>@thechelseastaub no. dylan is my hot guitar te...</td>\n",
              "      <td>1</td>\n",
              "      <td>8</td>\n",
              "      <td>45</td>\n",
              "      <td>5.625000</td>\n",
              "      <td>2</td>\n",
              "      <td>0</td>\n",
              "      <td>1</td>\n",
              "      <td>0</td>\n",
              "      <td>0</td>\n",
              "    </tr>\n",
              "    <tr>\n",
              "      <th>4893</th>\n",
              "      <td>@dannysgirlinsfl have a fantastic time girl!!!...</td>\n",
              "      <td>1</td>\n",
              "      <td>18</td>\n",
              "      <td>88</td>\n",
              "      <td>4.888889</td>\n",
              "      <td>9</td>\n",
              "      <td>0</td>\n",
              "      <td>1</td>\n",
              "      <td>0</td>\n",
              "      <td>2</td>\n",
              "    </tr>\n",
              "    <tr>\n",
              "      <th>12330</th>\n",
              "      <td>@sobomb omggg why r u twitpickin stillll come ...</td>\n",
              "      <td>0</td>\n",
              "      <td>19</td>\n",
              "      <td>79</td>\n",
              "      <td>4.157895</td>\n",
              "      <td>6</td>\n",
              "      <td>0</td>\n",
              "      <td>1</td>\n",
              "      <td>1</td>\n",
              "      <td>0</td>\n",
              "    </tr>\n",
              "    <tr>\n",
              "      <th>25176</th>\n",
              "      <td>i am actually crying now because of sore thr...</td>\n",
              "      <td>0</td>\n",
              "      <td>9</td>\n",
              "      <td>40</td>\n",
              "      <td>4.444444</td>\n",
              "      <td>4</td>\n",
              "      <td>0</td>\n",
              "      <td>0</td>\n",
              "      <td>0</td>\n",
              "      <td>1</td>\n",
              "    </tr>\n",
              "  </tbody>\n",
              "</table>\n",
              "</div>"
            ],
            "text/plain": [
              "                                                  twitts  ...  upper_counts\n",
              "9967   it does not want to let me in today    #creati...  ...             0\n",
              "6325   @thechelseastaub no. dylan is my hot guitar te...  ...             0\n",
              "4893   @dannysgirlinsfl have a fantastic time girl!!!...  ...             2\n",
              "12330  @sobomb omggg why r u twitpickin stillll come ...  ...             0\n",
              "25176    i am actually crying now because of sore thr...  ...             1\n",
              "\n",
              "[5 rows x 10 columns]"
            ]
          },
          "metadata": {
            "tags": []
          },
          "execution_count": 61
        }
      ]
    },
    {
      "cell_type": "markdown",
      "metadata": {
        "id": "1rtMUq4PSQhT"
      },
      "source": [
        "**Contraction To Expansion**"
      ]
    },
    {
      "cell_type": "code",
      "metadata": {
        "id": "J7Zbpm-lSV5E"
      },
      "source": [
        "contractions = { \r\n",
        "\"ain't\": \"am not / are not / is not / has not / have not\",\r\n",
        "\"aren't\": \"are not / am not\",\r\n",
        "\"can't\": \"cannot\",\r\n",
        "\"can't've\": \"cannot have\",\r\n",
        "\"'cause\": \"because\",\r\n",
        "\"could've\": \"could have\",\r\n",
        "\"couldn't\": \"could not\",\r\n",
        "\"couldn't've\": \"could not have\",\r\n",
        "\"didn't\": \"did not\",\r\n",
        "\"doesn't\": \"does not\",\r\n",
        "\"don't\": \"do not\",\r\n",
        "\"hadn't\": \"had not\",\r\n",
        "\"hadn't've\": \"had not have\",\r\n",
        "\"hasn't\": \"has not\",\r\n",
        "\"haven't\": \"have not\",\r\n",
        "\"he'd\": \"he had / he would\",\r\n",
        "\"he'd've\": \"he would have\",\r\n",
        "\"he'll\": \"he shall / he will\",\r\n",
        "\"he'll've\": \"he shall have / he will have\",\r\n",
        "\"he's\": \"he has / he is\",\r\n",
        "\"how'd\": \"how did\",\r\n",
        "\"how'd'y\": \"how do you\",\r\n",
        "\"how'll\": \"how will\",\r\n",
        "\"how's\": \"how has / how is / how does\",\r\n",
        "\"I'd\": \"I had / I would\",\r\n",
        "\"I'd've\": \"I would have\",\r\n",
        "\"I'll\": \"I shall / I will\",\r\n",
        "\"I'll've\": \"I shall have / I will have\",\r\n",
        "\"I'm\": \"I am\",\r\n",
        "\"I've\": \"I have\",\r\n",
        "\"isn't\": \"is not\",\r\n",
        "\"it'd\": \"it had / it would\",\r\n",
        "\"it'd've\": \"it would have\",\r\n",
        "\"it'll\": \"it shall / it will\",\r\n",
        "\"it'll've\": \"it shall have / it will have\",\r\n",
        "\"it's\": \"it has / it is\",\r\n",
        "\"let's\": \"let us\",\r\n",
        "\"ma'am\": \"madam\",\r\n",
        "\"mayn't\": \"may not\",\r\n",
        "\"might've\": \"might have\",\r\n",
        "\"mightn't\": \"might not\",\r\n",
        "\"mightn't've\": \"might not have\",\r\n",
        "\"must've\": \"must have\",\r\n",
        "\"mustn't\": \"must not\",\r\n",
        "\"mustn't've\": \"must not have\",\r\n",
        "\"needn't\": \"need not\",\r\n",
        "\"needn't've\": \"need not have\",\r\n",
        "\"o'clock\": \"of the clock\",\r\n",
        "\"oughtn't\": \"ought not\",\r\n",
        "\"oughtn't've\": \"ought not have\",\r\n",
        "\"shan't\": \"shall not\",\r\n",
        "\"sha'n't\": \"shall not\",\r\n",
        "\"shan't've\": \"shall not have\",\r\n",
        "\"she'd\": \"she had / she would\",\r\n",
        "\"she'd've\": \"she would have\",\r\n",
        "\"she'll\": \"she shall / she will\",\r\n",
        "\"she'll've\": \"she shall have / she will have\",\r\n",
        "\"she's\": \"she has / she is\",\r\n",
        "\"should've\": \"should have\",\r\n",
        "\"shouldn't\": \"should not\",\r\n",
        "\"shouldn't've\": \"should not have\",\r\n",
        "\"so've\": \"so have\",\r\n",
        "\"so's\": \"so as / so is\",\r\n",
        "\"that'd\": \"that would / that had\",\r\n",
        "\"that'd've\": \"that would have\",\r\n",
        "\"that's\": \"that has / that is\",\r\n",
        "\"there'd\": \"there had / there would\",\r\n",
        "\"there'd've\": \"there would have\",\r\n",
        "\"there's\": \"there has / there is\",\r\n",
        "\"they'd\": \"they had / they would\",\r\n",
        "\"they'd've\": \"they would have\",\r\n",
        "\"they'll\": \"they shall / they will\",\r\n",
        "\"they'll've\": \"they shall have / they will have\",\r\n",
        "\"they're\": \"they are\",\r\n",
        "\"they've\": \"they have\",\r\n",
        "\"to've\": \"to have\",\r\n",
        "\"wasn't\": \"was not\",\r\n",
        "\"we'd\": \"we had / we would\",\r\n",
        "\"we'd've\": \"we would have\",\r\n",
        "\"we'll\": \"we will\",\r\n",
        "\"we'll've\": \"we will have\",\r\n",
        "\"we're\": \"we are\",\r\n",
        "\"we've\": \"we have\",\r\n",
        "\"weren't\": \"were not\",\r\n",
        "\"what'll\": \"what shall / what will\",\r\n",
        "\"what'll've\": \"what shall have / what will have\",\r\n",
        "\"what're\": \"what are\",\r\n",
        "\"what's\": \"what has / what is\",\r\n",
        "\"what've\": \"what have\",\r\n",
        "\"when's\": \"when has / when is\",\r\n",
        "\"when've\": \"when have\",\r\n",
        "\"where'd\": \"where did\",\r\n",
        "\"where's\": \"where has / where is\",\r\n",
        "\"where've\": \"where have\",\r\n",
        "\"who'll\": \"who shall / who will\",\r\n",
        "\"who'll've\": \"who shall have / who will have\",\r\n",
        "\"who's\": \"who has / who is\",\r\n",
        "\"who've\": \"who have\",\r\n",
        "\"why's\": \"why has / why is\",\r\n",
        "\"why've\": \"why have\",\r\n",
        "\"will've\": \"will have\",\r\n",
        "\"won't\": \"will not\",\r\n",
        "\"won't've\": \"will not have\",\r\n",
        "\"would've\": \"would have\",\r\n",
        "\"wouldn't\": \"would not\",\r\n",
        "\"wouldn't've\": \"would not have\",\r\n",
        "\"y'all\": \"you all\",\r\n",
        "\"y'all'd\": \"you all would\",\r\n",
        "\"y'all'd've\": \"you all would have\",\r\n",
        "\"y'all're\": \"you all are\",\r\n",
        "\"y'all've\": \"you all have\",\r\n",
        "\"you'd\": \"you had / you would\",\r\n",
        "\"you'd've\": \"you would have\",\r\n",
        "\"you'll\": \"you shall / you will\",\r\n",
        "\"you'll've\": \"you shall have / you will have\",\r\n",
        "\"you're\": \"you are\",\r\n",
        "\"you've\": \"you have\"\r\n",
        "}"
      ],
      "execution_count": null,
      "outputs": []
    },
    {
      "cell_type": "code",
      "metadata": {
        "id": "KWiWb4mCOl6k"
      },
      "source": [
        "def cont_to_exp(x):\r\n",
        "  if type(x) is str:\r\n",
        "    for key in contractions:\r\n",
        "      value=contractions[key]\r\n",
        "      x=x.replace(key,value)\r\n",
        "    return x\r\n",
        "  else:\r\n",
        "    return x  "
      ],
      "execution_count": null,
      "outputs": []
    },
    {
      "cell_type": "code",
      "metadata": {
        "id": "LdicQMOdUe10"
      },
      "source": [
        "%timeit\r\n",
        "df['twitts']=df['twitts'].apply(lambda x:cont_to_exp(x))"
      ],
      "execution_count": null,
      "outputs": []
    },
    {
      "cell_type": "code",
      "metadata": {
        "colab": {
          "base_uri": "https://localhost:8080/",
          "height": 289
        },
        "id": "QuSgLipPU33k",
        "outputId": "ddbc9b3b-0fe9-4d88-a393-8646966d2a5c"
      },
      "source": [
        "df.sample(5)"
      ],
      "execution_count": null,
      "outputs": [
        {
          "output_type": "execute_result",
          "data": {
            "text/html": [
              "<div>\n",
              "<style scoped>\n",
              "    .dataframe tbody tr th:only-of-type {\n",
              "        vertical-align: middle;\n",
              "    }\n",
              "\n",
              "    .dataframe tbody tr th {\n",
              "        vertical-align: top;\n",
              "    }\n",
              "\n",
              "    .dataframe thead th {\n",
              "        text-align: right;\n",
              "    }\n",
              "</style>\n",
              "<table border=\"1\" class=\"dataframe\">\n",
              "  <thead>\n",
              "    <tr style=\"text-align: right;\">\n",
              "      <th></th>\n",
              "      <th>twitts</th>\n",
              "      <th>sentiment</th>\n",
              "      <th>word_counts</th>\n",
              "      <th>char_counts</th>\n",
              "      <th>avg_word_len</th>\n",
              "      <th>stop_words_len</th>\n",
              "      <th>hashtags_count</th>\n",
              "      <th>mentions_count</th>\n",
              "      <th>numeric_counts</th>\n",
              "      <th>upper_counts</th>\n",
              "    </tr>\n",
              "  </thead>\n",
              "  <tbody>\n",
              "    <tr>\n",
              "      <th>4380</th>\n",
              "      <td>omg. i hate when i'm trying to go to sleep and...</td>\n",
              "      <td>0</td>\n",
              "      <td>28</td>\n",
              "      <td>103</td>\n",
              "      <td>3.678571</td>\n",
              "      <td>13</td>\n",
              "      <td>0</td>\n",
              "      <td>0</td>\n",
              "      <td>0</td>\n",
              "      <td>1</td>\n",
              "    </tr>\n",
              "    <tr>\n",
              "      <th>29494</th>\n",
              "      <td>it has / it is wednesday and my work week has ...</td>\n",
              "      <td>0</td>\n",
              "      <td>9</td>\n",
              "      <td>40</td>\n",
              "      <td>4.444444</td>\n",
              "      <td>4</td>\n",
              "      <td>0</td>\n",
              "      <td>0</td>\n",
              "      <td>0</td>\n",
              "      <td>0</td>\n",
              "    </tr>\n",
              "    <tr>\n",
              "      <th>23903</th>\n",
              "      <td>finally done with the kids art project...now e...</td>\n",
              "      <td>0</td>\n",
              "      <td>22</td>\n",
              "      <td>114</td>\n",
              "      <td>5.181818</td>\n",
              "      <td>13</td>\n",
              "      <td>0</td>\n",
              "      <td>0</td>\n",
              "      <td>0</td>\n",
              "      <td>0</td>\n",
              "    </tr>\n",
              "    <tr>\n",
              "      <th>6394</th>\n",
              "      <td>@nragins1 ur the best!.... just wish i would h...</td>\n",
              "      <td>0</td>\n",
              "      <td>12</td>\n",
              "      <td>63</td>\n",
              "      <td>5.250000</td>\n",
              "      <td>1</td>\n",
              "      <td>0</td>\n",
              "      <td>1</td>\n",
              "      <td>0</td>\n",
              "      <td>2</td>\n",
              "    </tr>\n",
              "    <tr>\n",
              "      <th>453</th>\n",
              "      <td>could do with food. shannon and sean do not se...</td>\n",
              "      <td>0</td>\n",
              "      <td>13</td>\n",
              "      <td>58</td>\n",
              "      <td>4.461538</td>\n",
              "      <td>4</td>\n",
              "      <td>0</td>\n",
              "      <td>0</td>\n",
              "      <td>0</td>\n",
              "      <td>0</td>\n",
              "    </tr>\n",
              "  </tbody>\n",
              "</table>\n",
              "</div>"
            ],
            "text/plain": [
              "                                                  twitts  ...  upper_counts\n",
              "4380   omg. i hate when i'm trying to go to sleep and...  ...             1\n",
              "29494  it has / it is wednesday and my work week has ...  ...             0\n",
              "23903  finally done with the kids art project...now e...  ...             0\n",
              "6394   @nragins1 ur the best!.... just wish i would h...  ...             2\n",
              "453    could do with food. shannon and sean do not se...  ...             0\n",
              "\n",
              "[5 rows x 10 columns]"
            ]
          },
          "metadata": {
            "tags": []
          },
          "execution_count": 65
        }
      ]
    },
    {
      "cell_type": "markdown",
      "metadata": {
        "id": "aEWo8VCAVpBt"
      },
      "source": [
        "**Count & Remove Emails**"
      ]
    },
    {
      "cell_type": "code",
      "metadata": {
        "colab": {
          "base_uri": "https://localhost:8080/",
          "height": 623
        },
        "id": "yZFCSC6GVsDj",
        "outputId": "e004022f-09e3-4791-b82f-fa4068f9196d"
      },
      "source": [
        "df[df['twitts'].str.contains('.com')]"
      ],
      "execution_count": null,
      "outputs": [
        {
          "output_type": "execute_result",
          "data": {
            "text/html": [
              "<div>\n",
              "<style scoped>\n",
              "    .dataframe tbody tr th:only-of-type {\n",
              "        vertical-align: middle;\n",
              "    }\n",
              "\n",
              "    .dataframe tbody tr th {\n",
              "        vertical-align: top;\n",
              "    }\n",
              "\n",
              "    .dataframe thead th {\n",
              "        text-align: right;\n",
              "    }\n",
              "</style>\n",
              "<table border=\"1\" class=\"dataframe\">\n",
              "  <thead>\n",
              "    <tr style=\"text-align: right;\">\n",
              "      <th></th>\n",
              "      <th>twitts</th>\n",
              "      <th>sentiment</th>\n",
              "      <th>word_counts</th>\n",
              "      <th>char_counts</th>\n",
              "      <th>avg_word_len</th>\n",
              "      <th>stop_words_len</th>\n",
              "      <th>hashtags_count</th>\n",
              "      <th>mentions_count</th>\n",
              "      <th>numeric_counts</th>\n",
              "      <th>upper_counts</th>\n",
              "    </tr>\n",
              "  </thead>\n",
              "  <tbody>\n",
              "    <tr>\n",
              "      <th>1</th>\n",
              "      <td>damn the person who stolde my wallet !!!!!  ma...</td>\n",
              "      <td>1</td>\n",
              "      <td>18</td>\n",
              "      <td>73</td>\n",
              "      <td>4.055556</td>\n",
              "      <td>8</td>\n",
              "      <td>0</td>\n",
              "      <td>0</td>\n",
              "      <td>0</td>\n",
              "      <td>0</td>\n",
              "    </tr>\n",
              "    <tr>\n",
              "      <th>2</th>\n",
              "      <td>greetings from the piano bench  (photo) http:/...</td>\n",
              "      <td>1</td>\n",
              "      <td>7</td>\n",
              "      <td>57</td>\n",
              "      <td>8.142857</td>\n",
              "      <td>2</td>\n",
              "      <td>0</td>\n",
              "      <td>0</td>\n",
              "      <td>0</td>\n",
              "      <td>0</td>\n",
              "    </tr>\n",
              "    <tr>\n",
              "      <th>9</th>\n",
              "      <td>@mileycyrus http://twitpic.com/78urd - miley, ...</td>\n",
              "      <td>1</td>\n",
              "      <td>15</td>\n",
              "      <td>90</td>\n",
              "      <td>6.000000</td>\n",
              "      <td>2</td>\n",
              "      <td>0</td>\n",
              "      <td>1</td>\n",
              "      <td>0</td>\n",
              "      <td>0</td>\n",
              "    </tr>\n",
              "    <tr>\n",
              "      <th>11</th>\n",
              "      <td>shhhh...quitely now...come see... i found a ho...</td>\n",
              "      <td>1</td>\n",
              "      <td>11</td>\n",
              "      <td>71</td>\n",
              "      <td>6.454545</td>\n",
              "      <td>3</td>\n",
              "      <td>0</td>\n",
              "      <td>0</td>\n",
              "      <td>0</td>\n",
              "      <td>3</td>\n",
              "    </tr>\n",
              "    <tr>\n",
              "      <th>21</th>\n",
              "      <td>singing a duo with an aussie koala  www.marcop...</td>\n",
              "      <td>1</td>\n",
              "      <td>9</td>\n",
              "      <td>70</td>\n",
              "      <td>7.777778</td>\n",
              "      <td>3</td>\n",
              "      <td>0</td>\n",
              "      <td>0</td>\n",
              "      <td>0</td>\n",
              "      <td>0</td>\n",
              "    </tr>\n",
              "    <tr>\n",
              "      <th>...</th>\n",
              "      <td>...</td>\n",
              "      <td>...</td>\n",
              "      <td>...</td>\n",
              "      <td>...</td>\n",
              "      <td>...</td>\n",
              "      <td>...</td>\n",
              "      <td>...</td>\n",
              "      <td>...</td>\n",
              "      <td>...</td>\n",
              "      <td>...</td>\n",
              "    </tr>\n",
              "    <tr>\n",
              "      <th>29930</th>\n",
              "      <td>@angiebeyince http://twitpic.com/6h73m - aww d...</td>\n",
              "      <td>1</td>\n",
              "      <td>8</td>\n",
              "      <td>61</td>\n",
              "      <td>7.625000</td>\n",
              "      <td>0</td>\n",
              "      <td>0</td>\n",
              "      <td>1</td>\n",
              "      <td>0</td>\n",
              "      <td>0</td>\n",
              "    </tr>\n",
              "    <tr>\n",
              "      <th>29944</th>\n",
              "      <td>@paulandstorm hey paul! i think today's xkcd w...</td>\n",
              "      <td>1</td>\n",
              "      <td>14</td>\n",
              "      <td>81</td>\n",
              "      <td>5.785714</td>\n",
              "      <td>4</td>\n",
              "      <td>0</td>\n",
              "      <td>1</td>\n",
              "      <td>0</td>\n",
              "      <td>2</td>\n",
              "    </tr>\n",
              "    <tr>\n",
              "      <th>29946</th>\n",
              "      <td>@fouldsy 'poor'... so she went fishing?  i'm a...</td>\n",
              "      <td>0</td>\n",
              "      <td>21</td>\n",
              "      <td>98</td>\n",
              "      <td>4.666667</td>\n",
              "      <td>7</td>\n",
              "      <td>0</td>\n",
              "      <td>1</td>\n",
              "      <td>0</td>\n",
              "      <td>1</td>\n",
              "    </tr>\n",
              "    <tr>\n",
              "      <th>29964</th>\n",
              "      <td>@all_yaya welcome to the cult, er...i mean, club</td>\n",
              "      <td>1</td>\n",
              "      <td>8</td>\n",
              "      <td>41</td>\n",
              "      <td>5.125000</td>\n",
              "      <td>2</td>\n",
              "      <td>0</td>\n",
              "      <td>1</td>\n",
              "      <td>0</td>\n",
              "      <td>0</td>\n",
              "    </tr>\n",
              "    <tr>\n",
              "      <th>29983</th>\n",
              "      <td>@happyahma - welcome back! sorry to hear about...</td>\n",
              "      <td>0</td>\n",
              "      <td>10</td>\n",
              "      <td>47</td>\n",
              "      <td>4.700000</td>\n",
              "      <td>3</td>\n",
              "      <td>0</td>\n",
              "      <td>1</td>\n",
              "      <td>0</td>\n",
              "      <td>0</td>\n",
              "    </tr>\n",
              "  </tbody>\n",
              "</table>\n",
              "<p>2531 rows × 10 columns</p>\n",
              "</div>"
            ],
            "text/plain": [
              "                                                  twitts  ...  upper_counts\n",
              "1      damn the person who stolde my wallet !!!!!  ma...  ...             0\n",
              "2      greetings from the piano bench  (photo) http:/...  ...             0\n",
              "9      @mileycyrus http://twitpic.com/78urd - miley, ...  ...             0\n",
              "11     shhhh...quitely now...come see... i found a ho...  ...             3\n",
              "21     singing a duo with an aussie koala  www.marcop...  ...             0\n",
              "...                                                  ...  ...           ...\n",
              "29930  @angiebeyince http://twitpic.com/6h73m - aww d...  ...             0\n",
              "29944  @paulandstorm hey paul! i think today's xkcd w...  ...             2\n",
              "29946  @fouldsy 'poor'... so she went fishing?  i'm a...  ...             1\n",
              "29964  @all_yaya welcome to the cult, er...i mean, club   ...             0\n",
              "29983  @happyahma - welcome back! sorry to hear about...  ...             0\n",
              "\n",
              "[2531 rows x 10 columns]"
            ]
          },
          "metadata": {
            "tags": []
          },
          "execution_count": 66
        }
      ]
    },
    {
      "cell_type": "code",
      "metadata": {
        "colab": {
          "base_uri": "https://localhost:8080/",
          "height": 145
        },
        "id": "swzB9DMYbNIc",
        "outputId": "94b1d57e-43a7-4a36-d81d-a988867955f2"
      },
      "source": [
        "df[df['twitts'].str.contains('gmail.com')]"
      ],
      "execution_count": null,
      "outputs": [
        {
          "output_type": "execute_result",
          "data": {
            "text/html": [
              "<div>\n",
              "<style scoped>\n",
              "    .dataframe tbody tr th:only-of-type {\n",
              "        vertical-align: middle;\n",
              "    }\n",
              "\n",
              "    .dataframe tbody tr th {\n",
              "        vertical-align: top;\n",
              "    }\n",
              "\n",
              "    .dataframe thead th {\n",
              "        text-align: right;\n",
              "    }\n",
              "</style>\n",
              "<table border=\"1\" class=\"dataframe\">\n",
              "  <thead>\n",
              "    <tr style=\"text-align: right;\">\n",
              "      <th></th>\n",
              "      <th>twitts</th>\n",
              "      <th>sentiment</th>\n",
              "      <th>word_counts</th>\n",
              "      <th>char_counts</th>\n",
              "      <th>avg_word_len</th>\n",
              "      <th>stop_words_len</th>\n",
              "      <th>hashtags_count</th>\n",
              "      <th>mentions_count</th>\n",
              "      <th>numeric_counts</th>\n",
              "      <th>upper_counts</th>\n",
              "    </tr>\n",
              "  </thead>\n",
              "  <tbody>\n",
              "    <tr>\n",
              "      <th>7997</th>\n",
              "      <td>@vpaquet could you hook me up with a google vo...</td>\n",
              "      <td>1</td>\n",
              "      <td>18</td>\n",
              "      <td>85</td>\n",
              "      <td>4.722222</td>\n",
              "      <td>6</td>\n",
              "      <td>0</td>\n",
              "      <td>1</td>\n",
              "      <td>0</td>\n",
              "      <td>0</td>\n",
              "    </tr>\n",
              "    <tr>\n",
              "      <th>19972</th>\n",
              "      <td>@hot2definc phone was stolen bro....  campbell...</td>\n",
              "      <td>0</td>\n",
              "      <td>6</td>\n",
              "      <td>60</td>\n",
              "      <td>10.000000</td>\n",
              "      <td>1</td>\n",
              "      <td>0</td>\n",
              "      <td>1</td>\n",
              "      <td>0</td>\n",
              "      <td>0</td>\n",
              "    </tr>\n",
              "  </tbody>\n",
              "</table>\n",
              "</div>"
            ],
            "text/plain": [
              "                                                  twitts  ...  upper_counts\n",
              "7997   @vpaquet could you hook me up with a google vo...  ...             0\n",
              "19972  @hot2definc phone was stolen bro....  campbell...  ...             0\n",
              "\n",
              "[2 rows x 10 columns]"
            ]
          },
          "metadata": {
            "tags": []
          },
          "execution_count": 67
        }
      ]
    },
    {
      "cell_type": "code",
      "metadata": {
        "colab": {
          "base_uri": "https://localhost:8080/",
          "height": 35
        },
        "id": "M-Mo1b2YbVML",
        "outputId": "a8aa8b75-606b-4ff9-f8a6-bff2a8e7a68d"
      },
      "source": [
        "df.iloc[7997]['twitts']"
      ],
      "execution_count": null,
      "outputs": [
        {
          "output_type": "execute_result",
          "data": {
            "application/vnd.google.colaboratory.intrinsic+json": {
              "type": "string"
            },
            "text/plain": [
              "'@vpaquet could you hook me up with a google voice account? (my twitter id) at gmail.com pretty please? '"
            ]
          },
          "metadata": {
            "tags": []
          },
          "execution_count": 68
        }
      ]
    },
    {
      "cell_type": "code",
      "metadata": {
        "id": "4didQu5Zbxo9"
      },
      "source": [
        "#df[df['twitts'].str.contains('hotmail.com')]"
      ],
      "execution_count": null,
      "outputs": []
    },
    {
      "cell_type": "code",
      "metadata": {
        "id": "UXzwHukaUL1t"
      },
      "source": [
        "import re\r\n",
        "df['emails']=df['twitts'].apply(lambda x:re.findall(r'([a-z0-9+._-]+@[a-z0-9+._-]+\\.[a-z0-9+_-]+\\b)',x)) #victoria.thompson@emap.com"
      ],
      "execution_count": null,
      "outputs": []
    },
    {
      "cell_type": "code",
      "metadata": {
        "id": "cHqzy1b-hjHi"
      },
      "source": [
        "df['emails_count']=df['emails'].apply(lambda x:len(x))"
      ],
      "execution_count": null,
      "outputs": []
    },
    {
      "cell_type": "code",
      "metadata": {
        "id": "gDzTNdhCh7Eo",
        "colab": {
          "base_uri": "https://localhost:8080/",
          "height": 490
        },
        "outputId": "0a75b9de-c2d8-46ad-bece-56a76886aa0e"
      },
      "source": [
        "df[df['emails_count']>0]"
      ],
      "execution_count": null,
      "outputs": [
        {
          "output_type": "execute_result",
          "data": {
            "text/html": [
              "<div>\n",
              "<style scoped>\n",
              "    .dataframe tbody tr th:only-of-type {\n",
              "        vertical-align: middle;\n",
              "    }\n",
              "\n",
              "    .dataframe tbody tr th {\n",
              "        vertical-align: top;\n",
              "    }\n",
              "\n",
              "    .dataframe thead th {\n",
              "        text-align: right;\n",
              "    }\n",
              "</style>\n",
              "<table border=\"1\" class=\"dataframe\">\n",
              "  <thead>\n",
              "    <tr style=\"text-align: right;\">\n",
              "      <th></th>\n",
              "      <th>twitts</th>\n",
              "      <th>sentiment</th>\n",
              "      <th>word_counts</th>\n",
              "      <th>char_counts</th>\n",
              "      <th>avg_word_len</th>\n",
              "      <th>stop_words_len</th>\n",
              "      <th>hashtags_count</th>\n",
              "      <th>mentions_count</th>\n",
              "      <th>numeric_counts</th>\n",
              "      <th>upper_counts</th>\n",
              "      <th>emails</th>\n",
              "      <th>emails_count</th>\n",
              "    </tr>\n",
              "  </thead>\n",
              "  <tbody>\n",
              "    <tr>\n",
              "      <th>9757</th>\n",
              "      <td>just seeing all my@ambercamp...about to answer...</td>\n",
              "      <td>0</td>\n",
              "      <td>13</td>\n",
              "      <td>77</td>\n",
              "      <td>5.923077</td>\n",
              "      <td>6</td>\n",
              "      <td>0</td>\n",
              "      <td>0</td>\n",
              "      <td>0</td>\n",
              "      <td>1</td>\n",
              "      <td>[my@ambercamp...about]</td>\n",
              "      <td>1</td>\n",
              "    </tr>\n",
              "    <tr>\n",
              "      <th>11504</th>\n",
              "      <td>@nursehunter you just need to register. then e...</td>\n",
              "      <td>1</td>\n",
              "      <td>17</td>\n",
              "      <td>95</td>\n",
              "      <td>5.588235</td>\n",
              "      <td>7</td>\n",
              "      <td>0</td>\n",
              "      <td>1</td>\n",
              "      <td>0</td>\n",
              "      <td>0</td>\n",
              "      <td>[victoria.thompson@emap.com]</td>\n",
              "      <td>1</td>\n",
              "    </tr>\n",
              "    <tr>\n",
              "      <th>14619</th>\n",
              "      <td>@maritorres cool! just send an email to contac...</td>\n",
              "      <td>1</td>\n",
              "      <td>18</td>\n",
              "      <td>112</td>\n",
              "      <td>6.222222</td>\n",
              "      <td>5</td>\n",
              "      <td>1</td>\n",
              "      <td>1</td>\n",
              "      <td>0</td>\n",
              "      <td>1</td>\n",
              "      <td>[contactus@bondno9.com]</td>\n",
              "      <td>1</td>\n",
              "    </tr>\n",
              "    <tr>\n",
              "      <th>19972</th>\n",
              "      <td>@hot2definc phone was stolen bro....  campbell...</td>\n",
              "      <td>0</td>\n",
              "      <td>6</td>\n",
              "      <td>60</td>\n",
              "      <td>10.000000</td>\n",
              "      <td>1</td>\n",
              "      <td>0</td>\n",
              "      <td>1</td>\n",
              "      <td>0</td>\n",
              "      <td>0</td>\n",
              "      <td>[campbell.relations@gmail.com]</td>\n",
              "      <td>1</td>\n",
              "    </tr>\n",
              "    <tr>\n",
              "      <th>24514</th>\n",
              "      <td>@joystiq may i have a code please i'v been wan...</td>\n",
              "      <td>0</td>\n",
              "      <td>20</td>\n",
              "      <td>92</td>\n",
              "      <td>4.600000</td>\n",
              "      <td>9</td>\n",
              "      <td>0</td>\n",
              "      <td>1</td>\n",
              "      <td>0</td>\n",
              "      <td>2</td>\n",
              "      <td>[solarboy300@yahoo.com]</td>\n",
              "      <td>1</td>\n",
              "    </tr>\n",
              "    <tr>\n",
              "      <th>24686</th>\n",
              "      <td>looking to speak to a met life agent. please c...</td>\n",
              "      <td>1</td>\n",
              "      <td>20</td>\n",
              "      <td>102</td>\n",
              "      <td>5.100000</td>\n",
              "      <td>8</td>\n",
              "      <td>0</td>\n",
              "      <td>0</td>\n",
              "      <td>0</td>\n",
              "      <td>0</td>\n",
              "      <td>[lunasin@live.com]</td>\n",
              "      <td>1</td>\n",
              "    </tr>\n",
              "    <tr>\n",
              "      <th>28377</th>\n",
              "      <td>aw just got the cutest background this little ...</td>\n",
              "      <td>1</td>\n",
              "      <td>18</td>\n",
              "      <td>106</td>\n",
              "      <td>5.888889</td>\n",
              "      <td>6</td>\n",
              "      <td>0</td>\n",
              "      <td>1</td>\n",
              "      <td>0</td>\n",
              "      <td>3</td>\n",
              "      <td>[popstar.team@yahoo.com]</td>\n",
              "      <td>1</td>\n",
              "    </tr>\n",
              "  </tbody>\n",
              "</table>\n",
              "</div>"
            ],
            "text/plain": [
              "                                                  twitts  ...  emails_count\n",
              "9757   just seeing all my@ambercamp...about to answer...  ...             1\n",
              "11504  @nursehunter you just need to register. then e...  ...             1\n",
              "14619  @maritorres cool! just send an email to contac...  ...             1\n",
              "19972  @hot2definc phone was stolen bro....  campbell...  ...             1\n",
              "24514  @joystiq may i have a code please i'v been wan...  ...             1\n",
              "24686  looking to speak to a met life agent. please c...  ...             1\n",
              "28377  aw just got the cutest background this little ...  ...             1\n",
              "\n",
              "[7 rows x 12 columns]"
            ]
          },
          "metadata": {
            "tags": []
          },
          "execution_count": 72
        }
      ]
    },
    {
      "cell_type": "code",
      "metadata": {
        "colab": {
          "base_uri": "https://localhost:8080/",
          "height": 394
        },
        "id": "VHG4CJUMVmjS",
        "outputId": "0177a357-d191-4468-83f3-bee0ee3c2dd3"
      },
      "source": [
        "df[df['emails_count']>0].sample(5)"
      ],
      "execution_count": null,
      "outputs": [
        {
          "output_type": "execute_result",
          "data": {
            "text/html": [
              "<div>\n",
              "<style scoped>\n",
              "    .dataframe tbody tr th:only-of-type {\n",
              "        vertical-align: middle;\n",
              "    }\n",
              "\n",
              "    .dataframe tbody tr th {\n",
              "        vertical-align: top;\n",
              "    }\n",
              "\n",
              "    .dataframe thead th {\n",
              "        text-align: right;\n",
              "    }\n",
              "</style>\n",
              "<table border=\"1\" class=\"dataframe\">\n",
              "  <thead>\n",
              "    <tr style=\"text-align: right;\">\n",
              "      <th></th>\n",
              "      <th>twitts</th>\n",
              "      <th>sentiment</th>\n",
              "      <th>word_counts</th>\n",
              "      <th>char_counts</th>\n",
              "      <th>avg_word_len</th>\n",
              "      <th>stop_words_len</th>\n",
              "      <th>hashtags_count</th>\n",
              "      <th>mentions_count</th>\n",
              "      <th>numeric_counts</th>\n",
              "      <th>upper_counts</th>\n",
              "      <th>emails</th>\n",
              "      <th>emails_count</th>\n",
              "    </tr>\n",
              "  </thead>\n",
              "  <tbody>\n",
              "    <tr>\n",
              "      <th>11504</th>\n",
              "      <td>@nursehunter you just need to register. then e...</td>\n",
              "      <td>1</td>\n",
              "      <td>17</td>\n",
              "      <td>95</td>\n",
              "      <td>5.588235</td>\n",
              "      <td>7</td>\n",
              "      <td>0</td>\n",
              "      <td>1</td>\n",
              "      <td>0</td>\n",
              "      <td>0</td>\n",
              "      <td>[victoria.thompson@emap.com]</td>\n",
              "      <td>1</td>\n",
              "    </tr>\n",
              "    <tr>\n",
              "      <th>9757</th>\n",
              "      <td>just seeing all my@ambercamp...about to answer...</td>\n",
              "      <td>0</td>\n",
              "      <td>13</td>\n",
              "      <td>77</td>\n",
              "      <td>5.923077</td>\n",
              "      <td>6</td>\n",
              "      <td>0</td>\n",
              "      <td>0</td>\n",
              "      <td>0</td>\n",
              "      <td>1</td>\n",
              "      <td>[my@ambercamp...about]</td>\n",
              "      <td>1</td>\n",
              "    </tr>\n",
              "    <tr>\n",
              "      <th>14619</th>\n",
              "      <td>@maritorres cool! just send an email to contac...</td>\n",
              "      <td>1</td>\n",
              "      <td>18</td>\n",
              "      <td>112</td>\n",
              "      <td>6.222222</td>\n",
              "      <td>5</td>\n",
              "      <td>1</td>\n",
              "      <td>1</td>\n",
              "      <td>0</td>\n",
              "      <td>1</td>\n",
              "      <td>[contactus@bondno9.com]</td>\n",
              "      <td>1</td>\n",
              "    </tr>\n",
              "    <tr>\n",
              "      <th>24686</th>\n",
              "      <td>looking to speak to a met life agent. please c...</td>\n",
              "      <td>1</td>\n",
              "      <td>20</td>\n",
              "      <td>102</td>\n",
              "      <td>5.100000</td>\n",
              "      <td>8</td>\n",
              "      <td>0</td>\n",
              "      <td>0</td>\n",
              "      <td>0</td>\n",
              "      <td>0</td>\n",
              "      <td>[lunasin@live.com]</td>\n",
              "      <td>1</td>\n",
              "    </tr>\n",
              "    <tr>\n",
              "      <th>24514</th>\n",
              "      <td>@joystiq may i have a code please i'v been wan...</td>\n",
              "      <td>0</td>\n",
              "      <td>20</td>\n",
              "      <td>92</td>\n",
              "      <td>4.600000</td>\n",
              "      <td>9</td>\n",
              "      <td>0</td>\n",
              "      <td>1</td>\n",
              "      <td>0</td>\n",
              "      <td>2</td>\n",
              "      <td>[solarboy300@yahoo.com]</td>\n",
              "      <td>1</td>\n",
              "    </tr>\n",
              "  </tbody>\n",
              "</table>\n",
              "</div>"
            ],
            "text/plain": [
              "                                                  twitts  ...  emails_count\n",
              "11504  @nursehunter you just need to register. then e...  ...             1\n",
              "9757   just seeing all my@ambercamp...about to answer...  ...             1\n",
              "14619  @maritorres cool! just send an email to contac...  ...             1\n",
              "24686  looking to speak to a met life agent. please c...  ...             1\n",
              "24514  @joystiq may i have a code please i'v been wan...  ...             1\n",
              "\n",
              "[5 rows x 12 columns]"
            ]
          },
          "metadata": {
            "tags": []
          },
          "execution_count": 73
        }
      ]
    },
    {
      "cell_type": "code",
      "metadata": {
        "colab": {
          "base_uri": "https://localhost:8080/",
          "height": 35
        },
        "id": "k_EHaAhbVv8w",
        "outputId": "21afea20-3111-427f-c847-82205459efba"
      },
      "source": [
        "df.iloc[11504]['twitts']"
      ],
      "execution_count": null,
      "outputs": [
        {
          "output_type": "execute_result",
          "data": {
            "application/vnd.google.colaboratory.intrinsic+json": {
              "type": "string"
            },
            "text/plain": [
              "'@nursehunter you just need to register. then email your blog to victoria.thompson@emap.com - look forward to it '"
            ]
          },
          "metadata": {
            "tags": []
          },
          "execution_count": 74
        }
      ]
    },
    {
      "cell_type": "code",
      "metadata": {
        "id": "l5IZxKqJY4a1"
      },
      "source": [
        "df['twitts']=df['twitts'].apply(lambda x:re.sub(r'([a-z0-9+._-]+@[a-z0-9+._-]+\\.[a-z0-9+_-]+)',\"\",x))"
      ],
      "execution_count": null,
      "outputs": []
    },
    {
      "cell_type": "code",
      "metadata": {
        "colab": {
          "base_uri": "https://localhost:8080/",
          "height": 626
        },
        "id": "yn-Dh8KIaOgM",
        "outputId": "ce5fd9cb-3e8f-4cdc-b923-14037b8a427e"
      },
      "source": [
        "df[df['emails_count']>0]"
      ],
      "execution_count": null,
      "outputs": [
        {
          "output_type": "execute_result",
          "data": {
            "text/html": [
              "<div>\n",
              "<style scoped>\n",
              "    .dataframe tbody tr th:only-of-type {\n",
              "        vertical-align: middle;\n",
              "    }\n",
              "\n",
              "    .dataframe tbody tr th {\n",
              "        vertical-align: top;\n",
              "    }\n",
              "\n",
              "    .dataframe thead th {\n",
              "        text-align: right;\n",
              "    }\n",
              "</style>\n",
              "<table border=\"1\" class=\"dataframe\">\n",
              "  <thead>\n",
              "    <tr style=\"text-align: right;\">\n",
              "      <th></th>\n",
              "      <th>twitts</th>\n",
              "      <th>sentiment</th>\n",
              "      <th>word_counts</th>\n",
              "      <th>char_counts</th>\n",
              "      <th>avg_word_len</th>\n",
              "      <th>stop_words_len</th>\n",
              "      <th>hashtags_count</th>\n",
              "      <th>mentions_count</th>\n",
              "      <th>numeric_counts</th>\n",
              "      <th>upper_counts</th>\n",
              "      <th>emails</th>\n",
              "      <th>emails_count</th>\n",
              "    </tr>\n",
              "  </thead>\n",
              "  <tbody>\n",
              "    <tr>\n",
              "      <th>9757</th>\n",
              "      <td>just seeing all  to answer them all!! sorry fo...</td>\n",
              "      <td>0</td>\n",
              "      <td>13</td>\n",
              "      <td>77</td>\n",
              "      <td>5.923077</td>\n",
              "      <td>6</td>\n",
              "      <td>0</td>\n",
              "      <td>0</td>\n",
              "      <td>0</td>\n",
              "      <td>1</td>\n",
              "      <td>[my@ambercamp...about]</td>\n",
              "      <td>1</td>\n",
              "    </tr>\n",
              "    <tr>\n",
              "      <th>11504</th>\n",
              "      <td>@nursehunter you just need to register. then e...</td>\n",
              "      <td>1</td>\n",
              "      <td>17</td>\n",
              "      <td>95</td>\n",
              "      <td>5.588235</td>\n",
              "      <td>7</td>\n",
              "      <td>0</td>\n",
              "      <td>1</td>\n",
              "      <td>0</td>\n",
              "      <td>0</td>\n",
              "      <td>[victoria.thompson@emap.com]</td>\n",
              "      <td>1</td>\n",
              "    </tr>\n",
              "    <tr>\n",
              "      <th>14619</th>\n",
              "      <td>@maritorres cool! just send an email to  (tell...</td>\n",
              "      <td>1</td>\n",
              "      <td>18</td>\n",
              "      <td>112</td>\n",
              "      <td>6.222222</td>\n",
              "      <td>5</td>\n",
              "      <td>1</td>\n",
              "      <td>1</td>\n",
              "      <td>0</td>\n",
              "      <td>1</td>\n",
              "      <td>[contactus@bondno9.com]</td>\n",
              "      <td>1</td>\n",
              "    </tr>\n",
              "    <tr>\n",
              "      <th>19972</th>\n",
              "      <td>@hot2definc phone was stolen bro....</td>\n",
              "      <td>0</td>\n",
              "      <td>6</td>\n",
              "      <td>60</td>\n",
              "      <td>10.000000</td>\n",
              "      <td>1</td>\n",
              "      <td>0</td>\n",
              "      <td>1</td>\n",
              "      <td>0</td>\n",
              "      <td>0</td>\n",
              "      <td>[campbell.relations@gmail.com]</td>\n",
              "      <td>1</td>\n",
              "    </tr>\n",
              "    <tr>\n",
              "      <th>24514</th>\n",
              "      <td>@joystiq may i have a code please i'v been wan...</td>\n",
              "      <td>0</td>\n",
              "      <td>20</td>\n",
              "      <td>92</td>\n",
              "      <td>4.600000</td>\n",
              "      <td>9</td>\n",
              "      <td>0</td>\n",
              "      <td>1</td>\n",
              "      <td>0</td>\n",
              "      <td>2</td>\n",
              "      <td>[solarboy300@yahoo.com]</td>\n",
              "      <td>1</td>\n",
              "    </tr>\n",
              "    <tr>\n",
              "      <th>24686</th>\n",
              "      <td>looking to speak to a met life agent. please c...</td>\n",
              "      <td>1</td>\n",
              "      <td>20</td>\n",
              "      <td>102</td>\n",
              "      <td>5.100000</td>\n",
              "      <td>8</td>\n",
              "      <td>0</td>\n",
              "      <td>0</td>\n",
              "      <td>0</td>\n",
              "      <td>0</td>\n",
              "      <td>[lunasin@live.com]</td>\n",
              "      <td>1</td>\n",
              "    </tr>\n",
              "    <tr>\n",
              "      <th>28377</th>\n",
              "      <td>aw just got the cutest background this little ...</td>\n",
              "      <td>1</td>\n",
              "      <td>18</td>\n",
              "      <td>106</td>\n",
              "      <td>5.888889</td>\n",
              "      <td>6</td>\n",
              "      <td>0</td>\n",
              "      <td>1</td>\n",
              "      <td>0</td>\n",
              "      <td>3</td>\n",
              "      <td>[popstar.team@yahoo.com]</td>\n",
              "      <td>1</td>\n",
              "    </tr>\n",
              "  </tbody>\n",
              "</table>\n",
              "</div>"
            ],
            "text/plain": [
              "                                                  twitts  ...  emails_count\n",
              "9757   just seeing all  to answer them all!! sorry fo...  ...             1\n",
              "11504  @nursehunter you just need to register. then e...  ...             1\n",
              "14619  @maritorres cool! just send an email to  (tell...  ...             1\n",
              "19972             @hot2definc phone was stolen bro....    ...             1\n",
              "24514  @joystiq may i have a code please i'v been wan...  ...             1\n",
              "24686  looking to speak to a met life agent. please c...  ...             1\n",
              "28377  aw just got the cutest background this little ...  ...             1\n",
              "\n",
              "[7 rows x 12 columns]"
            ]
          },
          "metadata": {
            "tags": []
          },
          "execution_count": 76
        }
      ]
    },
    {
      "cell_type": "code",
      "metadata": {
        "colab": {
          "base_uri": "https://localhost:8080/",
          "height": 35
        },
        "id": "rjhkb9b2afxq",
        "outputId": "f106f586-bc7c-4ca8-a562-e16b658c1f72"
      },
      "source": [
        "df.iloc[24686]['twitts']"
      ],
      "execution_count": null,
      "outputs": [
        {
          "output_type": "execute_result",
          "data": {
            "application/vnd.google.colaboratory.intrinsic+json": {
              "type": "string"
            },
            "text/plain": [
              "'looking to speak to a met life agent. please call me (804) 858-3902 or email  before wednesday. thank you '"
            ]
          },
          "metadata": {
            "tags": []
          },
          "execution_count": 77
        }
      ]
    },
    {
      "cell_type": "markdown",
      "metadata": {
        "id": "mBorlgaXbKVf"
      },
      "source": [
        "**Count URLs and Remove it** "
      ]
    },
    {
      "cell_type": "code",
      "metadata": {
        "id": "cGZpDWCY1YRR"
      },
      "source": [
        "x='hi,thanks for watching it.for more visit https://youtube.com/kgptalkie'"
      ],
      "execution_count": null,
      "outputs": []
    },
    {
      "cell_type": "code",
      "metadata": {
        "colab": {
          "base_uri": "https://localhost:8080/"
        },
        "id": "n24Qhbn4gYue",
        "outputId": "ddc01b52-793b-435e-801b-1b61adf43967"
      },
      "source": [
        "re.findall(r'(http|https|ftp|ssh)://([\\w_-]+(?:(?:\\.[\\w_-]+)+))([\\w.,@?^=%&:/~+#-]*[\\w@?^=%&:/~+#-])?',x)"
      ],
      "execution_count": null,
      "outputs": [
        {
          "output_type": "execute_result",
          "data": {
            "text/plain": [
              "[('https', 'youtube.com', '/kgptalkie')]"
            ]
          },
          "metadata": {
            "tags": []
          },
          "execution_count": 90
        }
      ]
    },
    {
      "cell_type": "code",
      "metadata": {
        "id": "WaIWgJMA2q-9"
      },
      "source": [
        "df['url_flags']=df['twitts'].apply(lambda x: len(re.findall(r'(http|https|ftp|ssh)://([\\w_-]+(?:(?:\\.[\\w_-]+)+))([\\w.,@?^=%&:/~+#-]*[\\w@?^=%&:/~+#-])?',x)))"
      ],
      "execution_count": null,
      "outputs": []
    },
    {
      "cell_type": "code",
      "metadata": {
        "colab": {
          "base_uri": "https://localhost:8080/",
          "height": 728
        },
        "id": "flrTMq0kdT_z",
        "outputId": "71748cf0-d2f9-4739-efae-0eb4a0cea5e2"
      },
      "source": [
        "df[df['url_flags']>0]"
      ],
      "execution_count": null,
      "outputs": [
        {
          "output_type": "execute_result",
          "data": {
            "text/html": [
              "<div>\n",
              "<style scoped>\n",
              "    .dataframe tbody tr th:only-of-type {\n",
              "        vertical-align: middle;\n",
              "    }\n",
              "\n",
              "    .dataframe tbody tr th {\n",
              "        vertical-align: top;\n",
              "    }\n",
              "\n",
              "    .dataframe thead th {\n",
              "        text-align: right;\n",
              "    }\n",
              "</style>\n",
              "<table border=\"1\" class=\"dataframe\">\n",
              "  <thead>\n",
              "    <tr style=\"text-align: right;\">\n",
              "      <th></th>\n",
              "      <th>twitts</th>\n",
              "      <th>sentiment</th>\n",
              "      <th>word_counts</th>\n",
              "      <th>char_counts</th>\n",
              "      <th>avg_word_len</th>\n",
              "      <th>stop_words_len</th>\n",
              "      <th>hashtags_count</th>\n",
              "      <th>mentions_count</th>\n",
              "      <th>numeric_counts</th>\n",
              "      <th>upper_counts</th>\n",
              "      <th>emails</th>\n",
              "      <th>emails_count</th>\n",
              "      <th>url_flags</th>\n",
              "    </tr>\n",
              "  </thead>\n",
              "  <tbody>\n",
              "    <tr>\n",
              "      <th>2</th>\n",
              "      <td>greetings from the piano bench  (photo) http:/...</td>\n",
              "      <td>1</td>\n",
              "      <td>7</td>\n",
              "      <td>57</td>\n",
              "      <td>8.142857</td>\n",
              "      <td>2</td>\n",
              "      <td>0</td>\n",
              "      <td>0</td>\n",
              "      <td>0</td>\n",
              "      <td>0</td>\n",
              "      <td>[]</td>\n",
              "      <td>0</td>\n",
              "      <td>1</td>\n",
              "    </tr>\n",
              "    <tr>\n",
              "      <th>5</th>\n",
              "      <td>really upset  http://myloc.me/5x1t</td>\n",
              "      <td>0</td>\n",
              "      <td>3</td>\n",
              "      <td>31</td>\n",
              "      <td>10.333333</td>\n",
              "      <td>0</td>\n",
              "      <td>0</td>\n",
              "      <td>0</td>\n",
              "      <td>0</td>\n",
              "      <td>0</td>\n",
              "      <td>[]</td>\n",
              "      <td>0</td>\n",
              "      <td>1</td>\n",
              "    </tr>\n",
              "    <tr>\n",
              "      <th>9</th>\n",
              "      <td>@mileycyrus http://twitpic.com/78urd - miley, ...</td>\n",
              "      <td>1</td>\n",
              "      <td>15</td>\n",
              "      <td>90</td>\n",
              "      <td>6.000000</td>\n",
              "      <td>2</td>\n",
              "      <td>0</td>\n",
              "      <td>1</td>\n",
              "      <td>0</td>\n",
              "      <td>0</td>\n",
              "      <td>[]</td>\n",
              "      <td>0</td>\n",
              "      <td>1</td>\n",
              "    </tr>\n",
              "    <tr>\n",
              "      <th>11</th>\n",
              "      <td>shhhh...quitely now...come see... i found a ho...</td>\n",
              "      <td>1</td>\n",
              "      <td>11</td>\n",
              "      <td>71</td>\n",
              "      <td>6.454545</td>\n",
              "      <td>3</td>\n",
              "      <td>0</td>\n",
              "      <td>0</td>\n",
              "      <td>0</td>\n",
              "      <td>3</td>\n",
              "      <td>[]</td>\n",
              "      <td>0</td>\n",
              "      <td>1</td>\n",
              "    </tr>\n",
              "    <tr>\n",
              "      <th>18</th>\n",
              "      <td>my favourite is silver hook which is very nutt...</td>\n",
              "      <td>0</td>\n",
              "      <td>16</td>\n",
              "      <td>80</td>\n",
              "      <td>5.000000</td>\n",
              "      <td>8</td>\n",
              "      <td>0</td>\n",
              "      <td>0</td>\n",
              "      <td>0</td>\n",
              "      <td>0</td>\n",
              "      <td>[]</td>\n",
              "      <td>0</td>\n",
              "      <td>1</td>\n",
              "    </tr>\n",
              "    <tr>\n",
              "      <th>...</th>\n",
              "      <td>...</td>\n",
              "      <td>...</td>\n",
              "      <td>...</td>\n",
              "      <td>...</td>\n",
              "      <td>...</td>\n",
              "      <td>...</td>\n",
              "      <td>...</td>\n",
              "      <td>...</td>\n",
              "      <td>...</td>\n",
              "      <td>...</td>\n",
              "      <td>...</td>\n",
              "      <td>...</td>\n",
              "      <td>...</td>\n",
              "    </tr>\n",
              "    <tr>\n",
              "      <th>29930</th>\n",
              "      <td>@angiebeyince http://twitpic.com/6h73m - aww d...</td>\n",
              "      <td>1</td>\n",
              "      <td>8</td>\n",
              "      <td>61</td>\n",
              "      <td>7.625000</td>\n",
              "      <td>0</td>\n",
              "      <td>0</td>\n",
              "      <td>1</td>\n",
              "      <td>0</td>\n",
              "      <td>0</td>\n",
              "      <td>[]</td>\n",
              "      <td>0</td>\n",
              "      <td>1</td>\n",
              "    </tr>\n",
              "    <tr>\n",
              "      <th>29944</th>\n",
              "      <td>@paulandstorm hey paul! i think today's xkcd w...</td>\n",
              "      <td>1</td>\n",
              "      <td>14</td>\n",
              "      <td>81</td>\n",
              "      <td>5.785714</td>\n",
              "      <td>4</td>\n",
              "      <td>0</td>\n",
              "      <td>1</td>\n",
              "      <td>0</td>\n",
              "      <td>2</td>\n",
              "      <td>[]</td>\n",
              "      <td>0</td>\n",
              "      <td>1</td>\n",
              "    </tr>\n",
              "    <tr>\n",
              "      <th>29982</th>\n",
              "      <td>diana goss posted:   oh dear, sorry then if yo...</td>\n",
              "      <td>0</td>\n",
              "      <td>14</td>\n",
              "      <td>71</td>\n",
              "      <td>5.071429</td>\n",
              "      <td>5</td>\n",
              "      <td>0</td>\n",
              "      <td>0</td>\n",
              "      <td>0</td>\n",
              "      <td>0</td>\n",
              "      <td>[]</td>\n",
              "      <td>0</td>\n",
              "      <td>1</td>\n",
              "    </tr>\n",
              "    <tr>\n",
              "      <th>29986</th>\n",
              "      <td>@fragdolls rofl. not seen that before. my favo...</td>\n",
              "      <td>1</td>\n",
              "      <td>14</td>\n",
              "      <td>82</td>\n",
              "      <td>5.857143</td>\n",
              "      <td>3</td>\n",
              "      <td>0</td>\n",
              "      <td>1</td>\n",
              "      <td>0</td>\n",
              "      <td>1</td>\n",
              "      <td>[]</td>\n",
              "      <td>0</td>\n",
              "      <td>1</td>\n",
              "    </tr>\n",
              "    <tr>\n",
              "      <th>29992</th>\n",
              "      <td>i'm recieving alot of shocking news one shot ....</td>\n",
              "      <td>0</td>\n",
              "      <td>11</td>\n",
              "      <td>54</td>\n",
              "      <td>4.909091</td>\n",
              "      <td>2</td>\n",
              "      <td>0</td>\n",
              "      <td>0</td>\n",
              "      <td>0</td>\n",
              "      <td>0</td>\n",
              "      <td>[]</td>\n",
              "      <td>0</td>\n",
              "      <td>1</td>\n",
              "    </tr>\n",
              "  </tbody>\n",
              "</table>\n",
              "<p>1310 rows × 13 columns</p>\n",
              "</div>"
            ],
            "text/plain": [
              "                                                  twitts  ...  url_flags\n",
              "2      greetings from the piano bench  (photo) http:/...  ...          1\n",
              "5                     really upset  http://myloc.me/5x1t  ...          1\n",
              "9      @mileycyrus http://twitpic.com/78urd - miley, ...  ...          1\n",
              "11     shhhh...quitely now...come see... i found a ho...  ...          1\n",
              "18     my favourite is silver hook which is very nutt...  ...          1\n",
              "...                                                  ...  ...        ...\n",
              "29930  @angiebeyince http://twitpic.com/6h73m - aww d...  ...          1\n",
              "29944  @paulandstorm hey paul! i think today's xkcd w...  ...          1\n",
              "29982  diana goss posted:   oh dear, sorry then if yo...  ...          1\n",
              "29986  @fragdolls rofl. not seen that before. my favo...  ...          1\n",
              "29992  i'm recieving alot of shocking news one shot ....  ...          1\n",
              "\n",
              "[1310 rows x 13 columns]"
            ]
          },
          "metadata": {
            "tags": []
          },
          "execution_count": 92
        }
      ]
    },
    {
      "cell_type": "code",
      "metadata": {
        "colab": {
          "base_uri": "https://localhost:8080/",
          "height": 377
        },
        "id": "C0rYph1W3Xy1",
        "outputId": "db06cb13-a3d1-4379-fa6e-e2eb28b2833f"
      },
      "source": [
        "df[df['url_flags']>0].sample(5)"
      ],
      "execution_count": null,
      "outputs": [
        {
          "output_type": "execute_result",
          "data": {
            "text/html": [
              "<div>\n",
              "<style scoped>\n",
              "    .dataframe tbody tr th:only-of-type {\n",
              "        vertical-align: middle;\n",
              "    }\n",
              "\n",
              "    .dataframe tbody tr th {\n",
              "        vertical-align: top;\n",
              "    }\n",
              "\n",
              "    .dataframe thead th {\n",
              "        text-align: right;\n",
              "    }\n",
              "</style>\n",
              "<table border=\"1\" class=\"dataframe\">\n",
              "  <thead>\n",
              "    <tr style=\"text-align: right;\">\n",
              "      <th></th>\n",
              "      <th>twitts</th>\n",
              "      <th>sentiment</th>\n",
              "      <th>word_counts</th>\n",
              "      <th>char_counts</th>\n",
              "      <th>avg_word_len</th>\n",
              "      <th>stop_words_len</th>\n",
              "      <th>hashtags_count</th>\n",
              "      <th>mentions_count</th>\n",
              "      <th>numeric_counts</th>\n",
              "      <th>upper_counts</th>\n",
              "      <th>emails</th>\n",
              "      <th>emails_count</th>\n",
              "      <th>url_flags</th>\n",
              "    </tr>\n",
              "  </thead>\n",
              "  <tbody>\n",
              "    <tr>\n",
              "      <th>6800</th>\n",
              "      <td>pro tip: the qr code in http://msca.me/jp goes...</td>\n",
              "      <td>1</td>\n",
              "      <td>21</td>\n",
              "      <td>111</td>\n",
              "      <td>5.285714</td>\n",
              "      <td>6</td>\n",
              "      <td>0</td>\n",
              "      <td>0</td>\n",
              "      <td>0</td>\n",
              "      <td>1</td>\n",
              "      <td>[]</td>\n",
              "      <td>0</td>\n",
              "      <td>2</td>\n",
              "    </tr>\n",
              "    <tr>\n",
              "      <th>347</th>\n",
              "      <td>@sunkistcami sorry to eavesdrop, but we have t...</td>\n",
              "      <td>1</td>\n",
              "      <td>16</td>\n",
              "      <td>113</td>\n",
              "      <td>7.062500</td>\n",
              "      <td>6</td>\n",
              "      <td>0</td>\n",
              "      <td>1</td>\n",
              "      <td>0</td>\n",
              "      <td>0</td>\n",
              "      <td>[]</td>\n",
              "      <td>0</td>\n",
              "      <td>1</td>\n",
              "    </tr>\n",
              "    <tr>\n",
              "      <th>20969</th>\n",
              "      <td>my karma should be up  http://plurk.com/p/xduea</td>\n",
              "      <td>1</td>\n",
              "      <td>6</td>\n",
              "      <td>41</td>\n",
              "      <td>6.833333</td>\n",
              "      <td>3</td>\n",
              "      <td>0</td>\n",
              "      <td>0</td>\n",
              "      <td>0</td>\n",
              "      <td>0</td>\n",
              "      <td>[]</td>\n",
              "      <td>0</td>\n",
              "      <td>1</td>\n",
              "    </tr>\n",
              "    <tr>\n",
              "      <th>14755</th>\n",
              "      <td>http://twitpic.com/8dinv going to miss @aliosw...</td>\n",
              "      <td>0</td>\n",
              "      <td>7</td>\n",
              "      <td>56</td>\n",
              "      <td>8.000000</td>\n",
              "      <td>1</td>\n",
              "      <td>0</td>\n",
              "      <td>1</td>\n",
              "      <td>0</td>\n",
              "      <td>0</td>\n",
              "      <td>[]</td>\n",
              "      <td>0</td>\n",
              "      <td>1</td>\n",
              "    </tr>\n",
              "    <tr>\n",
              "      <th>19646</th>\n",
              "      <td>@brigettethen http://twitpic.com/6tey4 - yeah,...</td>\n",
              "      <td>0</td>\n",
              "      <td>22</td>\n",
              "      <td>115</td>\n",
              "      <td>5.227273</td>\n",
              "      <td>5</td>\n",
              "      <td>0</td>\n",
              "      <td>1</td>\n",
              "      <td>0</td>\n",
              "      <td>1</td>\n",
              "      <td>[]</td>\n",
              "      <td>0</td>\n",
              "      <td>1</td>\n",
              "    </tr>\n",
              "  </tbody>\n",
              "</table>\n",
              "</div>"
            ],
            "text/plain": [
              "                                                  twitts  ...  url_flags\n",
              "6800   pro tip: the qr code in http://msca.me/jp goes...  ...          2\n",
              "347    @sunkistcami sorry to eavesdrop, but we have t...  ...          1\n",
              "20969    my karma should be up  http://plurk.com/p/xduea  ...          1\n",
              "14755  http://twitpic.com/8dinv going to miss @aliosw...  ...          1\n",
              "19646  @brigettethen http://twitpic.com/6tey4 - yeah,...  ...          1\n",
              "\n",
              "[5 rows x 13 columns]"
            ]
          },
          "metadata": {
            "tags": []
          },
          "execution_count": 93
        }
      ]
    },
    {
      "cell_type": "code",
      "metadata": {
        "colab": {
          "base_uri": "https://localhost:8080/",
          "height": 35
        },
        "id": "2yrCREPp3xeX",
        "outputId": "56431568-729a-4188-f0c9-1b322db00c96"
      },
      "source": [
        "#remove the web address from the tweet data\r\n",
        "re.sub(r'(http|https|ftp|ssh)://([\\w_-]+(?:(?:\\.[\\w_-]+)+))([\\w.,@?^=%&:/~+#-]*[\\w@?^=%&:/~+#-])?','',x)"
      ],
      "execution_count": null,
      "outputs": [
        {
          "output_type": "execute_result",
          "data": {
            "application/vnd.google.colaboratory.intrinsic+json": {
              "type": "string"
            },
            "text/plain": [
              "'hi,thanks for watching it.for more visit '"
            ]
          },
          "metadata": {
            "tags": []
          },
          "execution_count": 94
        }
      ]
    },
    {
      "cell_type": "code",
      "metadata": {
        "id": "Lcc09Ybx4SJs"
      },
      "source": [
        "df['twitts']=df['twitts'].apply(lambda x: re.sub(r'(http|https|ftp|ssh)://([\\w_-]+(?:(?:\\.[\\w_-]+)+))([\\w.,@?^=%&:/~+#-]*[\\w@?^=%&:/~+#-])?','',x))"
      ],
      "execution_count": null,
      "outputs": []
    },
    {
      "cell_type": "code",
      "metadata": {
        "colab": {
          "base_uri": "https://localhost:8080/",
          "height": 258
        },
        "id": "Brh5sskV4n7U",
        "outputId": "f72c7084-dc4b-4942-d366-41a8092ef650"
      },
      "source": [
        "df.sample(5)"
      ],
      "execution_count": null,
      "outputs": [
        {
          "output_type": "execute_result",
          "data": {
            "text/html": [
              "<div>\n",
              "<style scoped>\n",
              "    .dataframe tbody tr th:only-of-type {\n",
              "        vertical-align: middle;\n",
              "    }\n",
              "\n",
              "    .dataframe tbody tr th {\n",
              "        vertical-align: top;\n",
              "    }\n",
              "\n",
              "    .dataframe thead th {\n",
              "        text-align: right;\n",
              "    }\n",
              "</style>\n",
              "<table border=\"1\" class=\"dataframe\">\n",
              "  <thead>\n",
              "    <tr style=\"text-align: right;\">\n",
              "      <th></th>\n",
              "      <th>twitts</th>\n",
              "      <th>sentiment</th>\n",
              "      <th>word_counts</th>\n",
              "      <th>char_counts</th>\n",
              "      <th>avg_word_len</th>\n",
              "      <th>stop_words_len</th>\n",
              "      <th>hashtags_count</th>\n",
              "      <th>mentions_count</th>\n",
              "      <th>numeric_counts</th>\n",
              "      <th>upper_counts</th>\n",
              "      <th>emails</th>\n",
              "      <th>emails_count</th>\n",
              "      <th>url_flags</th>\n",
              "    </tr>\n",
              "  </thead>\n",
              "  <tbody>\n",
              "    <tr>\n",
              "      <th>22132</th>\n",
              "      <td>@thomas_edwards not until our first issue of t...</td>\n",
              "      <td>0</td>\n",
              "      <td>22</td>\n",
              "      <td>102</td>\n",
              "      <td>4.636364</td>\n",
              "      <td>11</td>\n",
              "      <td>0</td>\n",
              "      <td>1</td>\n",
              "      <td>0</td>\n",
              "      <td>1</td>\n",
              "      <td>[]</td>\n",
              "      <td>0</td>\n",
              "      <td>0</td>\n",
              "    </tr>\n",
              "    <tr>\n",
              "      <th>12163</th>\n",
              "      <td>says wee.. tapos na denn magenroll!</td>\n",
              "      <td>1</td>\n",
              "      <td>7</td>\n",
              "      <td>54</td>\n",
              "      <td>7.714286</td>\n",
              "      <td>0</td>\n",
              "      <td>0</td>\n",
              "      <td>0</td>\n",
              "      <td>0</td>\n",
              "      <td>1</td>\n",
              "      <td>[]</td>\n",
              "      <td>0</td>\n",
              "      <td>1</td>\n",
              "    </tr>\n",
              "    <tr>\n",
              "      <th>23850</th>\n",
              "      <td>@savvyauntie sponsored conversations are bette...</td>\n",
              "      <td>1</td>\n",
              "      <td>18</td>\n",
              "      <td>114</td>\n",
              "      <td>6.333333</td>\n",
              "      <td>6</td>\n",
              "      <td>0</td>\n",
              "      <td>1</td>\n",
              "      <td>0</td>\n",
              "      <td>0</td>\n",
              "      <td>[]</td>\n",
              "      <td>0</td>\n",
              "      <td>0</td>\n",
              "    </tr>\n",
              "    <tr>\n",
              "      <th>14774</th>\n",
              "      <td>you confuse me</td>\n",
              "      <td>0</td>\n",
              "      <td>3</td>\n",
              "      <td>12</td>\n",
              "      <td>4.000000</td>\n",
              "      <td>2</td>\n",
              "      <td>0</td>\n",
              "      <td>0</td>\n",
              "      <td>0</td>\n",
              "      <td>0</td>\n",
              "      <td>[]</td>\n",
              "      <td>0</td>\n",
              "      <td>0</td>\n",
              "    </tr>\n",
              "    <tr>\n",
              "      <th>609</th>\n",
              "      <td>@frogst thaaaaaaaaaaaaaaaaaaaaaaaaaaaaaaaaaaaa...</td>\n",
              "      <td>1</td>\n",
              "      <td>2</td>\n",
              "      <td>54</td>\n",
              "      <td>27.000000</td>\n",
              "      <td>0</td>\n",
              "      <td>0</td>\n",
              "      <td>1</td>\n",
              "      <td>0</td>\n",
              "      <td>0</td>\n",
              "      <td>[]</td>\n",
              "      <td>0</td>\n",
              "      <td>0</td>\n",
              "    </tr>\n",
              "  </tbody>\n",
              "</table>\n",
              "</div>"
            ],
            "text/plain": [
              "                                                  twitts  ...  url_flags\n",
              "22132  @thomas_edwards not until our first issue of t...  ...          0\n",
              "12163              says wee.. tapos na denn magenroll!    ...          1\n",
              "23850  @savvyauntie sponsored conversations are bette...  ...          0\n",
              "14774                                    you confuse me   ...          0\n",
              "609    @frogst thaaaaaaaaaaaaaaaaaaaaaaaaaaaaaaaaaaaa...  ...          0\n",
              "\n",
              "[5 rows x 13 columns]"
            ]
          },
          "metadata": {
            "tags": []
          },
          "execution_count": 96
        }
      ]
    },
    {
      "cell_type": "code",
      "metadata": {
        "colab": {
          "base_uri": "https://localhost:8080/",
          "height": 35
        },
        "id": "ckAjKnxO4x1m",
        "outputId": "cf121595-f27c-4798-9171-8ea349fa0244"
      },
      "source": [
        "df.iloc[609]['twitts']"
      ],
      "execution_count": null,
      "outputs": [
        {
          "output_type": "execute_result",
          "data": {
            "application/vnd.google.colaboratory.intrinsic+json": {
              "type": "string"
            },
            "text/plain": [
              "'@frogst thaaaaaaaaaaaaaaaaaaaaaaaaaaaaaaaaaaaaaaaaanks! '"
            ]
          },
          "metadata": {
            "tags": []
          },
          "execution_count": 97
        }
      ]
    },
    {
      "cell_type": "markdown",
      "metadata": {
        "id": "wq2-a1Sl7AcB"
      },
      "source": [
        "**Remove RT**"
      ]
    },
    {
      "cell_type": "code",
      "metadata": {
        "colab": {
          "base_uri": "https://localhost:8080/",
          "height": 35
        },
        "id": "SxOCYJtf7Crt",
        "outputId": "61ec4a68-41bf-4a88-820e-9aeb6cc7b127"
      },
      "source": [
        "x= 'rt @username:hello hirt'\r\n",
        "re.sub(r'\\brt\\b','',x).strip()"
      ],
      "execution_count": null,
      "outputs": [
        {
          "output_type": "execute_result",
          "data": {
            "application/vnd.google.colaboratory.intrinsic+json": {
              "type": "string"
            },
            "text/plain": [
              "'@username:hello hirt'"
            ]
          },
          "metadata": {
            "tags": []
          },
          "execution_count": 98
        }
      ]
    },
    {
      "cell_type": "code",
      "metadata": {
        "id": "GdW9-99T7VJt"
      },
      "source": [
        "df['twitts']=df['twitts'].apply(lambda x:re.sub(r'\\brt\\b','',x).strip())"
      ],
      "execution_count": null,
      "outputs": []
    },
    {
      "cell_type": "code",
      "metadata": {
        "colab": {
          "base_uri": "https://localhost:8080/",
          "height": 428
        },
        "id": "LMjlIAYN7jVX",
        "outputId": "312a7b24-3b16-48c3-e917-9ecdbca6f61e"
      },
      "source": [
        "df.sample(5)"
      ],
      "execution_count": null,
      "outputs": [
        {
          "output_type": "execute_result",
          "data": {
            "text/html": [
              "<div>\n",
              "<style scoped>\n",
              "    .dataframe tbody tr th:only-of-type {\n",
              "        vertical-align: middle;\n",
              "    }\n",
              "\n",
              "    .dataframe tbody tr th {\n",
              "        vertical-align: top;\n",
              "    }\n",
              "\n",
              "    .dataframe thead th {\n",
              "        text-align: right;\n",
              "    }\n",
              "</style>\n",
              "<table border=\"1\" class=\"dataframe\">\n",
              "  <thead>\n",
              "    <tr style=\"text-align: right;\">\n",
              "      <th></th>\n",
              "      <th>twitts</th>\n",
              "      <th>sentiment</th>\n",
              "      <th>word_counts</th>\n",
              "      <th>char_counts</th>\n",
              "      <th>avg_word_len</th>\n",
              "      <th>stop_words_len</th>\n",
              "      <th>hashtags_count</th>\n",
              "      <th>mentions_count</th>\n",
              "      <th>numeric_counts</th>\n",
              "      <th>upper_counts</th>\n",
              "      <th>emails</th>\n",
              "      <th>emails_count</th>\n",
              "      <th>url_flags</th>\n",
              "    </tr>\n",
              "  </thead>\n",
              "  <tbody>\n",
              "    <tr>\n",
              "      <th>23872</th>\n",
              "      <td>@mcawilliams wow...lomg time no seen ...welcom...</td>\n",
              "      <td>1</td>\n",
              "      <td>8</td>\n",
              "      <td>61</td>\n",
              "      <td>7.625000</td>\n",
              "      <td>1</td>\n",
              "      <td>0</td>\n",
              "      <td>1</td>\n",
              "      <td>0</td>\n",
              "      <td>0</td>\n",
              "      <td>[]</td>\n",
              "      <td>0</td>\n",
              "      <td>0</td>\n",
              "    </tr>\n",
              "    <tr>\n",
              "      <th>12323</th>\n",
              "      <td>mowing the lawn</td>\n",
              "      <td>0</td>\n",
              "      <td>3</td>\n",
              "      <td>13</td>\n",
              "      <td>4.333333</td>\n",
              "      <td>1</td>\n",
              "      <td>0</td>\n",
              "      <td>0</td>\n",
              "      <td>0</td>\n",
              "      <td>0</td>\n",
              "      <td>[]</td>\n",
              "      <td>0</td>\n",
              "      <td>0</td>\n",
              "    </tr>\n",
              "    <tr>\n",
              "      <th>7125</th>\n",
              "      <td>gained back 4.5 lbs in 3 days... wtf?!</td>\n",
              "      <td>0</td>\n",
              "      <td>8</td>\n",
              "      <td>31</td>\n",
              "      <td>3.875000</td>\n",
              "      <td>2</td>\n",
              "      <td>0</td>\n",
              "      <td>0</td>\n",
              "      <td>1</td>\n",
              "      <td>1</td>\n",
              "      <td>[]</td>\n",
              "      <td>0</td>\n",
              "      <td>0</td>\n",
              "    </tr>\n",
              "    <tr>\n",
              "      <th>17746</th>\n",
              "      <td>more than half way throught the last twighligh...</td>\n",
              "      <td>0</td>\n",
              "      <td>15</td>\n",
              "      <td>68</td>\n",
              "      <td>4.533333</td>\n",
              "      <td>5</td>\n",
              "      <td>0</td>\n",
              "      <td>0</td>\n",
              "      <td>0</td>\n",
              "      <td>1</td>\n",
              "      <td>[]</td>\n",
              "      <td>0</td>\n",
              "      <td>0</td>\n",
              "    </tr>\n",
              "    <tr>\n",
              "      <th>18041</th>\n",
              "      <td>if i were in college, i would be done or just ...</td>\n",
              "      <td>0</td>\n",
              "      <td>27</td>\n",
              "      <td>94</td>\n",
              "      <td>3.481481</td>\n",
              "      <td>16</td>\n",
              "      <td>0</td>\n",
              "      <td>0</td>\n",
              "      <td>0</td>\n",
              "      <td>3</td>\n",
              "      <td>[]</td>\n",
              "      <td>0</td>\n",
              "      <td>0</td>\n",
              "    </tr>\n",
              "  </tbody>\n",
              "</table>\n",
              "</div>"
            ],
            "text/plain": [
              "                                                  twitts  ...  url_flags\n",
              "23872  @mcawilliams wow...lomg time no seen ...welcom...  ...          0\n",
              "12323                                    mowing the lawn  ...          0\n",
              "7125              gained back 4.5 lbs in 3 days... wtf?!  ...          0\n",
              "17746  more than half way throught the last twighligh...  ...          0\n",
              "18041  if i were in college, i would be done or just ...  ...          0\n",
              "\n",
              "[5 rows x 13 columns]"
            ]
          },
          "metadata": {
            "tags": []
          },
          "execution_count": 100
        }
      ]
    },
    {
      "cell_type": "markdown",
      "metadata": {
        "id": "T4LJwsES72Tk"
      },
      "source": [
        "**Special Chars removal or punctuation removal**"
      ]
    },
    {
      "cell_type": "code",
      "metadata": {
        "colab": {
          "base_uri": "https://localhost:8080/",
          "height": 264
        },
        "id": "tJaKjROP73q7",
        "outputId": "22bc791d-295f-4eec-eba4-14a96d4a22fe"
      },
      "source": [
        "df.sample(3)"
      ],
      "execution_count": null,
      "outputs": [
        {
          "output_type": "execute_result",
          "data": {
            "text/html": [
              "<div>\n",
              "<style scoped>\n",
              "    .dataframe tbody tr th:only-of-type {\n",
              "        vertical-align: middle;\n",
              "    }\n",
              "\n",
              "    .dataframe tbody tr th {\n",
              "        vertical-align: top;\n",
              "    }\n",
              "\n",
              "    .dataframe thead th {\n",
              "        text-align: right;\n",
              "    }\n",
              "</style>\n",
              "<table border=\"1\" class=\"dataframe\">\n",
              "  <thead>\n",
              "    <tr style=\"text-align: right;\">\n",
              "      <th></th>\n",
              "      <th>twitts</th>\n",
              "      <th>sentiment</th>\n",
              "      <th>word_counts</th>\n",
              "      <th>char_counts</th>\n",
              "      <th>avg_word_len</th>\n",
              "      <th>stop_words_len</th>\n",
              "      <th>hashtags_count</th>\n",
              "      <th>mentions_count</th>\n",
              "      <th>numeric_counts</th>\n",
              "      <th>upper_counts</th>\n",
              "      <th>emails</th>\n",
              "      <th>emails_count</th>\n",
              "      <th>url_flags</th>\n",
              "    </tr>\n",
              "  </thead>\n",
              "  <tbody>\n",
              "    <tr>\n",
              "      <th>17165</th>\n",
              "      <td>@thankasoldier  - wow. that really pulls at th...</td>\n",
              "      <td>0</td>\n",
              "      <td>11</td>\n",
              "      <td>76</td>\n",
              "      <td>6.909091</td>\n",
              "      <td>3</td>\n",
              "      <td>0</td>\n",
              "      <td>1</td>\n",
              "      <td>0</td>\n",
              "      <td>0</td>\n",
              "      <td>[]</td>\n",
              "      <td>0</td>\n",
              "      <td>1</td>\n",
              "    </tr>\n",
              "    <tr>\n",
              "      <th>26473</th>\n",
              "      <td>feild day today</td>\n",
              "      <td>1</td>\n",
              "      <td>3</td>\n",
              "      <td>13</td>\n",
              "      <td>4.333333</td>\n",
              "      <td>0</td>\n",
              "      <td>0</td>\n",
              "      <td>0</td>\n",
              "      <td>0</td>\n",
              "      <td>0</td>\n",
              "      <td>[]</td>\n",
              "      <td>0</td>\n",
              "      <td>0</td>\n",
              "    </tr>\n",
              "    <tr>\n",
              "      <th>29892</th>\n",
              "      <td>muchos champagne drinking going on in the rive...</td>\n",
              "      <td>0</td>\n",
              "      <td>21</td>\n",
              "      <td>90</td>\n",
              "      <td>4.285714</td>\n",
              "      <td>9</td>\n",
              "      <td>0</td>\n",
              "      <td>0</td>\n",
              "      <td>0</td>\n",
              "      <td>0</td>\n",
              "      <td>[]</td>\n",
              "      <td>0</td>\n",
              "      <td>0</td>\n",
              "    </tr>\n",
              "  </tbody>\n",
              "</table>\n",
              "</div>"
            ],
            "text/plain": [
              "                                                  twitts  ...  url_flags\n",
              "17165  @thankasoldier  - wow. that really pulls at th...  ...          1\n",
              "26473                                    feild day today  ...          0\n",
              "29892  muchos champagne drinking going on in the rive...  ...          0\n",
              "\n",
              "[3 rows x 13 columns]"
            ]
          },
          "metadata": {
            "tags": []
          },
          "execution_count": 101
        }
      ]
    },
    {
      "cell_type": "code",
      "metadata": {
        "id": "BPnUvvxB9drk"
      },
      "source": [
        "x='@thankasoldier - wow. that really pulls at th...'"
      ],
      "execution_count": null,
      "outputs": []
    },
    {
      "cell_type": "code",
      "metadata": {
        "colab": {
          "base_uri": "https://localhost:8080/",
          "height": 35
        },
        "id": "JEIACi1g9jzI",
        "outputId": "fc67b0bc-43b3-4376-e14d-40856c96ef95"
      },
      "source": [
        "re.sub(r'[^\\w ]+',\"\",x)"
      ],
      "execution_count": null,
      "outputs": [
        {
          "output_type": "execute_result",
          "data": {
            "application/vnd.google.colaboratory.intrinsic+json": {
              "type": "string"
            },
            "text/plain": [
              "'thankasoldier  wow that really pulls at th'"
            ]
          },
          "metadata": {
            "tags": []
          },
          "execution_count": 105
        }
      ]
    },
    {
      "cell_type": "code",
      "metadata": {
        "id": "V_ClYDXM99rM"
      },
      "source": [
        "df['twitts']=df['twitts'].apply(lambda x: re.sub(r'[^\\w ]+',\"\",x))"
      ],
      "execution_count": null,
      "outputs": []
    },
    {
      "cell_type": "code",
      "metadata": {
        "colab": {
          "base_uri": "https://localhost:8080/",
          "height": 250
        },
        "id": "H1BvTygf-JTT",
        "outputId": "614422c1-6cb8-489b-a83d-857a702c13f8"
      },
      "source": [
        "df.sample(2)"
      ],
      "execution_count": null,
      "outputs": [
        {
          "output_type": "execute_result",
          "data": {
            "text/html": [
              "<div>\n",
              "<style scoped>\n",
              "    .dataframe tbody tr th:only-of-type {\n",
              "        vertical-align: middle;\n",
              "    }\n",
              "\n",
              "    .dataframe tbody tr th {\n",
              "        vertical-align: top;\n",
              "    }\n",
              "\n",
              "    .dataframe thead th {\n",
              "        text-align: right;\n",
              "    }\n",
              "</style>\n",
              "<table border=\"1\" class=\"dataframe\">\n",
              "  <thead>\n",
              "    <tr style=\"text-align: right;\">\n",
              "      <th></th>\n",
              "      <th>twitts</th>\n",
              "      <th>sentiment</th>\n",
              "      <th>word_counts</th>\n",
              "      <th>char_counts</th>\n",
              "      <th>avg_word_len</th>\n",
              "      <th>stop_words_len</th>\n",
              "      <th>hashtags_count</th>\n",
              "      <th>mentions_count</th>\n",
              "      <th>numeric_counts</th>\n",
              "      <th>upper_counts</th>\n",
              "      <th>emails</th>\n",
              "      <th>emails_count</th>\n",
              "      <th>url_flags</th>\n",
              "    </tr>\n",
              "  </thead>\n",
              "  <tbody>\n",
              "    <tr>\n",
              "      <th>12062</th>\n",
              "      <td>what it tells you is how often you are being l...</td>\n",
              "      <td>1</td>\n",
              "      <td>26</td>\n",
              "      <td>95</td>\n",
              "      <td>3.653846</td>\n",
              "      <td>17</td>\n",
              "      <td>0</td>\n",
              "      <td>0</td>\n",
              "      <td>0</td>\n",
              "      <td>5</td>\n",
              "      <td>[]</td>\n",
              "      <td>0</td>\n",
              "      <td>0</td>\n",
              "    </tr>\n",
              "    <tr>\n",
              "      <th>18611</th>\n",
              "      <td>grumpy_cow hey my fav is riesling too especial...</td>\n",
              "      <td>0</td>\n",
              "      <td>17</td>\n",
              "      <td>82</td>\n",
              "      <td>4.823529</td>\n",
              "      <td>2</td>\n",
              "      <td>0</td>\n",
              "      <td>1</td>\n",
              "      <td>0</td>\n",
              "      <td>1</td>\n",
              "      <td>[]</td>\n",
              "      <td>0</td>\n",
              "      <td>0</td>\n",
              "    </tr>\n",
              "  </tbody>\n",
              "</table>\n",
              "</div>"
            ],
            "text/plain": [
              "                                                  twitts  ...  url_flags\n",
              "12062  what it tells you is how often you are being l...  ...          0\n",
              "18611  grumpy_cow hey my fav is riesling too especial...  ...          0\n",
              "\n",
              "[2 rows x 13 columns]"
            ]
          },
          "metadata": {
            "tags": []
          },
          "execution_count": 107
        }
      ]
    },
    {
      "cell_type": "code",
      "metadata": {
        "colab": {
          "base_uri": "https://localhost:8080/",
          "height": 35
        },
        "id": "Xdf2Jhqt-PT8",
        "outputId": "9ca31b73-0f43-4584-cc37-8fc85775ae2d"
      },
      "source": [
        "df.iloc[12062]['twitts']"
      ],
      "execution_count": null,
      "outputs": [
        {
          "output_type": "execute_result",
          "data": {
            "application/vnd.google.colaboratory.intrinsic+json": {
              "type": "string"
            },
            "text/plain": [
              "'what it tells you is how often you are being looked at by others and it goes by your id  i was shocked yet very happy'"
            ]
          },
          "metadata": {
            "tags": []
          },
          "execution_count": 109
        }
      ]
    },
    {
      "cell_type": "markdown",
      "metadata": {
        "id": "fi9YoswY-aVr"
      },
      "source": [
        "**Remove Multiple Spaces**"
      ]
    },
    {
      "cell_type": "code",
      "metadata": {
        "id": "qyVy150S-c_W"
      },
      "source": [
        "x='hi     hello     how are you'"
      ],
      "execution_count": null,
      "outputs": []
    },
    {
      "cell_type": "code",
      "metadata": {
        "colab": {
          "base_uri": "https://localhost:8080/",
          "height": 35
        },
        "id": "0t5xulhB-3ff",
        "outputId": "271dc2d0-9eeb-423f-d0fa-54b6fd573442"
      },
      "source": [
        "' '.join(x.split())"
      ],
      "execution_count": null,
      "outputs": [
        {
          "output_type": "execute_result",
          "data": {
            "application/vnd.google.colaboratory.intrinsic+json": {
              "type": "string"
            },
            "text/plain": [
              "'hi hello how are you'"
            ]
          },
          "metadata": {
            "tags": []
          },
          "execution_count": 111
        }
      ]
    },
    {
      "cell_type": "code",
      "metadata": {
        "id": "sReikgJW_CFt"
      },
      "source": [
        "df['twitts']=df['twitts'].apply(lambda x: ' '.join(x.split()))"
      ],
      "execution_count": null,
      "outputs": []
    },
    {
      "cell_type": "markdown",
      "metadata": {
        "id": "Ib8VO9KB_UkR"
      },
      "source": [
        "**Remove HTML tags**"
      ]
    },
    {
      "cell_type": "code",
      "metadata": {
        "colab": {
          "base_uri": "https://localhost:8080/"
        },
        "id": "KEg2l-XI_TQj",
        "outputId": "56bbf4d1-df6b-423b-f07c-b437143059fb"
      },
      "source": [
        "!pip install beautifulsoup4"
      ],
      "execution_count": null,
      "outputs": [
        {
          "output_type": "stream",
          "text": [
            "Requirement already satisfied: beautifulsoup4 in /usr/local/lib/python3.6/dist-packages (4.6.3)\n"
          ],
          "name": "stdout"
        }
      ]
    },
    {
      "cell_type": "code",
      "metadata": {
        "id": "XNHayo5kB8LT"
      },
      "source": [
        "from bs4 import BeautifulSoup"
      ],
      "execution_count": null,
      "outputs": []
    },
    {
      "cell_type": "code",
      "metadata": {
        "id": "91KYS8vdCVKZ"
      },
      "source": [
        "x='<html><h1> thanks for watching it  </h1></html>'"
      ],
      "execution_count": null,
      "outputs": []
    },
    {
      "cell_type": "code",
      "metadata": {
        "colab": {
          "base_uri": "https://localhost:8080/",
          "height": 35
        },
        "id": "9x1r3dkzConR",
        "outputId": "3ddc0328-3f87-4687-d688-cb1a7fb24962"
      },
      "source": [
        "x.replace('<html><h1>', '').replace('</h1></html>','') #sample not good"
      ],
      "execution_count": null,
      "outputs": [
        {
          "output_type": "execute_result",
          "data": {
            "application/vnd.google.colaboratory.intrinsic+json": {
              "type": "string"
            },
            "text/plain": [
              "' thanks for watching it  '"
            ]
          },
          "metadata": {
            "tags": []
          },
          "execution_count": 116
        }
      ]
    },
    {
      "cell_type": "code",
      "metadata": {
        "colab": {
          "base_uri": "https://localhost:8080/",
          "height": 35
        },
        "id": "X3YPLUA4DO8Y",
        "outputId": "dd5a9ab2-ce22-44f6-a8b6-379eab27eb3f"
      },
      "source": [
        "BeautifulSoup(x,'lxml').get_text().strip()"
      ],
      "execution_count": null,
      "outputs": [
        {
          "output_type": "execute_result",
          "data": {
            "application/vnd.google.colaboratory.intrinsic+json": {
              "type": "string"
            },
            "text/plain": [
              "'thanks for watching it'"
            ]
          },
          "metadata": {
            "tags": []
          },
          "execution_count": 118
        }
      ]
    },
    {
      "cell_type": "code",
      "metadata": {
        "colab": {
          "base_uri": "https://localhost:8080/"
        },
        "id": "Yg-vTf5cDnxg",
        "outputId": "74197d02-f523-4dae-acd3-ab8c24d5a624"
      },
      "source": [
        "%%time\r\n",
        "df['twitts']=df['twitts'].apply(lambda x: BeautifulSoup(x,'lxml').get_text().strip())"
      ],
      "execution_count": null,
      "outputs": [
        {
          "output_type": "stream",
          "text": [
            "CPU times: user 5.07 s, sys: 282 ms, total: 5.35 s\n",
            "Wall time: 5.36 s\n"
          ],
          "name": "stdout"
        }
      ]
    },
    {
      "cell_type": "markdown",
      "metadata": {
        "id": "pXjWiVIZEAKT"
      },
      "source": [
        "**Remove Accented Chars**"
      ]
    },
    {
      "cell_type": "code",
      "metadata": {
        "id": "KD0e-1WKEFbu"
      },
      "source": [
        "import unicodedata"
      ],
      "execution_count": null,
      "outputs": []
    },
    {
      "cell_type": "code",
      "metadata": {
        "id": "-TZm6X_eFx2G"
      },
      "source": [
        "x= \"ŠŽšžŸÀÁÂÃÄÅÇÈÉÊËÌÍÎÏÐÑÒÓÔÕÖÙÚÛÜÝàáâãäåçèéêëìíîïðñòóôõöùúûüýÿ\""
      ],
      "execution_count": null,
      "outputs": []
    },
    {
      "cell_type": "code",
      "metadata": {
        "id": "rYPI_MEtD6V5"
      },
      "source": [
        "def remove_accented_chars(x):\r\n",
        "  x=unicodedata.normalize('NFKD',x).encode('ascii','ignore').decode('utf-8','ignore')\r\n",
        "  return x"
      ],
      "execution_count": null,
      "outputs": []
    },
    {
      "cell_type": "code",
      "metadata": {
        "colab": {
          "base_uri": "https://localhost:8080/",
          "height": 35
        },
        "id": "fYTND3PMFbOK",
        "outputId": "23b41310-1598-4bf9-ee2c-5d8c7ccbff1d"
      },
      "source": [
        "remove_accented_chars(x)"
      ],
      "execution_count": null,
      "outputs": [
        {
          "output_type": "execute_result",
          "data": {
            "application/vnd.google.colaboratory.intrinsic+json": {
              "type": "string"
            },
            "text/plain": [
              "'SZszYAAAAAACEEEEIIIINOOOOOUUUUYaaaaaaceeeeiiiinooooouuuuyy'"
            ]
          },
          "metadata": {
            "tags": []
          },
          "execution_count": 125
        }
      ]
    },
    {
      "cell_type": "code",
      "metadata": {
        "id": "jl3mXiTsF8cc"
      },
      "source": [
        "df['twitts']=df['twitts'].apply(lambda x: remove_accented_chars(x))"
      ],
      "execution_count": null,
      "outputs": []
    },
    {
      "cell_type": "markdown",
      "metadata": {
        "id": "oeRfwGR9GNgp"
      },
      "source": [
        "**Remove Stop Words** "
      ]
    },
    {
      "cell_type": "code",
      "metadata": {
        "id": "Vec091tCGLhy"
      },
      "source": [
        "x='this is a stop words'"
      ],
      "execution_count": null,
      "outputs": []
    },
    {
      "cell_type": "code",
      "metadata": {
        "colab": {
          "base_uri": "https://localhost:8080/",
          "height": 35
        },
        "id": "jppIH0gsGg9x",
        "outputId": "cc7941cf-ca7a-42e7-f336-68910cea51c1"
      },
      "source": [
        "' '.join([t for t in x.split() if t not in stopwords])"
      ],
      "execution_count": null,
      "outputs": [
        {
          "output_type": "execute_result",
          "data": {
            "application/vnd.google.colaboratory.intrinsic+json": {
              "type": "string"
            },
            "text/plain": [
              "'stop words'"
            ]
          },
          "metadata": {
            "tags": []
          },
          "execution_count": 131
        }
      ]
    },
    {
      "cell_type": "code",
      "metadata": {
        "id": "-xy7aqNGGrbM"
      },
      "source": [
        "df['twitts_no_stop']=df['twitts'].apply(lambda x: ' '.join([t for t in x.split() if t not in stopwords]) )"
      ],
      "execution_count": null,
      "outputs": []
    },
    {
      "cell_type": "code",
      "metadata": {
        "colab": {
          "base_uri": "https://localhost:8080/",
          "height": 284
        },
        "id": "eLLSz7MoHIfP",
        "outputId": "e8547d51-4363-4c5d-eaac-8a8d31e7e854"
      },
      "source": [
        "df.sample(2)"
      ],
      "execution_count": null,
      "outputs": [
        {
          "output_type": "execute_result",
          "data": {
            "text/html": [
              "<div>\n",
              "<style scoped>\n",
              "    .dataframe tbody tr th:only-of-type {\n",
              "        vertical-align: middle;\n",
              "    }\n",
              "\n",
              "    .dataframe tbody tr th {\n",
              "        vertical-align: top;\n",
              "    }\n",
              "\n",
              "    .dataframe thead th {\n",
              "        text-align: right;\n",
              "    }\n",
              "</style>\n",
              "<table border=\"1\" class=\"dataframe\">\n",
              "  <thead>\n",
              "    <tr style=\"text-align: right;\">\n",
              "      <th></th>\n",
              "      <th>twitts</th>\n",
              "      <th>sentiment</th>\n",
              "      <th>word_counts</th>\n",
              "      <th>char_counts</th>\n",
              "      <th>avg_word_len</th>\n",
              "      <th>stop_words_len</th>\n",
              "      <th>hashtags_count</th>\n",
              "      <th>mentions_count</th>\n",
              "      <th>numeric_counts</th>\n",
              "      <th>upper_counts</th>\n",
              "      <th>emails</th>\n",
              "      <th>emails_count</th>\n",
              "      <th>url_flags</th>\n",
              "      <th>twitts_no_stop</th>\n",
              "    </tr>\n",
              "  </thead>\n",
              "  <tbody>\n",
              "    <tr>\n",
              "      <th>2523</th>\n",
              "      <td>thought i was getting halfdecent at frothing t...</td>\n",
              "      <td>0</td>\n",
              "      <td>18</td>\n",
              "      <td>101</td>\n",
              "      <td>5.611111</td>\n",
              "      <td>7</td>\n",
              "      <td>1</td>\n",
              "      <td>0</td>\n",
              "      <td>0</td>\n",
              "      <td>1</td>\n",
              "      <td>[]</td>\n",
              "      <td>0</td>\n",
              "      <td>0</td>\n",
              "      <td>thought getting halfdecent frothing milk morni...</td>\n",
              "    </tr>\n",
              "    <tr>\n",
              "      <th>6515</th>\n",
              "      <td>just awoke from a terrible dream</td>\n",
              "      <td>0</td>\n",
              "      <td>6</td>\n",
              "      <td>27</td>\n",
              "      <td>4.500000</td>\n",
              "      <td>2</td>\n",
              "      <td>0</td>\n",
              "      <td>0</td>\n",
              "      <td>0</td>\n",
              "      <td>0</td>\n",
              "      <td>[]</td>\n",
              "      <td>0</td>\n",
              "      <td>0</td>\n",
              "      <td>awoke terrible dream</td>\n",
              "    </tr>\n",
              "  </tbody>\n",
              "</table>\n",
              "</div>"
            ],
            "text/plain": [
              "                                                 twitts  ...                                     twitts_no_stop\n",
              "2523  thought i was getting halfdecent at frothing t...  ...  thought getting halfdecent frothing milk morni...\n",
              "6515                   just awoke from a terrible dream  ...                               awoke terrible dream\n",
              "\n",
              "[2 rows x 14 columns]"
            ]
          },
          "metadata": {
            "tags": []
          },
          "execution_count": 133
        }
      ]
    },
    {
      "cell_type": "markdown",
      "metadata": {
        "id": "PfgtRW0IHdV6"
      },
      "source": [
        "**Convert into base or root form of word**"
      ]
    },
    {
      "cell_type": "code",
      "metadata": {
        "id": "6y0iXpqGHfOL"
      },
      "source": [
        "nlp=spacy.load('en_core_web_sm')"
      ],
      "execution_count": null,
      "outputs": []
    },
    {
      "cell_type": "code",
      "metadata": {
        "id": "k3uLHL2SMkAt"
      },
      "source": [
        "x='this is chocolates balls times'"
      ],
      "execution_count": null,
      "outputs": []
    },
    {
      "cell_type": "code",
      "metadata": {
        "id": "9w4BHAl0NGB2"
      },
      "source": [
        "def make_to_base(x):\r\n",
        "  x=str(x)\r\n",
        "  x_list=[]\r\n",
        "  doc=nlp(x)\r\n",
        "\r\n",
        "  for token in doc:\r\n",
        "    lemma=token.lemma_\r\n",
        "    if lemma == '-PRON-' or lemma == 'be':\r\n",
        "      lemma=token.text\r\n",
        "\r\n",
        "    x_list.append(lemma)\r\n",
        "  return ' '.join(x_list)"
      ],
      "execution_count": null,
      "outputs": []
    },
    {
      "cell_type": "code",
      "metadata": {
        "colab": {
          "base_uri": "https://localhost:8080/",
          "height": 35
        },
        "id": "swMuYQSlN6MD",
        "outputId": "22ceb0f3-df39-4606-a7e4-3c0c6570a766"
      },
      "source": [
        "make_to_base(x)"
      ],
      "execution_count": null,
      "outputs": [
        {
          "output_type": "execute_result",
          "data": {
            "application/vnd.google.colaboratory.intrinsic+json": {
              "type": "string"
            },
            "text/plain": [
              "'this is chocolate ball time'"
            ]
          },
          "metadata": {
            "tags": []
          },
          "execution_count": 142
        }
      ]
    },
    {
      "cell_type": "code",
      "metadata": {
        "id": "JeIwRin2OqXb"
      },
      "source": [
        "df['twitts']=df['twitts'].apply(lambda x:make_to_base(x) )"
      ],
      "execution_count": null,
      "outputs": []
    },
    {
      "cell_type": "code",
      "metadata": {
        "colab": {
          "base_uri": "https://localhost:8080/",
          "height": 284
        },
        "id": "9VKW13WvO3z1",
        "outputId": "c4262787-e889-4951-cd2f-57800dfc0695"
      },
      "source": [
        "df.sample(2)"
      ],
      "execution_count": null,
      "outputs": [
        {
          "output_type": "execute_result",
          "data": {
            "text/html": [
              "<div>\n",
              "<style scoped>\n",
              "    .dataframe tbody tr th:only-of-type {\n",
              "        vertical-align: middle;\n",
              "    }\n",
              "\n",
              "    .dataframe tbody tr th {\n",
              "        vertical-align: top;\n",
              "    }\n",
              "\n",
              "    .dataframe thead th {\n",
              "        text-align: right;\n",
              "    }\n",
              "</style>\n",
              "<table border=\"1\" class=\"dataframe\">\n",
              "  <thead>\n",
              "    <tr style=\"text-align: right;\">\n",
              "      <th></th>\n",
              "      <th>twitts</th>\n",
              "      <th>sentiment</th>\n",
              "      <th>word_counts</th>\n",
              "      <th>char_counts</th>\n",
              "      <th>avg_word_len</th>\n",
              "      <th>stop_words_len</th>\n",
              "      <th>hashtags_count</th>\n",
              "      <th>mentions_count</th>\n",
              "      <th>numeric_counts</th>\n",
              "      <th>upper_counts</th>\n",
              "      <th>emails</th>\n",
              "      <th>emails_count</th>\n",
              "      <th>url_flags</th>\n",
              "      <th>twitts_no_stop</th>\n",
              "    </tr>\n",
              "  </thead>\n",
              "  <tbody>\n",
              "    <tr>\n",
              "      <th>10539</th>\n",
              "      <td>shoufii noo they dunt</td>\n",
              "      <td>0</td>\n",
              "      <td>5</td>\n",
              "      <td>21</td>\n",
              "      <td>4.2</td>\n",
              "      <td>1</td>\n",
              "      <td>0</td>\n",
              "      <td>1</td>\n",
              "      <td>0</td>\n",
              "      <td>0</td>\n",
              "      <td>[]</td>\n",
              "      <td>0</td>\n",
              "      <td>0</td>\n",
              "      <td>shoufii noo dunt</td>\n",
              "    </tr>\n",
              "    <tr>\n",
              "      <th>10914</th>\n",
              "      <td>farbrorf that have that is great can not wait ...</td>\n",
              "      <td>1</td>\n",
              "      <td>10</td>\n",
              "      <td>49</td>\n",
              "      <td>4.9</td>\n",
              "      <td>4</td>\n",
              "      <td>0</td>\n",
              "      <td>1</td>\n",
              "      <td>0</td>\n",
              "      <td>0</td>\n",
              "      <td>[]</td>\n",
              "      <td>0</td>\n",
              "      <td>0</td>\n",
              "      <td>farbrorfest great wait action</td>\n",
              "    </tr>\n",
              "  </tbody>\n",
              "</table>\n",
              "</div>"
            ],
            "text/plain": [
              "                                                  twitts  ...                 twitts_no_stop\n",
              "10539                              shoufii noo they dunt  ...               shoufii noo dunt\n",
              "10914  farbrorf that have that is great can not wait ...  ...  farbrorfest great wait action\n",
              "\n",
              "[2 rows x 14 columns]"
            ]
          },
          "metadata": {
            "tags": []
          },
          "execution_count": 144
        }
      ]
    },
    {
      "cell_type": "markdown",
      "metadata": {
        "id": "xMsL5CKWSngo"
      },
      "source": [
        "**Common words removal**"
      ]
    },
    {
      "cell_type": "code",
      "metadata": {
        "id": "NpzRO-vFSqh0"
      },
      "source": [
        "x='this is this okay bye'"
      ],
      "execution_count": null,
      "outputs": []
    },
    {
      "cell_type": "code",
      "metadata": {
        "id": "tfUV-wmOTLUn"
      },
      "source": [
        "text=' '.join(df['twitts'])"
      ],
      "execution_count": null,
      "outputs": []
    },
    {
      "cell_type": "code",
      "metadata": {
        "colab": {
          "base_uri": "https://localhost:8080/"
        },
        "id": "qwF_lZNdTYUQ",
        "outputId": "64ea972d-0c69-467a-d55e-c11779ab0fe9"
      },
      "source": [
        "len(text)"
      ],
      "execution_count": null,
      "outputs": [
        {
          "output_type": "execute_result",
          "data": {
            "text/plain": [
              "2045776"
            ]
          },
          "metadata": {
            "tags": []
          },
          "execution_count": 147
        }
      ]
    },
    {
      "cell_type": "code",
      "metadata": {
        "id": "03ctTkEFTiSJ"
      },
      "source": [
        "text=text.split()"
      ],
      "execution_count": null,
      "outputs": []
    },
    {
      "cell_type": "code",
      "metadata": {
        "colab": {
          "base_uri": "https://localhost:8080/"
        },
        "id": "H3w6TeAxTmAh",
        "outputId": "5ece46ef-c463-49e4-e1e2-6fc016e4b193"
      },
      "source": [
        "len(text) #total number of words"
      ],
      "execution_count": null,
      "outputs": [
        {
          "output_type": "execute_result",
          "data": {
            "text/plain": [
              "406959"
            ]
          },
          "metadata": {
            "tags": []
          },
          "execution_count": 149
        }
      ]
    },
    {
      "cell_type": "code",
      "metadata": {
        "colab": {
          "base_uri": "https://localhost:8080/"
        },
        "id": "gVB5Pd-CT3UD",
        "outputId": "b72179a6-f33e-4c21-c7d2-8bc0f0996cff"
      },
      "source": [
        "freq_comm=pd.Series(text).value_counts()\r\n",
        "freq_comm"
      ],
      "execution_count": null,
      "outputs": [
        {
          "output_type": "execute_result",
          "data": {
            "text/plain": [
              "i           18065\n",
              "to          10895\n",
              "the          9605\n",
              "have         7716\n",
              "a            7152\n",
              "            ...  \n",
              "meyerweb        1\n",
              "quotlost        1\n",
              "thohave         1\n",
              "parator         1\n",
              "wilt            1\n",
              "Length: 40320, dtype: int64"
            ]
          },
          "metadata": {
            "tags": []
          },
          "execution_count": 150
        }
      ]
    },
    {
      "cell_type": "code",
      "metadata": {
        "colab": {
          "base_uri": "https://localhost:8080/"
        },
        "id": "K3kf2dgSUSQC",
        "outputId": "14479e7f-92c1-4e53-d792-5162d6d2dbfc"
      },
      "source": [
        "#Get first 20 words\r\n",
        "f20=freq_comm[:20]\r\n",
        "f20"
      ],
      "execution_count": null,
      "outputs": [
        {
          "output_type": "execute_result",
          "data": {
            "text/plain": [
              "i       18065\n",
              "to      10895\n",
              "the      9605\n",
              "have     7716\n",
              "a        7152\n",
              "it       6929\n",
              "is       6893\n",
              "not      6689\n",
              "my       5903\n",
              "you      5817\n",
              "and      5529\n",
              "do       4627\n",
              "in       4096\n",
              "for      4095\n",
              "that     3720\n",
              "of       3485\n",
              "go       3464\n",
              "m        3374\n",
              "get      3287\n",
              "on       3129\n",
              "dtype: int64"
            ]
          },
          "metadata": {
            "tags": []
          },
          "execution_count": 151
        }
      ]
    },
    {
      "cell_type": "code",
      "metadata": {
        "id": "Oe43K056UkYu"
      },
      "source": [
        "df['twitts']=df['twitts'].apply(lambda x: ' '.join([t for t in x.split() if t not in f20]))"
      ],
      "execution_count": null,
      "outputs": []
    },
    {
      "cell_type": "code",
      "metadata": {
        "colab": {
          "base_uri": "https://localhost:8080/",
          "height": 343
        },
        "id": "UTJw83VuUkph",
        "outputId": "f62d4dc4-4c0d-4701-fbd9-4b60efeba78e"
      },
      "source": [
        "df.sample(5)"
      ],
      "execution_count": null,
      "outputs": [
        {
          "output_type": "execute_result",
          "data": {
            "text/html": [
              "<div>\n",
              "<style scoped>\n",
              "    .dataframe tbody tr th:only-of-type {\n",
              "        vertical-align: middle;\n",
              "    }\n",
              "\n",
              "    .dataframe tbody tr th {\n",
              "        vertical-align: top;\n",
              "    }\n",
              "\n",
              "    .dataframe thead th {\n",
              "        text-align: right;\n",
              "    }\n",
              "</style>\n",
              "<table border=\"1\" class=\"dataframe\">\n",
              "  <thead>\n",
              "    <tr style=\"text-align: right;\">\n",
              "      <th></th>\n",
              "      <th>twitts</th>\n",
              "      <th>sentiment</th>\n",
              "      <th>word_counts</th>\n",
              "      <th>char_counts</th>\n",
              "      <th>avg_word_len</th>\n",
              "      <th>stop_words_len</th>\n",
              "      <th>hashtags_count</th>\n",
              "      <th>mentions_count</th>\n",
              "      <th>numeric_counts</th>\n",
              "      <th>upper_counts</th>\n",
              "      <th>emails</th>\n",
              "      <th>emails_count</th>\n",
              "      <th>url_flags</th>\n",
              "      <th>twitts_no_stop</th>\n",
              "    </tr>\n",
              "  </thead>\n",
              "  <tbody>\n",
              "    <tr>\n",
              "      <th>13653</th>\n",
              "      <td>doktoravalanche are welcome</td>\n",
              "      <td>1</td>\n",
              "      <td>3</td>\n",
              "      <td>30</td>\n",
              "      <td>10.000000</td>\n",
              "      <td>0</td>\n",
              "      <td>0</td>\n",
              "      <td>1</td>\n",
              "      <td>0</td>\n",
              "      <td>0</td>\n",
              "      <td>[]</td>\n",
              "      <td>0</td>\n",
              "      <td>0</td>\n",
              "      <td>doktoravalanche welcome</td>\n",
              "    </tr>\n",
              "    <tr>\n",
              "      <th>21398</th>\n",
              "      <td>ivybean104 hey just start follow</td>\n",
              "      <td>1</td>\n",
              "      <td>7</td>\n",
              "      <td>40</td>\n",
              "      <td>5.714286</td>\n",
              "      <td>2</td>\n",
              "      <td>0</td>\n",
              "      <td>1</td>\n",
              "      <td>0</td>\n",
              "      <td>0</td>\n",
              "      <td>[]</td>\n",
              "      <td>0</td>\n",
              "      <td>0</td>\n",
              "      <td>ivybean104 hey ive started following</td>\n",
              "    </tr>\n",
              "    <tr>\n",
              "      <th>14709</th>\n",
              "      <td>work away</td>\n",
              "      <td>1</td>\n",
              "      <td>3</td>\n",
              "      <td>13</td>\n",
              "      <td>4.333333</td>\n",
              "      <td>1</td>\n",
              "      <td>0</td>\n",
              "      <td>0</td>\n",
              "      <td>0</td>\n",
              "      <td>0</td>\n",
              "      <td>[]</td>\n",
              "      <td>0</td>\n",
              "      <td>0</td>\n",
              "      <td>working away</td>\n",
              "    </tr>\n",
              "    <tr>\n",
              "      <th>27685</th>\n",
              "      <td>just become fan rabat facebook dunno why this ...</td>\n",
              "      <td>1</td>\n",
              "      <td>26</td>\n",
              "      <td>107</td>\n",
              "      <td>4.115385</td>\n",
              "      <td>15</td>\n",
              "      <td>0</td>\n",
              "      <td>0</td>\n",
              "      <td>0</td>\n",
              "      <td>0</td>\n",
              "      <td>[]</td>\n",
              "      <td>0</td>\n",
              "      <td>0</td>\n",
              "      <td>fan rabat facebook dunno amuses prob cuz miss ...</td>\n",
              "    </tr>\n",
              "    <tr>\n",
              "      <th>20943</th>\n",
              "      <td>sh0p sh0p time sinical</td>\n",
              "      <td>1</td>\n",
              "      <td>4</td>\n",
              "      <td>21</td>\n",
              "      <td>5.250000</td>\n",
              "      <td>0</td>\n",
              "      <td>0</td>\n",
              "      <td>0</td>\n",
              "      <td>0</td>\n",
              "      <td>0</td>\n",
              "      <td>[]</td>\n",
              "      <td>0</td>\n",
              "      <td>0</td>\n",
              "      <td>sh0p sh0p time sinical</td>\n",
              "    </tr>\n",
              "  </tbody>\n",
              "</table>\n",
              "</div>"
            ],
            "text/plain": [
              "                                                  twitts  ...                                     twitts_no_stop\n",
              "13653                        doktoravalanche are welcome  ...                            doktoravalanche welcome\n",
              "21398                   ivybean104 hey just start follow  ...               ivybean104 hey ive started following\n",
              "14709                                          work away  ...                                       working away\n",
              "27685  just become fan rabat facebook dunno why this ...  ...  fan rabat facebook dunno amuses prob cuz miss ...\n",
              "20943                             sh0p sh0p time sinical  ...                             sh0p sh0p time sinical\n",
              "\n",
              "[5 rows x 14 columns]"
            ]
          },
          "metadata": {
            "tags": []
          },
          "execution_count": 154
        }
      ]
    },
    {
      "cell_type": "markdown",
      "metadata": {
        "id": "EQSyvFmdV-kz"
      },
      "source": [
        "**Rare words removal**"
      ]
    },
    {
      "cell_type": "code",
      "metadata": {
        "id": "SJwbKGUiUk8H"
      },
      "source": [
        "rare20=freq_comm.tail(20)"
      ],
      "execution_count": null,
      "outputs": []
    },
    {
      "cell_type": "code",
      "metadata": {
        "id": "0AjOkFACXoLz"
      },
      "source": [
        "df['twitts']=df['twitts'].apply(lambda x: ' '.join([t for t in x.split() if t not in rare20]))"
      ],
      "execution_count": null,
      "outputs": []
    },
    {
      "cell_type": "code",
      "metadata": {
        "colab": {
          "base_uri": "https://localhost:8080/",
          "height": 479
        },
        "id": "PheGDQQYYFwv",
        "outputId": "4ab62175-755d-4d80-a1c0-1adbdbfe167b"
      },
      "source": [
        "df.sample(5)"
      ],
      "execution_count": null,
      "outputs": [
        {
          "output_type": "execute_result",
          "data": {
            "text/html": [
              "<div>\n",
              "<style scoped>\n",
              "    .dataframe tbody tr th:only-of-type {\n",
              "        vertical-align: middle;\n",
              "    }\n",
              "\n",
              "    .dataframe tbody tr th {\n",
              "        vertical-align: top;\n",
              "    }\n",
              "\n",
              "    .dataframe thead th {\n",
              "        text-align: right;\n",
              "    }\n",
              "</style>\n",
              "<table border=\"1\" class=\"dataframe\">\n",
              "  <thead>\n",
              "    <tr style=\"text-align: right;\">\n",
              "      <th></th>\n",
              "      <th>twitts</th>\n",
              "      <th>sentiment</th>\n",
              "      <th>word_counts</th>\n",
              "      <th>char_counts</th>\n",
              "      <th>avg_word_len</th>\n",
              "      <th>stop_words_len</th>\n",
              "      <th>hashtags_count</th>\n",
              "      <th>mentions_count</th>\n",
              "      <th>numeric_counts</th>\n",
              "      <th>upper_counts</th>\n",
              "      <th>emails</th>\n",
              "      <th>emails_count</th>\n",
              "      <th>url_flags</th>\n",
              "      <th>twitts_no_stop</th>\n",
              "    </tr>\n",
              "  </thead>\n",
              "  <tbody>\n",
              "    <tr>\n",
              "      <th>13848</th>\n",
              "      <td>kudanmarco yup just happen today without any w...</td>\n",
              "      <td>0</td>\n",
              "      <td>10</td>\n",
              "      <td>64</td>\n",
              "      <td>6.400000</td>\n",
              "      <td>3</td>\n",
              "      <td>0</td>\n",
              "      <td>1</td>\n",
              "      <td>0</td>\n",
              "      <td>0</td>\n",
              "      <td>[]</td>\n",
              "      <td>0</td>\n",
              "      <td>0</td>\n",
              "      <td>kudanmarco yup happen today warning announcement</td>\n",
              "    </tr>\n",
              "    <tr>\n",
              "      <th>23534</th>\n",
              "      <td>marinaanicolee marina love miss gurl</td>\n",
              "      <td>0</td>\n",
              "      <td>8</td>\n",
              "      <td>42</td>\n",
              "      <td>5.250000</td>\n",
              "      <td>2</td>\n",
              "      <td>0</td>\n",
              "      <td>1</td>\n",
              "      <td>0</td>\n",
              "      <td>2</td>\n",
              "      <td>[]</td>\n",
              "      <td>0</td>\n",
              "      <td>0</td>\n",
              "      <td>marinaanicolee marina love miss gurl</td>\n",
              "    </tr>\n",
              "    <tr>\n",
              "      <th>23913</th>\n",
              "      <td>peterfacinelli know just fair everybody see 40...</td>\n",
              "      <td>0</td>\n",
              "      <td>14</td>\n",
              "      <td>74</td>\n",
              "      <td>5.285714</td>\n",
              "      <td>5</td>\n",
              "      <td>0</td>\n",
              "      <td>1</td>\n",
              "      <td>1</td>\n",
              "      <td>0</td>\n",
              "      <td>[]</td>\n",
              "      <td>0</td>\n",
              "      <td>0</td>\n",
              "      <td>peterfacinelli know fair everybody saw 400 fol...</td>\n",
              "    </tr>\n",
              "    <tr>\n",
              "      <th>23612</th>\n",
              "      <td>oh noooooooooooo demi lovato trace cyru are to...</td>\n",
              "      <td>0</td>\n",
              "      <td>17</td>\n",
              "      <td>89</td>\n",
              "      <td>5.235294</td>\n",
              "      <td>3</td>\n",
              "      <td>0</td>\n",
              "      <td>0</td>\n",
              "      <td>0</td>\n",
              "      <td>0</td>\n",
              "      <td>[]</td>\n",
              "      <td>0</td>\n",
              "      <td>0</td>\n",
              "      <td>oh noooooooooooo demi lovato trace cyrus total...</td>\n",
              "    </tr>\n",
              "    <tr>\n",
              "      <th>7833</th>\n",
              "      <td>samjmoody hey sam how how how your day been so...</td>\n",
              "      <td>1</td>\n",
              "      <td>9</td>\n",
              "      <td>40</td>\n",
              "      <td>4.444444</td>\n",
              "      <td>3</td>\n",
              "      <td>0</td>\n",
              "      <td>1</td>\n",
              "      <td>0</td>\n",
              "      <td>0</td>\n",
              "      <td>[]</td>\n",
              "      <td>0</td>\n",
              "      <td>0</td>\n",
              "      <td>samjmoody hey sam day far</td>\n",
              "    </tr>\n",
              "  </tbody>\n",
              "</table>\n",
              "</div>"
            ],
            "text/plain": [
              "                                                  twitts  ...                                     twitts_no_stop\n",
              "13848  kudanmarco yup just happen today without any w...  ...   kudanmarco yup happen today warning announcement\n",
              "23534               marinaanicolee marina love miss gurl  ...               marinaanicolee marina love miss gurl\n",
              "23913  peterfacinelli know just fair everybody see 40...  ...  peterfacinelli know fair everybody saw 400 fol...\n",
              "23612  oh noooooooooooo demi lovato trace cyru are to...  ...  oh noooooooooooo demi lovato trace cyrus total...\n",
              "7833   samjmoody hey sam how how how your day been so...  ...                          samjmoody hey sam day far\n",
              "\n",
              "[5 rows x 14 columns]"
            ]
          },
          "metadata": {
            "tags": []
          },
          "execution_count": 159
        }
      ]
    },
    {
      "cell_type": "markdown",
      "metadata": {
        "id": "AwBTmHuaSubu"
      },
      "source": [
        "**Word Cloud Visualization**"
      ]
    },
    {
      "cell_type": "code",
      "metadata": {
        "colab": {
          "base_uri": "https://localhost:8080/"
        },
        "id": "9cWP-6JcSxT4",
        "outputId": "afaaadd7-4ad1-44c6-cd29-a3a61ef5a7f4"
      },
      "source": [
        "!pip install wordcloud"
      ],
      "execution_count": null,
      "outputs": [
        {
          "output_type": "stream",
          "text": [
            "Requirement already satisfied: wordcloud in /usr/local/lib/python3.6/dist-packages (1.5.0)\n",
            "Requirement already satisfied: pillow in /usr/local/lib/python3.6/dist-packages (from wordcloud) (7.0.0)\n",
            "Requirement already satisfied: numpy>=1.6.1 in /usr/local/lib/python3.6/dist-packages (from wordcloud) (1.19.5)\n"
          ],
          "name": "stdout"
        }
      ]
    },
    {
      "cell_type": "code",
      "metadata": {
        "id": "zRheouiuYgHb"
      },
      "source": [
        "from wordcloud import WordCloud\r\n",
        "import matplotlib.pyplot as plt\r\n",
        "%matplotlib inline"
      ],
      "execution_count": null,
      "outputs": []
    },
    {
      "cell_type": "code",
      "metadata": {
        "id": "u-YETj-qdUpr"
      },
      "source": [
        "text=' '.join(df['twitts'])"
      ],
      "execution_count": null,
      "outputs": []
    },
    {
      "cell_type": "code",
      "metadata": {
        "colab": {
          "base_uri": "https://localhost:8080/"
        },
        "id": "EFxZFLctdrL4",
        "outputId": "067eb816-c09d-42b0-ddcc-e2c0ab29ab95"
      },
      "source": [
        "len(text)"
      ],
      "execution_count": null,
      "outputs": [
        {
          "output_type": "execute_result",
          "data": {
            "text/plain": [
              "1642893"
            ]
          },
          "metadata": {
            "tags": []
          },
          "execution_count": 164
        }
      ]
    },
    {
      "cell_type": "code",
      "metadata": {
        "colab": {
          "base_uri": "https://localhost:8080/",
          "height": 198
        },
        "id": "9on64fqYd0M3",
        "outputId": "d7148c43-d952-46ba-c428-c229c935be79"
      },
      "source": [
        "wc=WordCloud(width=800,height=400).generate(text)\r\n",
        "plt.imshow(wc)\r\n",
        "plt.axis('off')\r\n",
        "plt.show()"
      ],
      "execution_count": null,
      "outputs": [
        {
          "output_type": "display_data",
          "data": {
            "image/png": "[encoded data removed]",
            "text/plain": [
              "<Figure size 432x288 with 1 Axes>"
            ]
          },
          "metadata": {
            "tags": [],
            "needs_background": "light"
          }
        }
      ]
    },
    {
      "cell_type": "markdown",
      "metadata": {
        "id": "96BQ45lBSyD1"
      },
      "source": [
        "**Spelling Correction**"
      ]
    },
    {
      "cell_type": "code",
      "metadata": {
        "colab": {
          "base_uri": "https://localhost:8080/"
        },
        "id": "0vICLomjSygi",
        "outputId": "2ce0e6e5-1269-483b-d5a0-6efba1a1b8cb"
      },
      "source": [
        "!pip install -U textblob"
      ],
      "execution_count": null,
      "outputs": [
        {
          "output_type": "stream",
          "text": [
            "Requirement already up-to-date: textblob in /usr/local/lib/python3.6/dist-packages (0.15.3)\n",
            "Requirement already satisfied, skipping upgrade: nltk>=3.1 in /usr/local/lib/python3.6/dist-packages (from textblob) (3.2.5)\n",
            "Requirement already satisfied, skipping upgrade: six in /usr/local/lib/python3.6/dist-packages (from nltk>=3.1->textblob) (1.15.0)\n"
          ],
          "name": "stdout"
        }
      ]
    },
    {
      "cell_type": "code",
      "metadata": {
        "colab": {
          "base_uri": "https://localhost:8080/"
        },
        "id": "SjIQ1pLofIuw",
        "outputId": "521d2a99-0233-4169-a167-3f484af4c8c9"
      },
      "source": [
        "!python -m textblob.download_corpora"
      ],
      "execution_count": null,
      "outputs": [
        {
          "output_type": "stream",
          "text": [
            "[nltk_data] Downloading package brown to /root/nltk_data...\n",
            "[nltk_data]   Unzipping corpora/brown.zip.\n",
            "[nltk_data] Downloading package punkt to /root/nltk_data...\n",
            "[nltk_data]   Unzipping tokenizers/punkt.zip.\n",
            "[nltk_data] Downloading package wordnet to /root/nltk_data...\n",
            "[nltk_data]   Unzipping corpora/wordnet.zip.\n",
            "[nltk_data] Downloading package averaged_perceptron_tagger to\n",
            "[nltk_data]     /root/nltk_data...\n",
            "[nltk_data]   Unzipping taggers/averaged_perceptron_tagger.zip.\n",
            "[nltk_data] Downloading package conll2000 to /root/nltk_data...\n",
            "[nltk_data]   Unzipping corpora/conll2000.zip.\n",
            "[nltk_data] Downloading package movie_reviews to /root/nltk_data...\n",
            "[nltk_data]   Unzipping corpora/movie_reviews.zip.\n",
            "Finished.\n"
          ],
          "name": "stdout"
        }
      ]
    },
    {
      "cell_type": "code",
      "metadata": {
        "id": "pCFb-k0QfZ-T"
      },
      "source": [
        "from textblob import TextBlob"
      ],
      "execution_count": null,
      "outputs": []
    },
    {
      "cell_type": "code",
      "metadata": {
        "id": "90BZjx-AfmrG"
      },
      "source": [
        "x='thankkks for waching it'"
      ],
      "execution_count": null,
      "outputs": []
    },
    {
      "cell_type": "code",
      "metadata": {
        "id": "oHiQcp23frwQ"
      },
      "source": [
        "x=TextBlob(x).correct()"
      ],
      "execution_count": null,
      "outputs": []
    },
    {
      "cell_type": "markdown",
      "metadata": {
        "id": "r-PBYwmWe6TL"
      },
      "source": [
        "**Tokenization using TextBlob**"
      ]
    },
    {
      "cell_type": "code",
      "metadata": {
        "id": "K2pQMD6he673"
      },
      "source": [
        "x='thanks#watching this video. please like it'"
      ],
      "execution_count": null,
      "outputs": []
    },
    {
      "cell_type": "code",
      "metadata": {
        "colab": {
          "base_uri": "https://localhost:8080/"
        },
        "id": "93Hw7ZzmgoQA",
        "outputId": "61e63577-b79c-46ab-f3d7-f05b8a8250ed"
      },
      "source": [
        "TextBlob(x).words"
      ],
      "execution_count": null,
      "outputs": [
        {
          "output_type": "execute_result",
          "data": {
            "text/plain": [
              "WordList(['thanks', 'watching', 'this', 'video', 'please', 'like', 'it'])"
            ]
          },
          "metadata": {
            "tags": []
          },
          "execution_count": 173
        }
      ]
    },
    {
      "cell_type": "code",
      "metadata": {
        "colab": {
          "base_uri": "https://localhost:8080/"
        },
        "id": "2MCXZsZ0gsYO",
        "outputId": "626df871-b12a-43fe-c16b-906081aa442e"
      },
      "source": [
        "doc=nlp(x)\r\n",
        "for token in doc:\r\n",
        "  print(token)"
      ],
      "execution_count": null,
      "outputs": [
        {
          "output_type": "stream",
          "text": [
            "thanks#watching\n",
            "this\n",
            "video\n",
            ".\n",
            "please\n",
            "like\n",
            "it\n"
          ],
          "name": "stdout"
        }
      ]
    },
    {
      "cell_type": "markdown",
      "metadata": {
        "id": "J1ezPpRGgC5G"
      },
      "source": [
        "**Detecting Nouns**"
      ]
    },
    {
      "cell_type": "code",
      "metadata": {
        "id": "B7Pw1kCxgDkd"
      },
      "source": [
        "x='Breaking News:Donal Trump, the president of the USA is looking to sign a deal to mine the moon'"
      ],
      "execution_count": null,
      "outputs": []
    },
    {
      "cell_type": "code",
      "metadata": {
        "id": "PXF1fnJbhvk6"
      },
      "source": [
        "doc=nlp(x)"
      ],
      "execution_count": null,
      "outputs": []
    },
    {
      "cell_type": "code",
      "metadata": {
        "colab": {
          "base_uri": "https://localhost:8080/"
        },
        "id": "teSHdVWEh34v",
        "outputId": "8dc97c37-a63b-49ca-db63-1a2923366a2e"
      },
      "source": [
        "for noun in doc.noun_chunks:\r\n",
        "  print(noun)"
      ],
      "execution_count": null,
      "outputs": [
        {
          "output_type": "stream",
          "text": [
            "Breaking News\n",
            "Donal Trump\n",
            "the president\n",
            "the USA\n",
            "a deal\n",
            "the moon\n"
          ],
          "name": "stdout"
        }
      ]
    },
    {
      "cell_type": "markdown",
      "metadata": {
        "id": "G01PDAoggEKd"
      },
      "source": [
        "**Language Translation and Detection**"
      ]
    },
    {
      "cell_type": "code",
      "metadata": {
        "colab": {
          "base_uri": "https://localhost:8080/",
          "height": 35
        },
        "id": "DAXV8uTjgEts",
        "outputId": "7fc0b4ac-5861-4b5c-842a-730c781e2f7a"
      },
      "source": [
        "x"
      ],
      "execution_count": null,
      "outputs": [
        {
          "output_type": "execute_result",
          "data": {
            "application/vnd.google.colaboratory.intrinsic+json": {
              "type": "string"
            },
            "text/plain": [
              "'Breaking News:Donal Trump, the president of the USA is looking to sign a deal to mine the moon'"
            ]
          },
          "metadata": {
            "tags": []
          },
          "execution_count": 178
        }
      ]
    },
    {
      "cell_type": "code",
      "metadata": {
        "id": "t2g5jUuYgE8J"
      },
      "source": [
        "tb=TextBlob(x)"
      ],
      "execution_count": null,
      "outputs": []
    },
    {
      "cell_type": "code",
      "metadata": {
        "colab": {
          "base_uri": "https://localhost:8080/",
          "height": 35
        },
        "id": "jY5c4oeyiZFf",
        "outputId": "c721b1cd-66af-44ca-b60a-b451c70b0e22"
      },
      "source": [
        "tb.detect_language()"
      ],
      "execution_count": null,
      "outputs": [
        {
          "output_type": "execute_result",
          "data": {
            "application/vnd.google.colaboratory.intrinsic+json": {
              "type": "string"
            },
            "text/plain": [
              "'en'"
            ]
          },
          "metadata": {
            "tags": []
          },
          "execution_count": 180
        }
      ]
    },
    {
      "cell_type": "code",
      "metadata": {
        "colab": {
          "base_uri": "https://localhost:8080/"
        },
        "id": "JunG8d_5im1P",
        "outputId": "c5358253-4ec9-4252-9675-c2d9ce249417"
      },
      "source": [
        "tb.translate(to='fr')"
      ],
      "execution_count": null,
      "outputs": [
        {
          "output_type": "execute_result",
          "data": {
            "text/plain": [
              "TextBlob(\"Dernières nouvelles: Donal Trump, le président des États-Unis cherche à signer un accord pour miner la lune\")"
            ]
          },
          "metadata": {
            "tags": []
          },
          "execution_count": 181
        }
      ]
    },
    {
      "cell_type": "code",
      "metadata": {
        "colab": {
          "base_uri": "https://localhost:8080/"
        },
        "id": "KhHgO2VciuKZ",
        "outputId": "a249a7e0-2f6c-4c51-bc7c-5e89727df341"
      },
      "source": [
        "tb.translate(to='hi')"
      ],
      "execution_count": null,
      "outputs": [
        {
          "output_type": "execute_result",
          "data": {
            "text/plain": [
              "TextBlob(\"ब्रेकिंग न्यूज: डोनाल्ड ट्रम्प, संयुक्त राज्य अमेरिका के राष्ट्रपति चांद को खदान करने के लिए एक समझौते पर हस्ताक्षर करना चाहते हैं\")"
            ]
          },
          "metadata": {
            "tags": []
          },
          "execution_count": 182
        }
      ]
    },
    {
      "cell_type": "code",
      "metadata": {
        "colab": {
          "base_uri": "https://localhost:8080/"
        },
        "id": "jCWoDfSwix4d",
        "outputId": "2ba85479-48f0-46b3-899e-2d2e2561ede2"
      },
      "source": [
        "tb.translate(to='ar')"
      ],
      "execution_count": null,
      "outputs": [
        {
          "output_type": "execute_result",
          "data": {
            "text/plain": [
              "TextBlob(\"خبر عاجل: دونال ترامب ، رئيس الولايات المتحدة يتطلع إلى توقيع صفقة لتعدين القمر\")"
            ]
          },
          "metadata": {
            "tags": []
          },
          "execution_count": 183
        }
      ]
    },
    {
      "cell_type": "code",
      "metadata": {
        "colab": {
          "base_uri": "https://localhost:8080/"
        },
        "id": "qjCgBXdRjDq_",
        "outputId": "4dd424bb-471f-4d7e-eb08-406891e692cf"
      },
      "source": [
        "tb.translate(to='or')"
      ],
      "execution_count": null,
      "outputs": [
        {
          "output_type": "execute_result",
          "data": {
            "text/plain": [
              "TextBlob(\"ବ୍ରେକିଂ ନ୍ୟୁଜ୍: ଆମେରିକାର ରାଷ୍ଟ୍ରପତି ଡୋନାଲ୍ ଟ୍ରମ୍ପ ଚନ୍ଦ୍ରକୁ ଖଣି କରିବା ପାଇଁ ଏକ ଚୁକ୍ତିନାମା କରିବାକୁ ଚାହୁଁଛନ୍ତି\")"
            ]
          },
          "metadata": {
            "tags": []
          },
          "execution_count": 185
        }
      ]
    },
    {
      "cell_type": "code",
      "metadata": {
        "colab": {
          "base_uri": "https://localhost:8080/"
        },
        "id": "tud6BrTCjIg7",
        "outputId": "fe47bc54-061a-4543-e556-142a8cadb278"
      },
      "source": [
        "tb.translate(to='bn')"
      ],
      "execution_count": null,
      "outputs": [
        {
          "output_type": "execute_result",
          "data": {
            "text/plain": [
              "TextBlob(\"ব্রেকিং নিউজ: যুক্তরাষ্ট্রের রাষ্ট্রপতি ডোনাল ট্রাম্প চাঁদ খনির জন্য একটি চুক্তিতে সই করতে চাইছেন\")"
            ]
          },
          "metadata": {
            "tags": []
          },
          "execution_count": 186
        }
      ]
    },
    {
      "cell_type": "code",
      "metadata": {
        "colab": {
          "base_uri": "https://localhost:8080/"
        },
        "id": "YtIEi7HnjOMk",
        "outputId": "f5889d6b-62ad-4d7d-9d38-71c6c72cd4db"
      },
      "source": [
        "tb.translate(to='zh')"
      ],
      "execution_count": null,
      "outputs": [
        {
          "output_type": "execute_result",
          "data": {
            "text/plain": [
              "TextBlob(\"最新消息：美国总统唐纳德·特朗普（Don Trump）希望签署一项开采月球的协议\")"
            ]
          },
          "metadata": {
            "tags": []
          },
          "execution_count": 187
        }
      ]
    },
    {
      "cell_type": "markdown",
      "metadata": {
        "id": "mSBwlr_XjaDI"
      },
      "source": [
        "**Use TextBlob's Inbuilt Sentiment Classifier**"
      ]
    },
    {
      "cell_type": "code",
      "metadata": {
        "id": "8LXxuM7-jcPB"
      },
      "source": [
        "from textblob.sentiments import NaiveBayesAnalyzer\r\n",
        "x='we all stands together .we are gonna win this fight'"
      ],
      "execution_count": null,
      "outputs": []
    },
    {
      "cell_type": "code",
      "metadata": {
        "id": "aQoMlpTtj6l5"
      },
      "source": [
        "tb=TextBlob(x,analyzer=NaiveBayesAnalyzer())"
      ],
      "execution_count": null,
      "outputs": []
    },
    {
      "cell_type": "code",
      "metadata": {
        "colab": {
          "base_uri": "https://localhost:8080/"
        },
        "id": "uh3B8P_jkYk9",
        "outputId": "66887b81-e6f8-4c39-82c5-8dacd2e0beec"
      },
      "source": [
        "tb.sentiment"
      ],
      "execution_count": null,
      "outputs": [
        {
          "output_type": "execute_result",
          "data": {
            "text/plain": [
              "Sentiment(classification='pos', p_pos=0.9180581552428241, p_neg=0.0819418447571765)"
            ]
          },
          "metadata": {
            "tags": []
          },
          "execution_count": 190
        }
      ]
    },
    {
      "cell_type": "markdown",
      "metadata": {
        "id": "84VkYBK5SPn9"
      },
      "source": [
        "**How can I preprocess NLP text (lowercase, remove special characters, remove numbers, remove emails, etc) in one pass using Python?**"
      ]
    },
    {
      "cell_type": "code",
      "metadata": {
        "id": "aGthVo36SOqK"
      },
      "source": [
        "Here are all the things I want to do to a Pandas dataframe in one pass in python:\r\n",
        "1. Lowercase text\r\n",
        "2. Remove whitespace\r\n",
        "3. Remove numbers\r\n",
        "4. Remove special characters\r\n",
        "5. Remove emails\r\n",
        "6. Remove stop words\r\n",
        "7. Remove NAN\r\n",
        "8. Remove weblinks\r\n",
        "9. Expand contractions (if possible not necessary)\r\n",
        "10. Tokenize"
      ],
      "execution_count": null,
      "outputs": []
    },
    {
      "cell_type": "code",
      "metadata": {
        "id": "9WtbsFDtUFBV"
      },
      "source": [
        "def preprocess(self, dataframe):\r\n",
        "\r\n",
        "\r\n",
        "    self.log.info(\"In preprocess function.\")\r\n",
        "\r\n",
        "    dataframe1 = self.remove_nan(dataframe)\r\n",
        "    dataframe2 = self.lowercase(dataframe1)\r\n",
        "    dataframe3 = self.remove_whitespace(dataframe2)\r\n",
        "\r\n",
        "    # Remove emails and websites before removing special characters\r\n",
        "    dataframe4 = self.remove_emails(self, dataframe3)\r\n",
        "    dataframe5 = self.remove_website_links(self, dataframe4)\r\n",
        "\r\n",
        "    dataframe6 = self.remove_special_characters(dataframe5)\r\n",
        "    dataframe7 - self.remove_numbers(dataframe6)\r\n",
        "    self.remove_stop_words(dataframe8) # Doesn't return anything for now\r\n",
        "    dataframe7 = self.tokenize(dataframe6)\r\n",
        "\r\n",
        "    self.log.info(f\"Sample of preprocessed data: {dataframe4.head()}\")\r\n",
        "\r\n",
        "    return dataframe7\r\n",
        "\r\n",
        "def remove_nan(self, dataframe):\r\n",
        "    \"\"\"Pass in a dataframe to remove NAN from those columns.\"\"\"\r\n",
        "    return dataframe.dropna()\r\n",
        "\r\n",
        "def lowercase(self, dataframe):\r\n",
        "    logging.info(\"Converting dataframe to lowercase\")\r\n",
        "    lowercase_dataframe = dataframe.apply(lambda x: x.lower())\r\n",
        "    return lowercase_dataframe\r\n",
        "\r\n",
        "\r\n",
        "def remove_special_characters(self, dataframe):\r\n",
        "    self.log.info(\"Removing special characters from dataframe\")\r\n",
        "    no_special_characters = dataframe.replace(r'[^A-Za-z0-9 ]+', '', regex=True)\r\n",
        "    return no_special_characters\r\n",
        "\r\n",
        "def remove_numbers(self, dataframe):\r\n",
        "    self.log.info(\"Removing numbers from dataframe\")\r\n",
        "    removed_numbers = dataframe.str.replace(r'\\d+','')\r\n",
        "    return removed_numbers\r\n",
        "\r\n",
        "def remove_whitespace(self, dataframe):\r\n",
        "    self.log.info(\"Removing whitespace from dataframe\")\r\n",
        "    # replace more than 1 space with 1 space\r\n",
        "    merged_spaces = dataframe.str.replace(r\"\\s\\s+\",' ')\r\n",
        "    # delete beginning and trailing spaces\r\n",
        "    trimmed_spaces = merged_spaces.apply(lambda x: x.str.strip())\r\n",
        "    return trimmed_spaces\r\n",
        "\r\n",
        "def remove_stop_words(self, dataframe):\r\n",
        "    # TODO: An option to pass in a custom list of stopwords would be cool.\r\n",
        "    set(stopwords.words('english'))\r\n",
        "\r\n",
        "def remove_website_links(self, dataframe):\r\n",
        "    self.log.info(\"Removing website links from dataframe\")\r\n",
        "    no_website_links = dataframe.str.replace(r\"http\\S+\", \"\")\r\n",
        "    return no_website_links\r\n",
        "\r\n",
        "def tokenize(self, dataframe):\r\n",
        "    tokenized_dataframe = dataframe.apply(lambda row: word_tokenize(row))\r\n",
        "    return tokenized_dataframe\r\n",
        "\r\n",
        "def remove_emails(self, dataframe):\r\n",
        "    no_emails = dataframe.str.replace(r\"\\S*@\\S*\\s?\")\r\n",
        "    return no_emails\r\n",
        "\r\n",
        "def expand_contractions(self, dataframe):\r\n",
        "    # TODO: Not a priority right now. Come back to it later.\r\n",
        "    return dataframe"
      ],
      "execution_count": null,
      "outputs": []
    },
    {
      "cell_type": "code",
      "metadata": {
        "id": "D3_DAp5lUMNu"
      },
      "source": [
        "import nltk\r\n",
        "from nltk.tokenize import RegexpTokenizer\r\n",
        "from nltk.stem import WordNetLemmatizer,PorterStemmer\r\n",
        "from nltk.corpus import stopwords\r\n",
        "import re\r\n",
        "lemmatizer = WordNetLemmatizer()\r\n",
        "stemmer = PorterStemmer() \r\n",
        "\r\n",
        " def preprocess(sentence):\r\n",
        "    sentence=str(sentence)\r\n",
        "    sentence = sentence.lower()\r\n",
        "    sentence=sentence.replace('{html}',\"\") \r\n",
        "    cleanr = re.compile('<.*?>')\r\n",
        "    cleantext = re.sub(cleanr, '', sentence)\r\n",
        "    rem_url=re.sub(r'http\\S+', '',cleantext)\r\n",
        "    rem_num = re.sub('[0-9]+', '', rem_url)\r\n",
        "    tokenizer = RegexpTokenizer(r'\\w+')\r\n",
        "    tokens = tokenizer.tokenize(rem_num)  \r\n",
        "    filtered_words = [w for w in tokens if len(w) > 2 if not w in stopwords.words('english')]\r\n",
        "    stem_words=[stemmer.stem(w) for w in filtered_words]\r\n",
        "    lemma_words=[lemmatizer.lemmatize(w) for w in stem_words]\r\n",
        "    return \" \".join(filtered_words)\r\n",
        "\r\n",
        "\r\n",
        "df['cleanText']=df['Text'].map(lambda s:preprocess(s)) "
      ],
      "execution_count": null,
      "outputs": []
    }
  ]
}