{
  "nbformat": 4,
  "nbformat_minor": 0,
  "metadata": {
    "colab": {
      "name": "Textblob.ipynb",
      "provenance": [],
      "collapsed_sections": []
    },
    "kernelspec": {
      "name": "python3",
      "display_name": "Python 3"
    }
  },
  "cells": [
    {
      "cell_type": "code",
      "metadata": {
        "id": "aSl-7O5HSA1R",
        "colab": {
          "base_uri": "https://localhost:8080/",
          "height": 68
        },
        "outputId": "43453fed-2510-4b7c-d3c6-ce999d2f7606"
      },
      "source": [
        "!pip install textblob"
      ],
      "execution_count": null,
      "outputs": [
        {
          "output_type": "stream",
          "text": [
            "Requirement already satisfied: textblob in /usr/local/lib/python3.6/dist-packages (0.15.3)\n",
            "Requirement already satisfied: nltk>=3.1 in /usr/local/lib/python3.6/dist-packages (from textblob) (3.2.5)\n",
            "Requirement already satisfied: six in /usr/local/lib/python3.6/dist-packages (from nltk>=3.1->textblob) (1.12.0)\n"
          ],
          "name": "stdout"
        }
      ]
    },
    {
      "cell_type": "code",
      "metadata": {
        "id": "VwrarAhAKMfX",
        "colab": {
          "base_uri": "https://localhost:8080/",
          "height": 1000
        },
        "outputId": "4e104807-6f07-4aaf-808f-82b60aec02a1"
      },
      "source": [
        "import nltk\n",
        "nltk.download()"
      ],
      "execution_count": null,
      "outputs": [
        {
          "output_type": "stream",
          "text": [
            "NLTK Downloader\n",
            "---------------------------------------------------------------------------\n",
            "    d) Download   l) List    u) Update   c) Config   h) Help   q) Quit\n",
            "---------------------------------------------------------------------------\n",
            "Downloader> d\n",
            "\n",
            "Download which package (l=list; x=cancel)?\n",
            "  Identifier> all\n",
            "    Downloading collection 'all'\n",
            "       | \n",
            "       | Downloading package abc to /root/nltk_data...\n",
            "       |   Unzipping corpora/abc.zip.\n",
            "       | Downloading package alpino to /root/nltk_data...\n",
            "       |   Unzipping corpora/alpino.zip.\n",
            "       | Downloading package biocreative_ppi to /root/nltk_data...\n",
            "       |   Unzipping corpora/biocreative_ppi.zip.\n",
            "       | Downloading package brown to /root/nltk_data...\n",
            "       |   Unzipping corpora/brown.zip.\n",
            "       | Downloading package brown_tei to /root/nltk_data...\n",
            "       |   Unzipping corpora/brown_tei.zip.\n",
            "       | Downloading package cess_cat to /root/nltk_data...\n",
            "       |   Unzipping corpora/cess_cat.zip.\n",
            "       | Downloading package cess_esp to /root/nltk_data...\n",
            "       |   Unzipping corpora/cess_esp.zip.\n",
            "       | Downloading package chat80 to /root/nltk_data...\n",
            "       |   Unzipping corpora/chat80.zip.\n",
            "       | Downloading package city_database to /root/nltk_data...\n",
            "       |   Unzipping corpora/city_database.zip.\n",
            "       | Downloading package cmudict to /root/nltk_data...\n",
            "       |   Unzipping corpora/cmudict.zip.\n",
            "       | Downloading package comparative_sentences to\n",
            "       |     /root/nltk_data...\n",
            "       |   Unzipping corpora/comparative_sentences.zip.\n",
            "       | Downloading package comtrans to /root/nltk_data...\n",
            "       | Downloading package conll2000 to /root/nltk_data...\n",
            "       |   Unzipping corpora/conll2000.zip.\n",
            "       | Downloading package conll2002 to /root/nltk_data...\n",
            "       |   Unzipping corpora/conll2002.zip.\n",
            "       | Downloading package conll2007 to /root/nltk_data...\n",
            "       | Downloading package crubadan to /root/nltk_data...\n",
            "       |   Unzipping corpora/crubadan.zip.\n",
            "       | Downloading package dependency_treebank to /root/nltk_data...\n",
            "       |   Unzipping corpora/dependency_treebank.zip.\n",
            "       | Downloading package dolch to /root/nltk_data...\n",
            "       |   Unzipping corpora/dolch.zip.\n",
            "       | Downloading package europarl_raw to /root/nltk_data...\n",
            "       |   Unzipping corpora/europarl_raw.zip.\n",
            "       | Downloading package floresta to /root/nltk_data...\n",
            "       |   Unzipping corpora/floresta.zip.\n",
            "       | Downloading package framenet_v15 to /root/nltk_data...\n",
            "       |   Unzipping corpora/framenet_v15.zip.\n",
            "       | Downloading package framenet_v17 to /root/nltk_data...\n",
            "       |   Unzipping corpora/framenet_v17.zip.\n",
            "       | Downloading package gazetteers to /root/nltk_data...\n",
            "       |   Unzipping corpora/gazetteers.zip.\n",
            "       | Downloading package genesis to /root/nltk_data...\n",
            "       |   Unzipping corpora/genesis.zip.\n",
            "       | Downloading package gutenberg to /root/nltk_data...\n",
            "       |   Unzipping corpora/gutenberg.zip.\n",
            "       | Downloading package ieer to /root/nltk_data...\n",
            "       |   Unzipping corpora/ieer.zip.\n",
            "       | Downloading package inaugural to /root/nltk_data...\n",
            "       |   Unzipping corpora/inaugural.zip.\n",
            "       | Downloading package indian to /root/nltk_data...\n",
            "       |   Unzipping corpora/indian.zip.\n",
            "       | Downloading package jeita to /root/nltk_data...\n",
            "       | Downloading package kimmo to /root/nltk_data...\n",
            "       |   Unzipping corpora/kimmo.zip.\n",
            "       | Downloading package knbc to /root/nltk_data...\n",
            "       | Downloading package lin_thesaurus to /root/nltk_data...\n",
            "       |   Unzipping corpora/lin_thesaurus.zip.\n",
            "       | Downloading package mac_morpho to /root/nltk_data...\n",
            "       |   Unzipping corpora/mac_morpho.zip.\n",
            "       | Downloading package machado to /root/nltk_data...\n",
            "       | Downloading package masc_tagged to /root/nltk_data...\n",
            "       | Downloading package moses_sample to /root/nltk_data...\n",
            "       |   Unzipping models/moses_sample.zip.\n",
            "       | Downloading package movie_reviews to /root/nltk_data...\n",
            "       |   Unzipping corpora/movie_reviews.zip.\n",
            "       | Downloading package names to /root/nltk_data...\n",
            "       |   Unzipping corpora/names.zip.\n",
            "       | Downloading package nombank.1.0 to /root/nltk_data...\n",
            "       | Downloading package nps_chat to /root/nltk_data...\n",
            "       |   Unzipping corpora/nps_chat.zip.\n",
            "       | Downloading package omw to /root/nltk_data...\n",
            "       |   Unzipping corpora/omw.zip.\n",
            "       | Downloading package opinion_lexicon to /root/nltk_data...\n",
            "       |   Unzipping corpora/opinion_lexicon.zip.\n",
            "       | Downloading package paradigms to /root/nltk_data...\n",
            "       |   Unzipping corpora/paradigms.zip.\n",
            "       | Downloading package pil to /root/nltk_data...\n",
            "       |   Unzipping corpora/pil.zip.\n",
            "       | Downloading package pl196x to /root/nltk_data...\n",
            "       |   Unzipping corpora/pl196x.zip.\n",
            "       | Downloading package ppattach to /root/nltk_data...\n",
            "       |   Unzipping corpora/ppattach.zip.\n",
            "       | Downloading package problem_reports to /root/nltk_data...\n",
            "       |   Unzipping corpora/problem_reports.zip.\n",
            "       | Downloading package propbank to /root/nltk_data...\n",
            "       | Downloading package ptb to /root/nltk_data...\n",
            "       |   Unzipping corpora/ptb.zip.\n",
            "       | Downloading package product_reviews_1 to /root/nltk_data...\n",
            "       |   Unzipping corpora/product_reviews_1.zip.\n",
            "       | Downloading package product_reviews_2 to /root/nltk_data...\n",
            "       |   Unzipping corpora/product_reviews_2.zip.\n",
            "       | Downloading package pros_cons to /root/nltk_data...\n",
            "       |   Unzipping corpora/pros_cons.zip.\n",
            "       | Downloading package qc to /root/nltk_data...\n",
            "       |   Unzipping corpora/qc.zip.\n",
            "       | Downloading package reuters to /root/nltk_data...\n",
            "       | Downloading package rte to /root/nltk_data...\n",
            "       |   Unzipping corpora/rte.zip.\n",
            "       | Downloading package semcor to /root/nltk_data...\n",
            "       | Downloading package senseval to /root/nltk_data...\n",
            "       |   Unzipping corpora/senseval.zip.\n",
            "       | Downloading package sentiwordnet to /root/nltk_data...\n",
            "       |   Unzipping corpora/sentiwordnet.zip.\n",
            "       | Downloading package sentence_polarity to /root/nltk_data...\n",
            "       |   Unzipping corpora/sentence_polarity.zip.\n",
            "       | Downloading package shakespeare to /root/nltk_data...\n",
            "       |   Unzipping corpora/shakespeare.zip.\n",
            "       | Downloading package sinica_treebank to /root/nltk_data...\n",
            "       |   Unzipping corpora/sinica_treebank.zip.\n",
            "       | Downloading package smultron to /root/nltk_data...\n",
            "       |   Unzipping corpora/smultron.zip.\n",
            "       | Downloading package state_union to /root/nltk_data...\n",
            "       |   Unzipping corpora/state_union.zip.\n",
            "       | Downloading package stopwords to /root/nltk_data...\n",
            "       |   Unzipping corpora/stopwords.zip.\n",
            "       | Downloading package subjectivity to /root/nltk_data...\n",
            "       |   Unzipping corpora/subjectivity.zip.\n",
            "       | Downloading package swadesh to /root/nltk_data...\n",
            "       |   Unzipping corpora/swadesh.zip.\n",
            "       | Downloading package switchboard to /root/nltk_data...\n",
            "       |   Unzipping corpora/switchboard.zip.\n",
            "       | Downloading package timit to /root/nltk_data...\n",
            "       |   Unzipping corpora/timit.zip.\n",
            "       | Downloading package toolbox to /root/nltk_data...\n",
            "       |   Unzipping corpora/toolbox.zip.\n",
            "       | Downloading package treebank to /root/nltk_data...\n",
            "       |   Unzipping corpora/treebank.zip.\n",
            "       | Downloading package twitter_samples to /root/nltk_data...\n",
            "       |   Unzipping corpora/twitter_samples.zip.\n",
            "       | Downloading package udhr to /root/nltk_data...\n",
            "       |   Unzipping corpora/udhr.zip.\n",
            "       | Downloading package udhr2 to /root/nltk_data...\n",
            "       |   Unzipping corpora/udhr2.zip.\n",
            "       | Downloading package unicode_samples to /root/nltk_data...\n",
            "       |   Unzipping corpora/unicode_samples.zip.\n",
            "       | Downloading package universal_treebanks_v20 to\n",
            "       |     /root/nltk_data...\n",
            "       | Downloading package verbnet to /root/nltk_data...\n",
            "       |   Unzipping corpora/verbnet.zip.\n",
            "       | Downloading package verbnet3 to /root/nltk_data...\n",
            "       |   Unzipping corpora/verbnet3.zip.\n",
            "       | Downloading package webtext to /root/nltk_data...\n",
            "       |   Unzipping corpora/webtext.zip.\n",
            "       | Downloading package wordnet to /root/nltk_data...\n",
            "       |   Unzipping corpora/wordnet.zip.\n",
            "       | Downloading package wordnet_ic to /root/nltk_data...\n",
            "       |   Unzipping corpora/wordnet_ic.zip.\n",
            "       | Downloading package words to /root/nltk_data...\n",
            "       |   Unzipping corpora/words.zip.\n",
            "       | Downloading package ycoe to /root/nltk_data...\n",
            "       |   Unzipping corpora/ycoe.zip.\n",
            "       | Downloading package rslp to /root/nltk_data...\n",
            "       |   Unzipping stemmers/rslp.zip.\n",
            "       | Downloading package maxent_treebank_pos_tagger to\n",
            "       |     /root/nltk_data...\n",
            "       |   Unzipping taggers/maxent_treebank_pos_tagger.zip.\n",
            "       | Downloading package universal_tagset to /root/nltk_data...\n",
            "       |   Unzipping taggers/universal_tagset.zip.\n",
            "       | Downloading package maxent_ne_chunker to /root/nltk_data...\n",
            "       |   Unzipping chunkers/maxent_ne_chunker.zip.\n",
            "       | Downloading package punkt to /root/nltk_data...\n",
            "       |   Unzipping tokenizers/punkt.zip.\n",
            "       | Downloading package book_grammars to /root/nltk_data...\n",
            "       |   Unzipping grammars/book_grammars.zip.\n",
            "       | Downloading package sample_grammars to /root/nltk_data...\n",
            "       |   Unzipping grammars/sample_grammars.zip.\n",
            "       | Downloading package spanish_grammars to /root/nltk_data...\n",
            "       |   Unzipping grammars/spanish_grammars.zip.\n",
            "       | Downloading package basque_grammars to /root/nltk_data...\n",
            "       |   Unzipping grammars/basque_grammars.zip.\n",
            "       | Downloading package large_grammars to /root/nltk_data...\n",
            "       |   Unzipping grammars/large_grammars.zip.\n",
            "       | Downloading package tagsets to /root/nltk_data...\n",
            "       |   Unzipping help/tagsets.zip.\n",
            "       | Downloading package snowball_data to /root/nltk_data...\n",
            "       | Downloading package bllip_wsj_no_aux to /root/nltk_data...\n",
            "       |   Unzipping models/bllip_wsj_no_aux.zip.\n",
            "       | Downloading package word2vec_sample to /root/nltk_data...\n",
            "       |   Unzipping models/word2vec_sample.zip.\n",
            "       | Downloading package panlex_swadesh to /root/nltk_data...\n",
            "       | Downloading package mte_teip5 to /root/nltk_data...\n",
            "       |   Unzipping corpora/mte_teip5.zip.\n",
            "       | Downloading package averaged_perceptron_tagger to\n",
            "       |     /root/nltk_data...\n",
            "       |   Unzipping taggers/averaged_perceptron_tagger.zip.\n",
            "       | Downloading package averaged_perceptron_tagger_ru to\n",
            "       |     /root/nltk_data...\n",
            "       |   Unzipping taggers/averaged_perceptron_tagger_ru.zip.\n",
            "       | Downloading package perluniprops to /root/nltk_data...\n",
            "       |   Unzipping misc/perluniprops.zip.\n",
            "       | Downloading package nonbreaking_prefixes to\n",
            "       |     /root/nltk_data...\n",
            "       |   Unzipping corpora/nonbreaking_prefixes.zip.\n",
            "       | Downloading package vader_lexicon to /root/nltk_data...\n",
            "       | Downloading package porter_test to /root/nltk_data...\n",
            "       |   Unzipping stemmers/porter_test.zip.\n",
            "       | Downloading package wmt15_eval to /root/nltk_data...\n",
            "       |   Unzipping models/wmt15_eval.zip.\n",
            "       | Downloading package mwa_ppdb to /root/nltk_data...\n",
            "       |   Unzipping misc/mwa_ppdb.zip.\n",
            "       | \n",
            "     Done downloading collection all\n",
            "\n",
            "---------------------------------------------------------------------------\n",
            "    d) Download   l) List    u) Update   c) Config   h) Help   q) Quit\n",
            "---------------------------------------------------------------------------\n",
            "Downloader> q\n"
          ],
          "name": "stdout"
        },
        {
          "output_type": "execute_result",
          "data": {
            "text/plain": [
              "True"
            ]
          },
          "metadata": {
            "tags": []
          },
          "execution_count": 3
        }
      ]
    },
    {
      "cell_type": "code",
      "metadata": {
        "id": "NBdMbqReCfph",
        "colab": {
          "base_uri": "https://localhost:8080/",
          "height": 68
        },
        "outputId": "283402d8-2554-44fd-c588-17c81a6c6249"
      },
      "source": [
        "#Import Library\n",
        "import textblob\n",
        "from textblob import TextBlob\n",
        "str=TextBlob(\"Analytics\")\n",
        "print(str[1:5])# Extracting 1 to 5 characters\n",
        "print(str.upper())#uppercase text\n",
        "str2=TextBlob(\"Vidya\")\n",
        "print(str+\" \"+str2)#Concat two sentence as python"
      ],
      "execution_count": null,
      "outputs": [
        {
          "output_type": "stream",
          "text": [
            "naly\n",
            "ANALYTICS\n",
            "Analytics Vidya\n"
          ],
          "name": "stdout"
        }
      ]
    },
    {
      "cell_type": "code",
      "metadata": {
        "id": "cZrcgInICoy3",
        "colab": {
          "base_uri": "https://localhost:8080/",
          "height": 105
        },
        "outputId": "89664a6c-0aee-45af-c7c2-82b06ff4ce0c"
      },
      "source": [
        "from textblob import TextBlob\n",
        "document = (\"In computer science, artificial intelligence (AI), \\\n",
        "            sometimes called machine intelligence, is intelligence \\\n",
        "            demonstrated by machines, in contrast to the natural intelligence \\\n",
        "            displayed by humans and animals. Computer science defines AI \\\n",
        "            research as the study of \\\"intelligent agents\\\": any device that \\\n",
        "            perceives its environment and takes actions that maximize its\\\n",
        "            chance of successfully achieving its goals.[1] Colloquially,\\\n",
        "            the term \\\"artificial intelligence\\\" is used to describe machines\\\n",
        "            that mimic \\\"cognitive\\\" functions that humans associate with other\\\n",
        "            human minds, such as \\\"learning\\\" and \\\"problem solving\\\".[2]\")\n",
        "text_blob_object = TextBlob(document)#pass this document as a parameter to the TextBlob class\n",
        "\n",
        "document_sentence = text_blob_object.sentences\n",
        "print(document_sentence)#returned object can then be used to tokenize the document to words and sentences.\n",
        "print(len(document_sentence))\n",
        "\n",
        "document_words = text_blob_object.words #the words attribute returns the tokenized words in the document.\n",
        "print(document_words)\n",
        "print(len(document_words))"
      ],
      "execution_count": null,
      "outputs": [
        {
          "output_type": "stream",
          "text": [
            "[Sentence(\"In computer science, artificial intelligence (AI),             sometimes called machine intelligence, is intelligence             demonstrated by machines, in contrast to the natural intelligence             displayed by humans and animals.\"), Sentence(\"Computer science defines AI             research as the study of \"intelligent agents\": any device that             perceives its environment and takes actions that maximize its            chance of successfully achieving its goals.\"), Sentence(\"[1] Colloquially,            the term \"artificial intelligence\" is used to describe machines            that mimic \"cognitive\" functions that humans associate with other            human minds, such as \"learning\" and \"problem solving\".\"), Sentence(\"[2]\")]\n",
            "4\n",
            "['In', 'computer', 'science', 'artificial', 'intelligence', 'AI', 'sometimes', 'called', 'machine', 'intelligence', 'is', 'intelligence', 'demonstrated', 'by', 'machines', 'in', 'contrast', 'to', 'the', 'natural', 'intelligence', 'displayed', 'by', 'humans', 'and', 'animals', 'Computer', 'science', 'defines', 'AI', 'research', 'as', 'the', 'study', 'of', 'intelligent', 'agents', 'any', 'device', 'that', 'perceives', 'its', 'environment', 'and', 'takes', 'actions', 'that', 'maximize', 'its', 'chance', 'of', 'successfully', 'achieving', 'its', 'goals', '1', 'Colloquially', 'the', 'term', 'artificial', 'intelligence', 'is', 'used', 'to', 'describe', 'machines', 'that', 'mimic', 'cognitive', 'functions', 'that', 'humans', 'associate', 'with', 'other', 'human', 'minds', 'such', 'as', 'learning', 'and', 'problem', 'solving', '2']\n",
            "84\n"
          ],
          "name": "stdout"
        }
      ]
    },
    {
      "cell_type": "markdown",
      "metadata": {
        "id": "qwR3aWJHES5h"
      },
      "source": [
        "***Tokenization***"
      ]
    },
    {
      "cell_type": "code",
      "metadata": {
        "id": "PUN2BmsoI6iH",
        "colab": {
          "base_uri": "https://localhost:8080/",
          "height": 102
        },
        "outputId": "0e353a87-eee5-4887-9e71-e91608fbeaca"
      },
      "source": [
        "zen = TextBlob(\"Beautiful is better than ugly. \"\n",
        "               \"Explicit is better than implicit. \"\n",
        "               \"Simple is better than complex.\")\n",
        "print(zen.words)\n",
        "print(zen.sentences)\n",
        "for sentence in zen.sentences:\n",
        "  print(sentence.sentiment)"
      ],
      "execution_count": null,
      "outputs": [
        {
          "output_type": "stream",
          "text": [
            "['Beautiful', 'is', 'better', 'than', 'ugly', 'Explicit', 'is', 'better', 'than', 'implicit', 'Simple', 'is', 'better', 'than', 'complex']\n",
            "[Sentence(\"Beautiful is better than ugly.\"), Sentence(\"Explicit is better than implicit.\"), Sentence(\"Simple is better than complex.\")]\n",
            "Sentiment(polarity=0.2166666666666667, subjectivity=0.8333333333333334)\n",
            "Sentiment(polarity=0.5, subjectivity=0.5)\n",
            "Sentiment(polarity=0.06666666666666667, subjectivity=0.41904761904761906)\n"
          ],
          "name": "stdout"
        }
      ]
    },
    {
      "cell_type": "markdown",
      "metadata": {
        "id": "AeZnmwd1EXhu"
      },
      "source": [
        "***Noun Phrase Extraction***"
      ]
    },
    {
      "cell_type": "code",
      "metadata": {
        "id": "t8HR_5S-EcNA",
        "colab": {
          "base_uri": "https://localhost:8080/",
          "height": 34
        },
        "outputId": "c01ea6b8-5cee-45ba-fe58-7d6e25ec8eb5"
      },
      "source": [
        "#import nltk\n",
        "#nltk.download('brown')\n",
        "from textblob import TextBlob\n",
        "wiki=TextBlob(\"Python is a high-level, general-purpose programming language.\")\n",
        "print(wiki.noun_phrases)"
      ],
      "execution_count": null,
      "outputs": [
        {
          "output_type": "stream",
          "text": [
            "['python']\n"
          ],
          "name": "stdout"
        }
      ]
    },
    {
      "cell_type": "code",
      "metadata": {
        "id": "CjthGQ8Xiy05",
        "colab": {
          "base_uri": "https://localhost:8080/",
          "height": 68
        },
        "outputId": "e066d543-a4d8-497c-9b21-5608df14ec41"
      },
      "source": [
        "blob = TextBlob(\"Analytics Vidhya is a great platform to learn data science.\")\n",
        "for np in blob.noun_phrases:\n",
        " print (np)"
      ],
      "execution_count": null,
      "outputs": [
        {
          "output_type": "stream",
          "text": [
            "analytics vidhya\n",
            "great platform\n",
            "data science\n"
          ],
          "name": "stdout"
        }
      ]
    },
    {
      "cell_type": "markdown",
      "metadata": {
        "id": "_zhe1jt9Ee_P"
      },
      "source": [
        "***Part-of-speech Tagging***"
      ]
    },
    {
      "cell_type": "code",
      "metadata": {
        "id": "PtUJMobSGqoC",
        "colab": {
          "base_uri": "https://localhost:8080/",
          "height": 34
        },
        "outputId": "11b59088-dae4-47b0-a078-f8de4f2e72ab"
      },
      "source": [
        "#import nltk   ###########It will work in other IDE\n",
        "#nltk.download('punkt')\n",
        "from textblob import TextBlob\n",
        "wiki=TextBlob(\"Python is a high-level, general-purpose programming language.\")\n",
        "print(wiki.tags)"
      ],
      "execution_count": null,
      "outputs": [
        {
          "output_type": "stream",
          "text": [
            "[('Python', 'NNP'), ('is', 'VBZ'), ('a', 'DT'), ('high-level', 'JJ'), ('general-purpose', 'JJ'), ('programming', 'NN'), ('language', 'NN')]\n"
          ],
          "name": "stdout"
        }
      ]
    },
    {
      "cell_type": "code",
      "metadata": {
        "id": "oBXcqeeDiC3B",
        "colab": {
          "base_uri": "https://localhost:8080/",
          "height": 187
        },
        "outputId": "967ac3d0-1d12-461c-f25f-5cf0d7628ad7"
      },
      "source": [
        "blob = TextBlob(\"Analytics Vidhya is a great platform to learn data science.\")\n",
        "for words, tag in blob.tags:\n",
        " print (words, tag)"
      ],
      "execution_count": null,
      "outputs": [
        {
          "output_type": "stream",
          "text": [
            "Analytics NNS\n",
            "Vidhya NNP\n",
            "is VBZ\n",
            "a DT\n",
            "great JJ\n",
            "platform NN\n",
            "to TO\n",
            "learn VB\n",
            "data NNS\n",
            "science NN\n"
          ],
          "name": "stdout"
        }
      ]
    },
    {
      "cell_type": "markdown",
      "metadata": {
        "id": "yZ5CY-R9IWub"
      },
      "source": [
        "***Sentiment Analysis***"
      ]
    },
    {
      "cell_type": "code",
      "metadata": {
        "id": "47ENWleEIaac",
        "colab": {
          "base_uri": "https://localhost:8080/",
          "height": 68
        },
        "outputId": "d02fdc47-5fc3-4119-9783-30014b914ad5"
      },
      "source": [
        "testimonial = TextBlob(\"Textblob is amazingly simple to use. What great fun!\")\n",
        "print(testimonial.sentiment)\n",
        "print(testimonial.sentiment.polarity)\n",
        "print(testimonial.sentiment.subjectivity)"
      ],
      "execution_count": null,
      "outputs": [
        {
          "output_type": "stream",
          "text": [
            "Sentiment(polarity=0.39166666666666666, subjectivity=0.4357142857142857)\n",
            "0.39166666666666666\n",
            "0.4357142857142857\n"
          ],
          "name": "stdout"
        }
      ]
    },
    {
      "cell_type": "code",
      "metadata": {
        "id": "1nJjySOejvec",
        "colab": {
          "base_uri": "https://localhost:8080/",
          "height": 51
        },
        "outputId": "b7f05a51-b127-4a4e-847c-8b0e1dddd25e"
      },
      "source": [
        "print (blob)\n",
        "blob.sentiment"
      ],
      "execution_count": null,
      "outputs": [
        {
          "output_type": "stream",
          "text": [
            "Analytics Vidhya is a great platform to learn data science.\n"
          ],
          "name": "stdout"
        },
        {
          "output_type": "execute_result",
          "data": {
            "text/plain": [
              "Sentiment(polarity=0.8, subjectivity=0.75)"
            ]
          },
          "metadata": {
            "tags": []
          },
          "execution_count": 109
        }
      ]
    },
    {
      "cell_type": "markdown",
      "metadata": {
        "id": "BPYzaBQnEgtg"
      },
      "source": [
        "***Words Inflection and Lemmatization***"
      ]
    },
    {
      "cell_type": "code",
      "metadata": {
        "id": "A4uBQuC-LOls",
        "colab": {
          "base_uri": "https://localhost:8080/",
          "height": 102
        },
        "outputId": "b00266d1-9a54-4f7e-a21d-7cec9b121d6b"
      },
      "source": [
        "#Word Inflection, Making Singluar Plural\n",
        "sentence = TextBlob('Use 4 spaces per indentation level.')\n",
        "print(sentence.words)\n",
        "print(sentence.words[2].singularize())\n",
        "print(sentence.words[-1].pluralize())\n",
        "\n",
        "text = (\"Football is a good game. It has many health benefit\")\n",
        "text_blob_object = TextBlob(text)\n",
        "print(text_blob_object.words.pluralize())\n",
        "\n",
        "text = (\"Footballs is a goods games. Its has many healths benefits\")\n",
        "text_blob_object = TextBlob(text)\n",
        "print(text_blob_object.words.singularize())"
      ],
      "execution_count": null,
      "outputs": [
        {
          "output_type": "stream",
          "text": [
            "['Use', '4', 'spaces', 'per', 'indentation', 'level']\n",
            "space\n",
            "levels\n",
            "['Footballs', 'iss', 'some', 'goods', 'games', 'Its', 'hass', 'manies', 'healths', 'benefits']\n",
            "['Football', 'is', 'a', 'good', 'game', 'It', 'ha', 'many', 'health', 'benefit']\n"
          ],
          "name": "stdout"
        }
      ]
    },
    {
      "cell_type": "code",
      "metadata": {
        "id": "xRWeTV9oMd14",
        "colab": {
          "base_uri": "https://localhost:8080/",
          "height": 102
        },
        "outputId": "9b899622-c922-4196-da2f-0d1c3f6dceb9"
      },
      "source": [
        "#Lemmatize\n",
        "from textblob import Word\n",
        "w = Word(\"octopi\")\n",
        "print(w.lemmatize())\n",
        "w = Word(\"went\")\n",
        "print(w.lemmatize(\"v\") )# Pass in WordNet part of speech (verb)\n",
        "\n",
        "from textblob import Word\n",
        "word1 = Word(\"apples\")\n",
        "print(\"apples:\", word1.lemmatize())\n",
        "\n",
        "word2 = Word(\"media\")\n",
        "print(\"media:\", word2.lemmatize())\n",
        "\n",
        "word3 = Word(\"greater\")\n",
        "print(\"greater:\", word3.lemmatize(\"a\"))##a for adjective"
      ],
      "execution_count": null,
      "outputs": [
        {
          "output_type": "stream",
          "text": [
            "octopus\n",
            "go\n",
            "apples: apple\n",
            "media: medium\n",
            "greater: great\n"
          ],
          "name": "stdout"
        }
      ]
    },
    {
      "cell_type": "markdown",
      "metadata": {
        "id": "fOzYFkthZ7ah"
      },
      "source": [
        "***Wordnet Integration***"
      ]
    },
    {
      "cell_type": "code",
      "metadata": {
        "id": "VPHvHBe2Z_Cm",
        "colab": {
          "base_uri": "https://localhost:8080/",
          "height": 88
        },
        "outputId": "48900ec5-6e54-4acd-b03b-4bd1522e79f6"
      },
      "source": [
        "from textblob import Word\n",
        "from textblob.wordnet import VERB\n",
        "word=Word(\"octopus\")\n",
        "print(word.synsets)\n",
        "\n",
        "print(Word(\"hack\").get_synsets(pos=VERB))\n",
        "print(Word(\"octopus\").definitions)"
      ],
      "execution_count": null,
      "outputs": [
        {
          "output_type": "stream",
          "text": [
            "[Synset('octopus.n.01'), Synset('octopus.n.02')]\n",
            "[Synset('chop.v.05'), Synset('hack.v.02'), Synset('hack.v.03'), Synset('hack.v.04'), Synset('hack.v.05'), Synset('hack.v.06'), Synset('hack.v.07'), Synset('hack.v.08')]\n",
            "['tentacles of octopus prepared as food', 'bottom-living cephalopod having a soft oval body with eight long tentacles']\n"
          ],
          "name": "stdout"
        }
      ]
    },
    {
      "cell_type": "code",
      "metadata": {
        "id": "HgwlFemmaxDy",
        "colab": {
          "base_uri": "https://localhost:8080/",
          "height": 34
        },
        "outputId": "aa7956c3-d8a9-479b-a457-53d9a9655c87"
      },
      "source": [
        "#Create a synsets directly\n",
        "from textblob.wordnet import Synset\n",
        "octopus = Synset('octopus.n.02')\n",
        "shrimp = Synset('shrimp.n.03')\n",
        "octopus.path_similarity(shrimp)"
      ],
      "execution_count": null,
      "outputs": [
        {
          "output_type": "execute_result",
          "data": {
            "text/plain": [
              "0.1111111111111111"
            ]
          },
          "metadata": {
            "tags": []
          },
          "execution_count": 6
        }
      ]
    },
    {
      "cell_type": "markdown",
      "metadata": {
        "id": "k2bBNcocbVal"
      },
      "source": [
        "***Word Lists***"
      ]
    },
    {
      "cell_type": "code",
      "metadata": {
        "id": "CF3gmqqIbYbm",
        "colab": {
          "base_uri": "https://localhost:8080/",
          "height": 51
        },
        "outputId": "8d40185b-5937-4d9c-c733-c192f0a8f421"
      },
      "source": [
        "from textblob import TextBlob\n",
        "animals = TextBlob(\"cat dog octopus\")\n",
        "print(animals.words)\n",
        "print(animals.words.pluralize())"
      ],
      "execution_count": null,
      "outputs": [
        {
          "output_type": "stream",
          "text": [
            "['cat', 'dog', 'octopus']\n",
            "['cats', 'dogs', 'octopodes']\n"
          ],
          "name": "stdout"
        }
      ]
    },
    {
      "cell_type": "markdown",
      "metadata": {
        "id": "20fM_HfRcHMy"
      },
      "source": [
        "***Spelling Correction***"
      ]
    },
    {
      "cell_type": "code",
      "metadata": {
        "id": "k_P-V-JycI43",
        "colab": {
          "base_uri": "https://localhost:8080/",
          "height": 34
        },
        "outputId": "13e88ab9-ac70-46d7-973b-ed9ff4f82d46"
      },
      "source": [
        "b = TextBlob(\"I havv goood speling!\")\n",
        "print(b.correct())"
      ],
      "execution_count": null,
      "outputs": [
        {
          "output_type": "stream",
          "text": [
            "I have good spelling!\n"
          ],
          "name": "stdout"
        }
      ]
    },
    {
      "cell_type": "code",
      "metadata": {
        "id": "RCiNudNRcdhX",
        "colab": {
          "base_uri": "https://localhost:8080/",
          "height": 34
        },
        "outputId": "f241f633-0aba-4dc8-b0e7-804e4e9f9235"
      },
      "source": [
        "from textblob import Word\n",
        "w = Word('falibility')\n",
        "w.spellcheck()"
      ],
      "execution_count": null,
      "outputs": [
        {
          "output_type": "execute_result",
          "data": {
            "text/plain": [
              "[('fallibility', 1.0)]"
            ]
          },
          "metadata": {
            "tags": []
          },
          "execution_count": 11
        }
      ]
    },
    {
      "cell_type": "code",
      "metadata": {
        "id": "JBDTuNYHH_gP",
        "colab": {
          "base_uri": "https://localhost:8080/",
          "height": 34
        },
        "outputId": "8e3f3f7f-abc2-4727-af9b-55ec7f48a520"
      },
      "source": [
        "text = \"I love to watchf footbal, but I have neter played it\"\n",
        "text_blob_object = TextBlob(text)\n",
        "\n",
        "print(text_blob_object.correct())"
      ],
      "execution_count": null,
      "outputs": [
        {
          "output_type": "stream",
          "text": [
            "I love to watch football, but I have never played it\n"
          ],
          "name": "stdout"
        }
      ]
    },
    {
      "cell_type": "markdown",
      "metadata": {
        "id": "gv4FkxTIE0Io"
      },
      "source": [
        "***Noun Phrase Extraction***"
      ]
    },
    {
      "cell_type": "code",
      "metadata": {
        "id": "RuM2IMkdE4PW",
        "colab": {
          "base_uri": "https://localhost:8080/",
          "height": 238
        },
        "outputId": "f551923b-0bb0-46a9-d249-3b0cfa00cccd"
      },
      "source": [
        "text_blob_object = TextBlob(document)\n",
        "for noun_phrase in text_blob_object.noun_phrases:\n",
        "    print(noun_phrase)"
      ],
      "execution_count": null,
      "outputs": [
        {
          "output_type": "stream",
          "text": [
            "computer science\n",
            "artificial intelligence\n",
            "ai\n",
            "machine intelligence\n",
            "natural intelligence\n",
            "computer\n",
            "science defines\n",
            "ai\n",
            "intelligent agents\n",
            "colloquially\n",
            "artificial intelligence\n",
            "describe machines\n",
            "human minds\n"
          ],
          "name": "stdout"
        }
      ]
    },
    {
      "cell_type": "markdown",
      "metadata": {
        "id": "a537fbgPcPDc"
      },
      "source": [
        "*** Get Word and Noun Phrase Frequencies***"
      ]
    },
    {
      "cell_type": "code",
      "metadata": {
        "id": "6Z8mWwDzdSxf",
        "colab": {
          "base_uri": "https://localhost:8080/",
          "height": 34
        },
        "outputId": "d018a4b2-8e64-43ad-d2f8-3eeef130f9e1"
      },
      "source": [
        " monty = TextBlob(\"We are no longer the Knights who say Ni. \"\n",
        "\"We are now the Knights who say Ekki ekki ekki PTANG.\")\n",
        " monty.word_counts['ekki']#If you access the frequencies this way, the search will not be case sensitive, and words that are not found will have a frequency of 0."
      ],
      "execution_count": null,
      "outputs": [
        {
          "output_type": "execute_result",
          "data": {
            "text/plain": [
              "3"
            ]
          },
          "metadata": {
            "tags": []
          },
          "execution_count": 13
        }
      ]
    },
    {
      "cell_type": "code",
      "metadata": {
        "id": "8qnQD60NGe2d",
        "colab": {
          "base_uri": "https://localhost:8080/",
          "height": 34
        },
        "outputId": "f66f95bc-1651-48da-9bd7-06835808e42f"
      },
      "source": [
        "text_blob_object = TextBlob(document)\n",
        "text_blob_object.word_counts['intelligence']"
      ],
      "execution_count": null,
      "outputs": [
        {
          "output_type": "execute_result",
          "data": {
            "text/plain": [
              "5"
            ]
          },
          "metadata": {
            "tags": []
          },
          "execution_count": 55
        }
      ]
    },
    {
      "cell_type": "code",
      "metadata": {
        "id": "wSlAFBbJGjej",
        "colab": {
          "base_uri": "https://localhost:8080/",
          "height": 34
        },
        "outputId": "baa68553-2607-496e-c269-c12ea7a99ab7"
      },
      "source": [
        "text_blob_object.words.count('intelligence')"
      ],
      "execution_count": null,
      "outputs": [
        {
          "output_type": "execute_result",
          "data": {
            "text/plain": [
              "5"
            ]
          },
          "metadata": {
            "tags": []
          },
          "execution_count": 56
        }
      ]
    },
    {
      "cell_type": "code",
      "metadata": {
        "id": "1-U33wMwGouN",
        "colab": {
          "base_uri": "https://localhost:8080/",
          "height": 34
        },
        "outputId": "7f8a2a59-62af-48db-f064-abd6d08670f7"
      },
      "source": [
        "text_blob_object.words.count('intelligence', case_sensitive=True)"
      ],
      "execution_count": null,
      "outputs": [
        {
          "output_type": "execute_result",
          "data": {
            "text/plain": [
              "5"
            ]
          },
          "metadata": {
            "tags": []
          },
          "execution_count": 57
        }
      ]
    },
    {
      "cell_type": "code",
      "metadata": {
        "id": "kxqf20BsGsW_",
        "colab": {
          "base_uri": "https://localhost:8080/",
          "height": 34
        },
        "outputId": "3796398c-e80b-4994-b07f-8babadc0f63c"
      },
      "source": [
        "text_blob_object = TextBlob(document)\n",
        "text_blob_object.noun_phrases.count('artificial intelligence')"
      ],
      "execution_count": null,
      "outputs": [
        {
          "output_type": "execute_result",
          "data": {
            "text/plain": [
              "2"
            ]
          },
          "metadata": {
            "tags": []
          },
          "execution_count": 58
        }
      ]
    },
    {
      "cell_type": "code",
      "metadata": {
        "id": "DdyaSAHddkWU",
        "colab": {
          "base_uri": "https://localhost:8080/",
          "height": 34
        },
        "outputId": "c19636b1-64bf-4c0d-b6c8-bd1ae786cc7b"
      },
      "source": [
        "monty.words.count('ekki')"
      ],
      "execution_count": null,
      "outputs": [
        {
          "output_type": "execute_result",
          "data": {
            "text/plain": [
              "3"
            ]
          },
          "metadata": {
            "tags": []
          },
          "execution_count": 14
        }
      ]
    },
    {
      "cell_type": "code",
      "metadata": {
        "id": "r4N1ZaFMdoFu",
        "colab": {
          "base_uri": "https://localhost:8080/",
          "height": 34
        },
        "outputId": "2292deb4-8192-491c-d518-bf653e8689f1"
      },
      "source": [
        "monty.words.count('ekki', case_sensitive=True)"
      ],
      "execution_count": null,
      "outputs": [
        {
          "output_type": "execute_result",
          "data": {
            "text/plain": [
              "2"
            ]
          },
          "metadata": {
            "tags": []
          },
          "execution_count": 15
        }
      ]
    },
    {
      "cell_type": "code",
      "metadata": {
        "id": "XWmWaBrldv7m",
        "colab": {
          "base_uri": "https://localhost:8080/",
          "height": 34
        },
        "outputId": "f88617ed-0836-4b54-e552-f98661426f98"
      },
      "source": [
        "wiki=TextBlob(\"Python is a high-level, general-purpose programming language.\")\n",
        "wiki.noun_phrases.count('python') # Same for Noun Phrases"
      ],
      "execution_count": null,
      "outputs": [
        {
          "output_type": "execute_result",
          "data": {
            "text/plain": [
              "1"
            ]
          },
          "metadata": {
            "tags": []
          },
          "execution_count": 17
        }
      ]
    },
    {
      "cell_type": "markdown",
      "metadata": {
        "id": "xjpMiBFEeQsG"
      },
      "source": [
        "***Translation and Language Detection***"
      ]
    },
    {
      "cell_type": "code",
      "metadata": {
        "id": "TpNanFpEeTLZ",
        "colab": {
          "base_uri": "https://localhost:8080/",
          "height": 34
        },
        "outputId": "e45f58f7-4e59-4522-c277-4891ef5d2b3d"
      },
      "source": [
        "en_blob = TextBlob(u'Simple is better than complex.')  #TextBlobs can be translated between languages\n",
        "en_blob.translate(to='es')"
      ],
      "execution_count": null,
      "outputs": [
        {
          "output_type": "execute_result",
          "data": {
            "text/plain": [
              "TextBlob(\"Simple es mejor que complejo.\")"
            ]
          },
          "metadata": {
            "tags": []
          },
          "execution_count": 19
        }
      ]
    },
    {
      "cell_type": "code",
      "metadata": {
        "id": "UtDxvkJ4ITpA",
        "colab": {
          "base_uri": "https://localhost:8080/",
          "height": 34
        },
        "outputId": "d34b9f31-389f-40dd-a270-7799f5fdf8a1"
      },
      "source": [
        "text_blob_object_french = TextBlob(u'Salut comment allez-vous?')\n",
        "print(text_blob_object_french.translate(to='en'))"
      ],
      "execution_count": null,
      "outputs": [
        {
          "output_type": "stream",
          "text": [
            "Hi, how are you?\n"
          ],
          "name": "stdout"
        }
      ]
    },
    {
      "cell_type": "code",
      "metadata": {
        "id": "D0RWHXwRIb_P",
        "colab": {
          "base_uri": "https://localhost:8080/",
          "height": 34
        },
        "outputId": "ded2f64c-3db8-4ee5-b54b-feb77dde313f"
      },
      "source": [
        "text_blob_object_arabic = TextBlob(u'مرحبا كيف حالك؟')\n",
        "print(text_blob_object_arabic.translate(to='en'))"
      ],
      "execution_count": null,
      "outputs": [
        {
          "output_type": "stream",
          "text": [
            "Hello how are you?\n"
          ],
          "name": "stdout"
        }
      ]
    },
    {
      "cell_type": "code",
      "metadata": {
        "id": "cfO4-ZjTIojV",
        "colab": {
          "base_uri": "https://localhost:8080/",
          "height": 34
        },
        "outputId": "858f65c2-079f-4afc-ed8c-93ac063d941c"
      },
      "source": [
        "text_blob_object = TextBlob(u'Hola como estas?')\n",
        "print(text_blob_object.detect_language())#es, which stands for the Spanish language.\n",
        "\n"
      ],
      "execution_count": null,
      "outputs": [
        {
          "output_type": "stream",
          "text": [
            "es\n"
          ],
          "name": "stdout"
        }
      ]
    },
    {
      "cell_type": "code",
      "metadata": {
        "id": "uCkPEZSC2629",
        "colab": {
          "base_uri": "https://localhost:8080/",
          "height": 34
        },
        "outputId": "ab0c103a-83ab-4b6f-e552-6ce1ee125f09"
      },
      "source": [
        "en_blob = TextBlob(u'Simple is better than complex.')\n",
        "print(en_blob.translate(from_lang='en', to='es'))"
      ],
      "execution_count": null,
      "outputs": [
        {
          "output_type": "stream",
          "text": [
            "Simple es mejor que complejo.\n"
          ],
          "name": "stdout"
        }
      ]
    },
    {
      "cell_type": "code",
      "metadata": {
        "id": "EguofmiE1-E_",
        "colab": {
          "base_uri": "https://localhost:8080/",
          "height": 34
        },
        "outputId": "32590f57-f59e-4308-f996-0e3d7cbd7ee8"
      },
      "source": [
        "import requests\n",
        "url = 'http://translate.google.com/translate_a/t'\n",
        "params = {\n",
        "    \"text\": \"Simple is better than complex\", \n",
        "    \"sl\": \"en\", \n",
        "    \"tl\": \"es\", \n",
        "    \"client\": \"p\"\n",
        "}\n",
        "print(requests.get(url, params=params).content)"
      ],
      "execution_count": null,
      "outputs": [
        {
          "output_type": "stream",
          "text": [
            "b'\"Simple es mejor que complejo\"'\n"
          ],
          "name": "stdout"
        }
      ]
    },
    {
      "cell_type": "code",
      "metadata": {
        "id": "IesYsY-6fCEz",
        "colab": {
          "base_uri": "https://localhost:8080/",
          "height": 34
        },
        "outputId": "f5d2f6d7-b437-4a76-c532-fd1c17dfd9fc"
      },
      "source": [
        "b = TextBlob(u\"    \")  #detect language\n",
        "b.detect_language()"
      ],
      "execution_count": null,
      "outputs": [
        {
          "output_type": "execute_result",
          "data": {
            "text/plain": [
              "'en'"
            ]
          },
          "metadata": {
            "tags": []
          },
          "execution_count": 23
        }
      ]
    },
    {
      "cell_type": "markdown",
      "metadata": {
        "id": "zeDkcT7kgHX7"
      },
      "source": [
        "***Parsing***"
      ]
    },
    {
      "cell_type": "code",
      "metadata": {
        "id": "WC7jaHNGgJXj",
        "colab": {
          "base_uri": "https://localhost:8080/",
          "height": 34
        },
        "outputId": "5ceb7646-139b-45bb-b510-05234aa26cda"
      },
      "source": [
        "b = TextBlob(\"And now for something completely different.\")\n",
        "print(b.parse())"
      ],
      "execution_count": null,
      "outputs": [
        {
          "output_type": "stream",
          "text": [
            "And/CC/O/O now/RB/B-ADVP/O for/IN/B-PP/B-PNP something/NN/B-NP/I-PNP completely/RB/B-ADJP/O different/JJ/I-ADJP/O ././O/O\n"
          ],
          "name": "stdout"
        }
      ]
    },
    {
      "cell_type": "markdown",
      "metadata": {
        "id": "uzzGMpohgVNE"
      },
      "source": [
        "***Text Like Python Strings***"
      ]
    },
    {
      "cell_type": "code",
      "metadata": {
        "id": "judZHWLigZUv",
        "colab": {
          "base_uri": "https://localhost:8080/",
          "height": 68
        },
        "outputId": "62178460-5e1e-4e97-f9ed-45915dd9e312"
      },
      "source": [
        "zen = TextBlob(\"Beautiful is better than ugly. \"\n",
        "               \"Explicit is better than implicit. \"\n",
        "               \"Simple is better than complex.\")\n",
        "print(zen[0:19])\n",
        "print(zen.upper())\n",
        "print(zen.find('Simple'))"
      ],
      "execution_count": null,
      "outputs": [
        {
          "output_type": "stream",
          "text": [
            "Beautiful is better\n",
            "BEAUTIFUL IS BETTER THAN UGLY. EXPLICIT IS BETTER THAN IMPLICIT. SIMPLE IS BETTER THAN COMPLEX.\n",
            "65\n"
          ],
          "name": "stdout"
        }
      ]
    },
    {
      "cell_type": "code",
      "metadata": {
        "id": "LfWf_lgTHU4I",
        "colab": {
          "base_uri": "https://localhost:8080/",
          "height": 51
        },
        "outputId": "9fe4fc55-3b53-4e03-80d3-713590b87c1e"
      },
      "source": [
        "text = \"I love to watch football, but I have never played it\"\n",
        "text_blob_object = TextBlob(text)\n",
        "\n",
        "print(text_blob_object.upper())\n",
        "text = \"I LOVE TO WATCH FOOTBALL, BUT I HAVE NEVER PLAYED IT\"\n",
        "text_blob_object = TextBlob(text)\n",
        "\n",
        "print(text_blob_object.lower())"
      ],
      "execution_count": null,
      "outputs": [
        {
          "output_type": "stream",
          "text": [
            "I LOVE TO WATCH FOOTBALL, BUT I HAVE NEVER PLAYED IT\n",
            "i love to watch football, but i have never played it\n"
          ],
          "name": "stdout"
        }
      ]
    },
    {
      "cell_type": "markdown",
      "metadata": {
        "id": "ERLx--B2g-8G"
      },
      "source": [
        "***Comparaison Between Textbolb & Strings***"
      ]
    },
    {
      "cell_type": "code",
      "metadata": {
        "id": "pIxl3FjahEn9",
        "colab": {
          "base_uri": "https://localhost:8080/",
          "height": 85
        },
        "outputId": "ca499309-a3f9-4edb-b5fd-745b9219b9f8"
      },
      "source": [
        "apple_blob = TextBlob('apples')\n",
        "banana_blob = TextBlob('bananas')\n",
        "print(apple_blob < banana_blob)\n",
        "print(apple_blob == 'apples')\n",
        "print(apple_blob + ' and ' + banana_blob)\n",
        "print(\"{0} and {1}\".format(apple_blob, banana_blob))"
      ],
      "execution_count": null,
      "outputs": [
        {
          "output_type": "stream",
          "text": [
            "True\n",
            "True\n",
            "apples and bananas\n",
            "apples and bananas\n"
          ],
          "name": "stdout"
        }
      ]
    },
    {
      "cell_type": "markdown",
      "metadata": {
        "id": "qxAqSwHtElNj"
      },
      "source": [
        "***N-grams***"
      ]
    },
    {
      "cell_type": "code",
      "metadata": {
        "id": "Df2ihhq9hmem",
        "colab": {
          "base_uri": "https://localhost:8080/",
          "height": 51
        },
        "outputId": "e357e4d0-fdae-4528-a415-5662b17e2b00"
      },
      "source": [
        "blob = TextBlob(\"Now is better than never.\")\n",
        "print(blob.ngrams(n=3))\n",
        "print(blob.ngrams(n=2))"
      ],
      "execution_count": null,
      "outputs": [
        {
          "output_type": "stream",
          "text": [
            "[WordList(['Now', 'is', 'better']), WordList(['is', 'better', 'than']), WordList(['better', 'than', 'never'])]\n",
            "[WordList(['Now', 'is']), WordList(['is', 'better']), WordList(['better', 'than']), WordList(['than', 'never'])]\n"
          ],
          "name": "stdout"
        }
      ]
    },
    {
      "cell_type": "code",
      "metadata": {
        "id": "xA3o3Mf7HsS1",
        "colab": {
          "base_uri": "https://localhost:8080/",
          "height": 187
        },
        "outputId": "720d7ab1-01ee-4d5b-93ea-626f3efce3b8"
      },
      "source": [
        "text = \"I love to watch football, but I have never played it\"\n",
        "text_blob_object = TextBlob(text)\n",
        "for ngram in text_blob_object.ngrams(2):\n",
        "    print(ngram)"
      ],
      "execution_count": null,
      "outputs": [
        {
          "output_type": "stream",
          "text": [
            "['I', 'love']\n",
            "['love', 'to']\n",
            "['to', 'watch']\n",
            "['watch', 'football']\n",
            "['football', 'but']\n",
            "['but', 'I']\n",
            "['I', 'have']\n",
            "['have', 'never']\n",
            "['never', 'played']\n",
            "['played', 'it']\n"
          ],
          "name": "stdout"
        }
      ]
    },
    {
      "cell_type": "code",
      "metadata": {
        "id": "UIfC0d_cjdip",
        "colab": {
          "base_uri": "https://localhost:8080/",
          "height": 170
        },
        "outputId": "2310647f-e0d7-44e5-c278-955ba039c3ea"
      },
      "source": [
        "for ngram in blob.ngrams(2):\n",
        "  print (ngram)"
      ],
      "execution_count": null,
      "outputs": [
        {
          "output_type": "stream",
          "text": [
            "['Analytics', 'Vidhya']\n",
            "['Vidhya', 'is']\n",
            "['is', 'a']\n",
            "['a', 'great']\n",
            "['great', 'platform']\n",
            "['platform', 'to']\n",
            "['to', 'learn']\n",
            "['learn', 'data']\n",
            "['data', 'science']\n"
          ],
          "name": "stdout"
        }
      ]
    },
    {
      "cell_type": "markdown",
      "metadata": {
        "id": "lCpDrzntiDki"
      },
      "source": [
        "***Get Start and End Indices of Sentences***\n"
      ]
    },
    {
      "cell_type": "code",
      "metadata": {
        "id": "xh3NPMpOiFPi",
        "colab": {
          "base_uri": "https://localhost:8080/",
          "height": 85
        },
        "outputId": "9dc242aa-a26d-4950-b488-b3eac7eca10a"
      },
      "source": [
        "for s in zen.sentences:\n",
        "  print(s) \n",
        "print(\"---- Starts at index {}, Ends at index {}\".format(s.start, s.end))"
      ],
      "execution_count": null,
      "outputs": [
        {
          "output_type": "stream",
          "text": [
            "Beautiful is better than ugly.\n",
            "Explicit is better than implicit.\n",
            "Simple is better than complex.\n",
            "---- Starts at index 65, Ends at index 95\n"
          ],
          "name": "stdout"
        }
      ]
    },
    {
      "cell_type": "markdown",
      "metadata": {
        "id": "wK9Baq4zj_my"
      },
      "source": [
        "***Building a Text Classification System***"
      ]
    },
    {
      "cell_type": "code",
      "metadata": {
        "id": "06ys8Ev7kCQg"
      },
      "source": [
        "train = [\n",
        "... ('I love this sandwich.', 'pos'),\n",
        "... ('this is an amazing place!', 'pos'),\n",
        "... ('I feel very good about these beers.', 'pos'),\n",
        "... ('this is my best work.', 'pos'),\n",
        "... (\"what an awesome view\", 'pos'),\n",
        "... ('I do not like this restaurant', 'neg'),\n",
        "... ('I am tired of this stuff.', 'neg'),\n",
        "... (\"I can't deal with this\", 'neg'),\n",
        "... ('he is my sworn enemy!', 'neg'),\n",
        "... ('my boss is horrible.', 'neg')\n",
        "... ]\n",
        "test = [\n",
        "... ('the beer was good.', 'pos'),\n",
        "... ('I do not enjoy my job', 'neg'),\n",
        "... (\"I ain't feeling dandy today.\", 'neg'),\n",
        "... (\"I feel amazing!\", 'pos'),\n",
        "... ('Gary is a friend of mine.', 'pos'),\n",
        "... (\"I can't believe I'm doing this.\", 'neg')\n",
        "... ]\n"
      ],
      "execution_count": null,
      "outputs": []
    },
    {
      "cell_type": "code",
      "metadata": {
        "id": "GEzmnXvXkQBC"
      },
      "source": [
        "from textblob.classifiers import NaiveBayesClassifier\n",
        "cl=NaiveBayesClassifier(train)"
      ],
      "execution_count": null,
      "outputs": []
    },
    {
      "cell_type": "code",
      "metadata": {
        "id": "4AUnuHx3klyg"
      },
      "source": [
        " with open('train.json', 'r') as fp:\n",
        "    cl = NaiveBayesClassifier(fp, format=\"json\")"
      ],
      "execution_count": null,
      "outputs": []
    },
    {
      "cell_type": "code",
      "metadata": {
        "id": "cVWTYvnNk47x",
        "colab": {
          "base_uri": "https://localhost:8080/",
          "height": 85
        },
        "outputId": "7e654252-f0f5-42a7-f713-1dac70e97a38"
      },
      "source": [
        "print(cl.classify(\"This is an amazing library!\")  )###Classifing Text\n",
        "prob_dist = cl.prob_classify(\"This one's a doozy.\")#You can get the label probability distribution with the prob_classify(text) method\n",
        "print(prob_dist.max())\n",
        "print(round(prob_dist.prob(\"pos\"), 2))\n",
        "print(round(prob_dist.prob(\"neg\"), 2))"
      ],
      "execution_count": null,
      "outputs": [
        {
          "output_type": "stream",
          "text": [
            "pos\n",
            "pos\n",
            "0.63\n",
            "0.37\n"
          ],
          "name": "stdout"
        }
      ]
    },
    {
      "cell_type": "code",
      "metadata": {
        "id": "FistTMfjljyf",
        "colab": {
          "base_uri": "https://localhost:8080/",
          "height": 85
        },
        "outputId": "9f2c1df1-3d2b-462e-9ce2-f7be2d0b25bf"
      },
      "source": [
        "from textblob import TextBlob\n",
        "blob = TextBlob(\"The beer is good. But the hangover is horrible.\", classifier=cl)\n",
        "print(blob.classify())\n",
        "\n",
        "for s in blob.sentences:\n",
        "  print(s)\n",
        "print(s.classify())"
      ],
      "execution_count": null,
      "outputs": [
        {
          "output_type": "stream",
          "text": [
            "pos\n",
            "The beer is good.\n",
            "But the hangover is horrible.\n",
            "neg\n"
          ],
          "name": "stdout"
        }
      ]
    },
    {
      "cell_type": "code",
      "metadata": {
        "id": "XRETuhlklwSr",
        "colab": {
          "base_uri": "https://localhost:8080/",
          "height": 34
        },
        "outputId": "b3c27bb7-2218-46f0-96cd-48810aef01a8"
      },
      "source": [
        "#Evaluating Classifiers\n",
        "cl.accuracy(test)"
      ],
      "execution_count": null,
      "outputs": [
        {
          "output_type": "execute_result",
          "data": {
            "text/plain": [
              "0.8333333333333334"
            ]
          },
          "metadata": {
            "tags": []
          },
          "execution_count": 40
        }
      ]
    },
    {
      "cell_type": "code",
      "metadata": {
        "id": "jJcRwAvEmBSQ",
        "colab": {
          "base_uri": "https://localhost:8080/",
          "height": 119
        },
        "outputId": "24d9cc50-91a7-42a9-a277-fb34d9851e18"
      },
      "source": [
        "cl.show_informative_features(5)"
      ],
      "execution_count": null,
      "outputs": [
        {
          "output_type": "stream",
          "text": [
            "Most Informative Features\n",
            "            contains(my) = True              neg : pos    =      1.7 : 1.0\n",
            "            contains(an) = False             neg : pos    =      1.6 : 1.0\n",
            "             contains(I) = True              neg : pos    =      1.4 : 1.0\n",
            "             contains(I) = False             pos : neg    =      1.4 : 1.0\n",
            "            contains(my) = False             pos : neg    =      1.3 : 1.0\n"
          ],
          "name": "stdout"
        }
      ]
    },
    {
      "cell_type": "code",
      "metadata": {
        "id": "YFidjAOKmM8c",
        "colab": {
          "base_uri": "https://localhost:8080/",
          "height": 51
        },
        "outputId": "230bf132-30db-4346-f11b-537d38538369"
      },
      "source": [
        "#Updating Classifiers with New Data\n",
        "new_data = [('She is my best friend.', 'pos'),\n",
        "... (\"I'm happy to have a new friend.\", 'pos'),\n",
        "... (\"Stay thirsty, my friend.\", 'pos'),\n",
        "... (\"He ain't from around here.\", 'neg')]\n",
        "print(cl.update(new_data))\n",
        "print(cl.accuracy(test))"
      ],
      "execution_count": null,
      "outputs": [
        {
          "output_type": "stream",
          "text": [
            "True\n",
            "1.0\n"
          ],
          "name": "stdout"
        }
      ]
    },
    {
      "cell_type": "code",
      "metadata": {
        "id": "-8yFfPdovVJq",
        "colab": {
          "base_uri": "https://localhost:8080/",
          "height": 34
        },
        "outputId": "a39b9c85-1929-4038-efea-6c0f5a4ccdfd"
      },
      "source": [
        "#Feature Extractors\n",
        "def end_word_extractor(document):\n",
        "  tokens = document.split()\n",
        "  first_word, last_word = tokens[0], tokens[-1]\n",
        "  feats = {}\n",
        "  feats[\"first({0})\".format(first_word)] = True\n",
        "  feats[\"last({0})\".format(last_word)] = False\n",
        "  return feats\n",
        "features = end_word_extractor(\"I feel happy\")\n",
        "assert features == {'last(happy)': False, 'first(I)': True} \n",
        "cl2 = NaiveBayesClassifier(test, feature_extractor=end_word_extractor)\n",
        "blob = TextBlob(\"I'm excited to try my new classifier.\", classifier=cl2)\n",
        "blob.classify()"
      ],
      "execution_count": null,
      "outputs": [
        {
          "output_type": "execute_result",
          "data": {
            "text/plain": [
              "'pos'"
            ]
          },
          "metadata": {
            "tags": []
          },
          "execution_count": 47
        }
      ]
    },
    {
      "cell_type": "markdown",
      "metadata": {
        "id": "rGQ9AMx9e200"
      },
      "source": [
        "***Sentiment Analysis-Part2***"
      ]
    },
    {
      "cell_type": "code",
      "metadata": {
        "id": "IGQf2aRke-pD"
      },
      "source": [
        "training = [\n",
        "('Tom Holland is a terrible spiderman.','pos'),\n",
        "('a terrible Javert (Russell Crowe) ruined Les Miserables for me...','pos'),\n",
        "('The Dark Knight Rises is the greatest superhero movie ever!','neg'),\n",
        "('Fantastic Four should have never been made.','pos'),\n",
        "('Wes Anderson is my favorite director!','neg'),\n",
        "('Captain America 2 is pretty awesome.','neg'),\n",
        "('Let\\s pretend \"Batman and Robin\" never happened..','pos'),\n",
        "]\n",
        "testing = [\n",
        "('Superman was never an interesting character.','pos'),\n",
        "('Fantastic Mr Fox is an awesome film!','neg'),\n",
        "('Dragonball Evolution is simply terrible!!','pos')\n",
        "]"
      ],
      "execution_count": null,
      "outputs": []
    },
    {
      "cell_type": "code",
      "metadata": {
        "id": "w1yG90p6fFXF",
        "colab": {
          "base_uri": "https://localhost:8080/",
          "height": 51
        },
        "outputId": "cc7b77a5-ada8-4052-a74b-9dc58a904a53"
      },
      "source": [
        "## decision tree classifier\n",
        "from textblob import classifiers\n",
        "dt_classifier = classifiers.DecisionTreeClassifier(training)\n",
        "print (dt_classifier.accuracy(testing))\n",
        "#dt_classifier.show_informative_features(3)\n",
        "blob = TextBlob('the weather is terrible!', classifier=dt_classifier)\n",
        "print (blob.classify())"
      ],
      "execution_count": null,
      "outputs": [
        {
          "output_type": "stream",
          "text": [
            "0.6666666666666666\n",
            "neg\n"
          ],
          "name": "stdout"
        }
      ]
    },
    {
      "cell_type": "markdown",
      "metadata": {
        "id": "mIawYrorgB7P"
      },
      "source": [
        "***Creating a short summary of a text***"
      ]
    },
    {
      "cell_type": "code",
      "metadata": {
        "id": "Z0UEC1qagA4N",
        "colab": {
          "base_uri": "https://localhost:8080/",
          "height": 51
        },
        "outputId": "753c0cce-c551-4d00-f6a3-48dfda946d5a"
      },
      "source": [
        "import random\n",
        "\n",
        "blob = TextBlob('Analytics Vidhya is a thriving community for data driven industry. This platform allows \\\n",
        "people to know more about analytics from its articles, Q&A forum, and learning paths. Also, we help \\\n",
        "professionals & amateurs to sharpen their skillsets by providing a platform to participate in Hackathons.')\n",
        "nouns = list()\n",
        "for word, tag in blob.tags:\n",
        "  if tag == 'NN':\n",
        "    nouns.append(word.lemmatize())\n",
        "\n",
        "print (\"This text is about...\")\n",
        "for item in random.sample(nouns, 5):\n",
        "  word = Word(item)\n",
        "print (word.pluralize())"
      ],
      "execution_count": null,
      "outputs": [
        {
          "output_type": "stream",
          "text": [
            "This text is about...\n",
            "industries\n"
          ],
          "name": "stdout"
        }
      ]
    },
    {
      "cell_type": "markdown",
      "metadata": {
        "id": "QOxPGyCjEqMB"
      },
      "source": [
        "***Sentiment Analysis***"
      ]
    },
    {
      "cell_type": "code",
      "metadata": {
        "id": "VMDGzhI6Juoy",
        "colab": {
          "base_uri": "https://localhost:8080/",
          "height": 34
        },
        "outputId": "54b1596b-d268-4243-e12e-f1024f487bb3"
      },
      "source": [
        "import pandas as pd\n",
        "import numpy as np\n",
        "from google.colab import drive\n",
        "drive.mount('/content/drive')"
      ],
      "execution_count": null,
      "outputs": [
        {
          "output_type": "stream",
          "text": [
            "Drive already mounted at /content/drive; to attempt to forcibly remount, call drive.mount(\"/content/drive\", force_remount=True).\n"
          ],
          "name": "stdout"
        }
      ]
    },
    {
      "cell_type": "code",
      "metadata": {
        "id": "YiCGYp7_TEd8",
        "colab": {
          "base_uri": "https://localhost:8080/",
          "height": 878
        },
        "outputId": "d652af0c-d449-4afc-8ea2-0dd7d8f5001f"
      },
      "source": [
        "reviews_datasets = pd.read_csv('drive/My Drive/Data/Review.csv')\n",
        "#reviews_datasets = reviews_datasets.head(20000)\n",
        "reviews_datasets.dropna()"
      ],
      "execution_count": null,
      "outputs": [
        {
          "output_type": "execute_result",
          "data": {
            "text/html": [
              "<div>\n",
              "<style scoped>\n",
              "    .dataframe tbody tr th:only-of-type {\n",
              "        vertical-align: middle;\n",
              "    }\n",
              "\n",
              "    .dataframe tbody tr th {\n",
              "        vertical-align: top;\n",
              "    }\n",
              "\n",
              "    .dataframe thead th {\n",
              "        text-align: right;\n",
              "    }\n",
              "</style>\n",
              "<table border=\"1\" class=\"dataframe\">\n",
              "  <thead>\n",
              "    <tr style=\"text-align: right;\">\n",
              "      <th></th>\n",
              "      <th>Id</th>\n",
              "      <th>ProductId</th>\n",
              "      <th>UserId</th>\n",
              "      <th>ProfileName</th>\n",
              "      <th>HelpfulnessNumerator</th>\n",
              "      <th>HelpfulnessDenominator</th>\n",
              "      <th>Score</th>\n",
              "      <th>Time</th>\n",
              "      <th>Summary</th>\n",
              "      <th>Text</th>\n",
              "    </tr>\n",
              "  </thead>\n",
              "  <tbody>\n",
              "    <tr>\n",
              "      <th>0</th>\n",
              "      <td>1</td>\n",
              "      <td>B001E4KFG0</td>\n",
              "      <td>A3SGXH7AUHU8GW</td>\n",
              "      <td>delmartian</td>\n",
              "      <td>1</td>\n",
              "      <td>1</td>\n",
              "      <td>5</td>\n",
              "      <td>1303862400</td>\n",
              "      <td>Good Quality Dog Food</td>\n",
              "      <td>I have bought several of the Vitality canned d...</td>\n",
              "    </tr>\n",
              "    <tr>\n",
              "      <th>1</th>\n",
              "      <td>2</td>\n",
              "      <td>B00813GRG4</td>\n",
              "      <td>A1D87F6ZCVE5NK</td>\n",
              "      <td>dll pa</td>\n",
              "      <td>0</td>\n",
              "      <td>0</td>\n",
              "      <td>1</td>\n",
              "      <td>1346976000</td>\n",
              "      <td>Not as Advertised</td>\n",
              "      <td>Product arrived labeled as Jumbo Salted Peanut...</td>\n",
              "    </tr>\n",
              "    <tr>\n",
              "      <th>2</th>\n",
              "      <td>3</td>\n",
              "      <td>B000LQOCH0</td>\n",
              "      <td>ABXLMWJIXXAIN</td>\n",
              "      <td>Natalia Corres \"Natalia Corres\"</td>\n",
              "      <td>1</td>\n",
              "      <td>1</td>\n",
              "      <td>4</td>\n",
              "      <td>1219017600</td>\n",
              "      <td>\"Delight\" says it all</td>\n",
              "      <td>This is a confection that has been around a fe...</td>\n",
              "    </tr>\n",
              "    <tr>\n",
              "      <th>3</th>\n",
              "      <td>4</td>\n",
              "      <td>B000UA0QIQ</td>\n",
              "      <td>A395BORC6FGVXV</td>\n",
              "      <td>Karl</td>\n",
              "      <td>3</td>\n",
              "      <td>3</td>\n",
              "      <td>2</td>\n",
              "      <td>1307923200</td>\n",
              "      <td>Cough Medicine</td>\n",
              "      <td>If you are looking for the secret ingredient i...</td>\n",
              "    </tr>\n",
              "    <tr>\n",
              "      <th>4</th>\n",
              "      <td>5</td>\n",
              "      <td>B006K2ZZ7K</td>\n",
              "      <td>A1UQRSCLF8GW1T</td>\n",
              "      <td>Michael D. Bigham \"M. Wassir\"</td>\n",
              "      <td>0</td>\n",
              "      <td>0</td>\n",
              "      <td>5</td>\n",
              "      <td>1350777600</td>\n",
              "      <td>Great taffy</td>\n",
              "      <td>Great taffy at a great price.  There was a wid...</td>\n",
              "    </tr>\n",
              "    <tr>\n",
              "      <th>...</th>\n",
              "      <td>...</td>\n",
              "      <td>...</td>\n",
              "      <td>...</td>\n",
              "      <td>...</td>\n",
              "      <td>...</td>\n",
              "      <td>...</td>\n",
              "      <td>...</td>\n",
              "      <td>...</td>\n",
              "      <td>...</td>\n",
              "      <td>...</td>\n",
              "    </tr>\n",
              "    <tr>\n",
              "      <th>19995</th>\n",
              "      <td>19996</td>\n",
              "      <td>B002C50X1M</td>\n",
              "      <td>A1XRXZI5KOMVDD</td>\n",
              "      <td>KAF1958 \"amandaf0626\"</td>\n",
              "      <td>0</td>\n",
              "      <td>0</td>\n",
              "      <td>4</td>\n",
              "      <td>1307664000</td>\n",
              "      <td>Crispy and tart</td>\n",
              "      <td>Deep River Salt &amp; Vinegar chips are thick and ...</td>\n",
              "    </tr>\n",
              "    <tr>\n",
              "      <th>19996</th>\n",
              "      <td>19997</td>\n",
              "      <td>B002C50X1M</td>\n",
              "      <td>A7G9M0IE7LABX</td>\n",
              "      <td>Kevin</td>\n",
              "      <td>0</td>\n",
              "      <td>0</td>\n",
              "      <td>5</td>\n",
              "      <td>1307059200</td>\n",
              "      <td>Exceeded my expectations. One of the best chip...</td>\n",
              "      <td>I was very skeptical about buying a brand of c...</td>\n",
              "    </tr>\n",
              "    <tr>\n",
              "      <th>19997</th>\n",
              "      <td>19998</td>\n",
              "      <td>B002C50X1M</td>\n",
              "      <td>A38J5PRUDESMZF</td>\n",
              "      <td>ray</td>\n",
              "      <td>0</td>\n",
              "      <td>0</td>\n",
              "      <td>5</td>\n",
              "      <td>1305763200</td>\n",
              "      <td>Awesome Goodness! (deep river kettle chips, sw...</td>\n",
              "      <td>Before you turn to other name brands out there...</td>\n",
              "    </tr>\n",
              "    <tr>\n",
              "      <th>19998</th>\n",
              "      <td>19999</td>\n",
              "      <td>B002C50X1M</td>\n",
              "      <td>A17TPOSAG43GSM</td>\n",
              "      <td>Herrick</td>\n",
              "      <td>0</td>\n",
              "      <td>0</td>\n",
              "      <td>3</td>\n",
              "      <td>1303171200</td>\n",
              "      <td>Pretty good, but prefer other jalapeno chips</td>\n",
              "      <td>I was expecting some \"serious flavor\" as it wa...</td>\n",
              "    </tr>\n",
              "    <tr>\n",
              "      <th>19999</th>\n",
              "      <td>20000</td>\n",
              "      <td>B002C50X1M</td>\n",
              "      <td>A3LWC833HQIG7J</td>\n",
              "      <td>austin_Larry</td>\n",
              "      <td>0</td>\n",
              "      <td>0</td>\n",
              "      <td>5</td>\n",
              "      <td>1295568000</td>\n",
              "      <td>Excellent chips, full of flavor and just the r...</td>\n",
              "      <td>I purchased the Salt and Vinegar chips and hav...</td>\n",
              "    </tr>\n",
              "  </tbody>\n",
              "</table>\n",
              "<p>20000 rows × 10 columns</p>\n",
              "</div>"
            ],
            "text/plain": [
              "          Id  ...                                               Text\n",
              "0          1  ...  I have bought several of the Vitality canned d...\n",
              "1          2  ...  Product arrived labeled as Jumbo Salted Peanut...\n",
              "2          3  ...  This is a confection that has been around a fe...\n",
              "3          4  ...  If you are looking for the secret ingredient i...\n",
              "4          5  ...  Great taffy at a great price.  There was a wid...\n",
              "...      ...  ...                                                ...\n",
              "19995  19996  ...  Deep River Salt & Vinegar chips are thick and ...\n",
              "19996  19997  ...  I was very skeptical about buying a brand of c...\n",
              "19997  19998  ...  Before you turn to other name brands out there...\n",
              "19998  19999  ...  I was expecting some \"serious flavor\" as it wa...\n",
              "19999  20000  ...  I purchased the Salt and Vinegar chips and hav...\n",
              "\n",
              "[20000 rows x 10 columns]"
            ]
          },
          "metadata": {
            "tags": []
          },
          "execution_count": 82
        }
      ]
    },
    {
      "cell_type": "code",
      "metadata": {
        "id": "0xyH_t84NuDv",
        "colab": {
          "base_uri": "https://localhost:8080/",
          "height": 306
        },
        "outputId": "fa9d34ec-f40b-4683-83d6-90ca5762b964"
      },
      "source": [
        "reviews_datasets.head()"
      ],
      "execution_count": null,
      "outputs": [
        {
          "output_type": "execute_result",
          "data": {
            "text/html": [
              "<div>\n",
              "<style scoped>\n",
              "    .dataframe tbody tr th:only-of-type {\n",
              "        vertical-align: middle;\n",
              "    }\n",
              "\n",
              "    .dataframe tbody tr th {\n",
              "        vertical-align: top;\n",
              "    }\n",
              "\n",
              "    .dataframe thead th {\n",
              "        text-align: right;\n",
              "    }\n",
              "</style>\n",
              "<table border=\"1\" class=\"dataframe\">\n",
              "  <thead>\n",
              "    <tr style=\"text-align: right;\">\n",
              "      <th></th>\n",
              "      <th>Id</th>\n",
              "      <th>ProductId</th>\n",
              "      <th>UserId</th>\n",
              "      <th>ProfileName</th>\n",
              "      <th>HelpfulnessNumerator</th>\n",
              "      <th>HelpfulnessDenominator</th>\n",
              "      <th>Score</th>\n",
              "      <th>Time</th>\n",
              "      <th>Summary</th>\n",
              "      <th>Text</th>\n",
              "    </tr>\n",
              "  </thead>\n",
              "  <tbody>\n",
              "    <tr>\n",
              "      <th>0</th>\n",
              "      <td>1</td>\n",
              "      <td>B001E4KFG0</td>\n",
              "      <td>A3SGXH7AUHU8GW</td>\n",
              "      <td>delmartian</td>\n",
              "      <td>1</td>\n",
              "      <td>1</td>\n",
              "      <td>5</td>\n",
              "      <td>1303862400</td>\n",
              "      <td>Good Quality Dog Food</td>\n",
              "      <td>I have bought several of the Vitality canned d...</td>\n",
              "    </tr>\n",
              "    <tr>\n",
              "      <th>1</th>\n",
              "      <td>2</td>\n",
              "      <td>B00813GRG4</td>\n",
              "      <td>A1D87F6ZCVE5NK</td>\n",
              "      <td>dll pa</td>\n",
              "      <td>0</td>\n",
              "      <td>0</td>\n",
              "      <td>1</td>\n",
              "      <td>1346976000</td>\n",
              "      <td>Not as Advertised</td>\n",
              "      <td>Product arrived labeled as Jumbo Salted Peanut...</td>\n",
              "    </tr>\n",
              "    <tr>\n",
              "      <th>2</th>\n",
              "      <td>3</td>\n",
              "      <td>B000LQOCH0</td>\n",
              "      <td>ABXLMWJIXXAIN</td>\n",
              "      <td>Natalia Corres \"Natalia Corres\"</td>\n",
              "      <td>1</td>\n",
              "      <td>1</td>\n",
              "      <td>4</td>\n",
              "      <td>1219017600</td>\n",
              "      <td>\"Delight\" says it all</td>\n",
              "      <td>This is a confection that has been around a fe...</td>\n",
              "    </tr>\n",
              "    <tr>\n",
              "      <th>3</th>\n",
              "      <td>4</td>\n",
              "      <td>B000UA0QIQ</td>\n",
              "      <td>A395BORC6FGVXV</td>\n",
              "      <td>Karl</td>\n",
              "      <td>3</td>\n",
              "      <td>3</td>\n",
              "      <td>2</td>\n",
              "      <td>1307923200</td>\n",
              "      <td>Cough Medicine</td>\n",
              "      <td>If you are looking for the secret ingredient i...</td>\n",
              "    </tr>\n",
              "    <tr>\n",
              "      <th>4</th>\n",
              "      <td>5</td>\n",
              "      <td>B006K2ZZ7K</td>\n",
              "      <td>A1UQRSCLF8GW1T</td>\n",
              "      <td>Michael D. Bigham \"M. Wassir\"</td>\n",
              "      <td>0</td>\n",
              "      <td>0</td>\n",
              "      <td>5</td>\n",
              "      <td>1350777600</td>\n",
              "      <td>Great taffy</td>\n",
              "      <td>Great taffy at a great price.  There was a wid...</td>\n",
              "    </tr>\n",
              "  </tbody>\n",
              "</table>\n",
              "</div>"
            ],
            "text/plain": [
              "   Id  ...                                               Text\n",
              "0   1  ...  I have bought several of the Vitality canned d...\n",
              "1   2  ...  Product arrived labeled as Jumbo Salted Peanut...\n",
              "2   3  ...  This is a confection that has been around a fe...\n",
              "3   4  ...  If you are looking for the secret ingredient i...\n",
              "4   5  ...  Great taffy at a great price.  There was a wid...\n",
              "\n",
              "[5 rows x 10 columns]"
            ]
          },
          "metadata": {
            "tags": []
          },
          "execution_count": 83
        }
      ]
    },
    {
      "cell_type": "code",
      "metadata": {
        "id": "g5uqXOMcJzEG",
        "colab": {
          "base_uri": "https://localhost:8080/",
          "height": 296
        },
        "outputId": "a63a98a6-9165-4ca1-ed97-2a7d38fddc26"
      },
      "source": [
        "import seaborn as sns\n",
        "import matplotlib.pyplot as plt\n",
        "%matplotlib inline\n",
        "sns.distplot(reviews_datasets['Score'])"
      ],
      "execution_count": null,
      "outputs": [
        {
          "output_type": "execute_result",
          "data": {
            "text/plain": [
              "<matplotlib.axes._subplots.AxesSubplot at 0x7f5e10884240>"
            ]
          },
          "metadata": {
            "tags": []
          },
          "execution_count": 84
        },
        {
          "output_type": "display_data",
          "data": {
            "image/png": "[encoded data removed]",
            "text/plain": [
              "<Figure size 432x288 with 1 Axes>"
            ]
          },
          "metadata": {
            "tags": []
          }
        }
      ]
    },
    {
      "cell_type": "code",
      "metadata": {
        "id": "OI0AMoH2QzSr",
        "colab": {
          "base_uri": "https://localhost:8080/",
          "height": 296
        },
        "outputId": "cc5b3b16-58ae-4856-df64-211ca27e5357"
      },
      "source": [
        "sns.countplot(x='Score', data=reviews_datasets)"
      ],
      "execution_count": null,
      "outputs": [
        {
          "output_type": "execute_result",
          "data": {
            "text/plain": [
              "<matplotlib.axes._subplots.AxesSubplot at 0x7f5e024aeb00>"
            ]
          },
          "metadata": {
            "tags": []
          },
          "execution_count": 85
        },
        {
          "output_type": "display_data",
          "data": {
            "image/png": "[encoded data removed]",
            "text/plain": [
              "<Figure size 432x288 with 1 Axes>"
            ]
          },
          "metadata": {
            "tags": []
          }
        }
      ]
    },
    {
      "cell_type": "code",
      "metadata": {
        "id": "1sMyxVizQ0FN",
        "colab": {
          "base_uri": "https://localhost:8080/",
          "height": 54
        },
        "outputId": "a256a7b3-fd60-4075-8377-5bb131b3225c"
      },
      "source": [
        "reviews_datasets['Text'][350]"
      ],
      "execution_count": null,
      "outputs": [
        {
          "output_type": "execute_result",
          "data": {
            "text/plain": [
              "'These chocolate covered espresso beans are wonderful!  The chocolate is very dark and rich and the \"bean\" inside is a very delightful blend of flavors with just enough caffine to really give it a zing.'"
            ]
          },
          "metadata": {
            "tags": []
          },
          "execution_count": 86
        }
      ]
    },
    {
      "cell_type": "code",
      "metadata": {
        "id": "hjOIL40aQ4HY",
        "colab": {
          "base_uri": "https://localhost:8080/",
          "height": 34
        },
        "outputId": "975a5c5c-7844-4b26-f4d2-c1af78dda80f"
      },
      "source": [
        "text_blob_object = TextBlob(reviews_datasets['Text'][350])\n",
        "print(text_blob_object.sentiment)"
      ],
      "execution_count": null,
      "outputs": [
        {
          "output_type": "stream",
          "text": [
            "Sentiment(polarity=0.39666666666666667, subjectivity=0.6616666666666667)\n"
          ],
          "name": "stdout"
        }
      ]
    },
    {
      "cell_type": "code",
      "metadata": {
        "id": "s6kTaJILQ8Ll",
        "colab": {
          "base_uri": "https://localhost:8080/",
          "height": 578
        },
        "outputId": "403f8f13-ed1e-4ef6-c1ef-420521f62cbc"
      },
      "source": [
        "def find_pol(review):\n",
        "    return TextBlob(review).sentiment.polarity\n",
        "\n",
        "reviews_datasets['Sentiment_Polarity'] = reviews_datasets['Text'].apply(find_pol)\n",
        "reviews_datasets.head()"
      ],
      "execution_count": null,
      "outputs": [
        {
          "output_type": "execute_result",
          "data": {
            "text/html": [
              "<div>\n",
              "<style scoped>\n",
              "    .dataframe tbody tr th:only-of-type {\n",
              "        vertical-align: middle;\n",
              "    }\n",
              "\n",
              "    .dataframe tbody tr th {\n",
              "        vertical-align: top;\n",
              "    }\n",
              "\n",
              "    .dataframe thead th {\n",
              "        text-align: right;\n",
              "    }\n",
              "</style>\n",
              "<table border=\"1\" class=\"dataframe\">\n",
              "  <thead>\n",
              "    <tr style=\"text-align: right;\">\n",
              "      <th></th>\n",
              "      <th>Id</th>\n",
              "      <th>ProductId</th>\n",
              "      <th>UserId</th>\n",
              "      <th>ProfileName</th>\n",
              "      <th>HelpfulnessNumerator</th>\n",
              "      <th>HelpfulnessDenominator</th>\n",
              "      <th>Score</th>\n",
              "      <th>Time</th>\n",
              "      <th>Summary</th>\n",
              "      <th>Text</th>\n",
              "      <th>Sentiment_Polarity</th>\n",
              "    </tr>\n",
              "  </thead>\n",
              "  <tbody>\n",
              "    <tr>\n",
              "      <th>0</th>\n",
              "      <td>1</td>\n",
              "      <td>B001E4KFG0</td>\n",
              "      <td>A3SGXH7AUHU8GW</td>\n",
              "      <td>delmartian</td>\n",
              "      <td>1</td>\n",
              "      <td>1</td>\n",
              "      <td>5</td>\n",
              "      <td>1303862400</td>\n",
              "      <td>Good Quality Dog Food</td>\n",
              "      <td>I have bought several of the Vitality canned d...</td>\n",
              "      <td>0.450000</td>\n",
              "    </tr>\n",
              "    <tr>\n",
              "      <th>1</th>\n",
              "      <td>2</td>\n",
              "      <td>B00813GRG4</td>\n",
              "      <td>A1D87F6ZCVE5NK</td>\n",
              "      <td>dll pa</td>\n",
              "      <td>0</td>\n",
              "      <td>0</td>\n",
              "      <td>1</td>\n",
              "      <td>1346976000</td>\n",
              "      <td>Not as Advertised</td>\n",
              "      <td>Product arrived labeled as Jumbo Salted Peanut...</td>\n",
              "      <td>-0.033333</td>\n",
              "    </tr>\n",
              "    <tr>\n",
              "      <th>2</th>\n",
              "      <td>3</td>\n",
              "      <td>B000LQOCH0</td>\n",
              "      <td>ABXLMWJIXXAIN</td>\n",
              "      <td>Natalia Corres \"Natalia Corres\"</td>\n",
              "      <td>1</td>\n",
              "      <td>1</td>\n",
              "      <td>4</td>\n",
              "      <td>1219017600</td>\n",
              "      <td>\"Delight\" says it all</td>\n",
              "      <td>This is a confection that has been around a fe...</td>\n",
              "      <td>0.133571</td>\n",
              "    </tr>\n",
              "    <tr>\n",
              "      <th>3</th>\n",
              "      <td>4</td>\n",
              "      <td>B000UA0QIQ</td>\n",
              "      <td>A395BORC6FGVXV</td>\n",
              "      <td>Karl</td>\n",
              "      <td>3</td>\n",
              "      <td>3</td>\n",
              "      <td>2</td>\n",
              "      <td>1307923200</td>\n",
              "      <td>Cough Medicine</td>\n",
              "      <td>If you are looking for the secret ingredient i...</td>\n",
              "      <td>0.166667</td>\n",
              "    </tr>\n",
              "    <tr>\n",
              "      <th>4</th>\n",
              "      <td>5</td>\n",
              "      <td>B006K2ZZ7K</td>\n",
              "      <td>A1UQRSCLF8GW1T</td>\n",
              "      <td>Michael D. Bigham \"M. Wassir\"</td>\n",
              "      <td>0</td>\n",
              "      <td>0</td>\n",
              "      <td>5</td>\n",
              "      <td>1350777600</td>\n",
              "      <td>Great taffy</td>\n",
              "      <td>Great taffy at a great price.  There was a wid...</td>\n",
              "      <td>0.483333</td>\n",
              "    </tr>\n",
              "  </tbody>\n",
              "</table>\n",
              "</div>"
            ],
            "text/plain": [
              "   Id  ... Sentiment_Polarity\n",
              "0   1  ...           0.450000\n",
              "1   2  ...          -0.033333\n",
              "2   3  ...           0.133571\n",
              "3   4  ...           0.166667\n",
              "4   5  ...           0.483333\n",
              "\n",
              "[5 rows x 11 columns]"
            ]
          },
          "metadata": {
            "tags": []
          },
          "execution_count": 88
        }
      ]
    },
    {
      "cell_type": "code",
      "metadata": {
        "id": "b0Y8XhdfRAYl",
        "colab": {
          "base_uri": "https://localhost:8080/",
          "height": 297
        },
        "outputId": "4d736d06-f5dc-40c9-d05d-4938e5303be9"
      },
      "source": [
        "sns.distplot(reviews_datasets['Sentiment_Polarity'])"
      ],
      "execution_count": null,
      "outputs": [
        {
          "output_type": "execute_result",
          "data": {
            "text/plain": [
              "<matplotlib.axes._subplots.AxesSubplot at 0x7f5e01bf54e0>"
            ]
          },
          "metadata": {
            "tags": []
          },
          "execution_count": 89
        },
        {
          "output_type": "display_data",
          "data": {
            "image/png": "[encoded data removed]",
            "text/plain": [
              "<Figure size 432x288 with 1 Axes>"
            ]
          },
          "metadata": {
            "tags": []
          }
        }
      ]
    },
    {
      "cell_type": "code",
      "metadata": {
        "id": "7IFHhE2sRCvG",
        "colab": {
          "base_uri": "https://localhost:8080/",
          "height": 296
        },
        "outputId": "ea73defc-e17e-4f70-d795-6b1b06d97d3f"
      },
      "source": [
        "sns.barplot(x='Score', y='Sentiment_Polarity', data=reviews_datasets)"
      ],
      "execution_count": null,
      "outputs": [
        {
          "output_type": "execute_result",
          "data": {
            "text/plain": [
              "<matplotlib.axes._subplots.AxesSubplot at 0x7f5e01f0e668>"
            ]
          },
          "metadata": {
            "tags": []
          },
          "execution_count": 90
        },
        {
          "output_type": "display_data",
          "data": {
            "image/png": "[encoded data removed]",
            "text/plain": [
              "<Figure size 432x288 with 1 Axes>"
            ]
          },
          "metadata": {
            "tags": []
          }
        }
      ]
    },
    {
      "cell_type": "code",
      "metadata": {
        "id": "RuFdybRlRIlb",
        "colab": {
          "base_uri": "https://localhost:8080/",
          "height": 119
        },
        "outputId": "03a4c809-e534-4e0c-b175-4cb83f765971"
      },
      "source": [
        "most_negative = reviews_datasets[reviews_datasets.Sentiment_Polarity == -1].Text.head()\n",
        "print(most_negative)"
      ],
      "execution_count": null,
      "outputs": [
        {
          "output_type": "stream",
          "text": [
            "545     These chips are nasty.  I thought someone had ...\n",
            "1083    All my fault. I thought this would be a carton...\n",
            "1832    Pop Chips are basically a horribly over-priced...\n",
            "2087    I do not consider Gingerbread, Spicy Eggnog, C...\n",
            "2763    This popcorn has alot of hulls I order 4 bags ...\n",
            "Name: Text, dtype: object\n"
          ],
          "name": "stdout"
        }
      ]
    },
    {
      "cell_type": "code",
      "metadata": {
        "id": "3DQvTxqcRLxp",
        "colab": {
          "base_uri": "https://localhost:8080/",
          "height": 34
        },
        "outputId": "99359dad-0a4f-40da-83f6-2419bf70bb0b"
      },
      "source": [
        "reviews_datasets['Text'][545]"
      ],
      "execution_count": null,
      "outputs": [
        {
          "output_type": "execute_result",
          "data": {
            "text/plain": [
              "'These chips are nasty.  I thought someone had spilled a drink in the bag, no the chips were just soaked with grease.  Nasty!!'"
            ]
          },
          "metadata": {
            "tags": []
          },
          "execution_count": 92
        }
      ]
    },
    {
      "cell_type": "code",
      "metadata": {
        "id": "VnpQNaZbROBj",
        "colab": {
          "base_uri": "https://localhost:8080/",
          "height": 119
        },
        "outputId": "138971ff-5c37-4ef7-c95a-5bfb6239f545"
      },
      "source": [
        "most_positive = reviews_datasets[reviews_datasets.Sentiment_Polarity == 1].Text.head()\n",
        "print(most_positive)"
      ],
      "execution_count": null,
      "outputs": [
        {
          "output_type": "stream",
          "text": [
            "106     not what I was expecting in terms of the compa...\n",
            "223     This is an excellent tea.  One of the best I h...\n",
            "338     I like a lot of sesame oil and use it in salad...\n",
            "796     My mother and father were the recipient of the...\n",
            "1031    The Kelloggs Muselix are delicious and the del...\n",
            "Name: Text, dtype: object\n"
          ],
          "name": "stdout"
        }
      ]
    },
    {
      "cell_type": "code",
      "metadata": {
        "id": "GlEKoX7IRRUx",
        "colab": {
          "base_uri": "https://localhost:8080/",
          "height": 34
        },
        "outputId": "acfd4e07-d943-44bb-edfa-863303765c0f"
      },
      "source": [
        "reviews_datasets['Text'][106]"
      ],
      "execution_count": null,
      "outputs": [
        {
          "output_type": "execute_result",
          "data": {
            "text/plain": [
              "\"not what I was expecting in terms of the company's reputation for excellent home delivery products\""
            ]
          },
          "metadata": {
            "tags": []
          },
          "execution_count": 94
        }
      ]
    },
    {
      "cell_type": "code",
      "metadata": {
        "id": "M_vUuw8eRTrx",
        "colab": {
          "base_uri": "https://localhost:8080/",
          "height": 34
        },
        "outputId": "56223317-12bb-49ab-ab09-069714d18a20"
      },
      "source": [
        "reviews_datasets['Text'][223]"
      ],
      "execution_count": null,
      "outputs": [
        {
          "output_type": "execute_result",
          "data": {
            "text/plain": [
              "'This is an excellent tea.  One of the best I have ever had.  It is especially great when you prepare it with a samovar.'"
            ]
          },
          "metadata": {
            "tags": []
          },
          "execution_count": 95
        }
      ]
    }
  ]
}